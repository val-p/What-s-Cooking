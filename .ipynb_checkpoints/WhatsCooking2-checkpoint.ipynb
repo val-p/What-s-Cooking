{
 "cells": [
  {
   "cell_type": "markdown",
   "metadata": {
    "colab_type": "text",
    "id": "a5u2uHXE6q9V"
   },
   "source": [
    "# What's Cooking ?!"
   ]
  },
  {
   "cell_type": "code",
   "execution_count": 1,
   "metadata": {
    "colab": {},
    "colab_type": "code",
    "id": "2ruHrLzZ6q9X"
   },
   "outputs": [],
   "source": [
    "# Librairies \n",
    "import pandas as pd\n",
    "import numpy as np\n",
    "from scipy import stats as scs\n",
    "import matplotlib.pyplot as plt\n",
    "import seaborn as sns\n",
    "from sklearn import datasets, linear_model\n",
    "from sklearn.model_selection import train_test_split\n",
    "from sklearn.metrics import accuracy_score\n",
    "import random\n",
    "import re\n",
    "from time import time\n",
    "\n",
    "pd.options.mode.chained_assignment = None\n",
    "pd.set_option('display.max_columns', 60)"
   ]
  },
  {
   "cell_type": "markdown",
   "metadata": {
    "colab_type": "text",
    "id": "smPbuqZ76q9c"
   },
   "source": [
    "## Load and check data"
   ]
  },
  {
   "cell_type": "code",
   "execution_count": 2,
   "metadata": {
    "colab": {},
    "colab_type": "code",
    "id": "E3qfwGqz6q9d"
   },
   "outputs": [],
   "source": [
    "import codecs\n",
    "\n",
    "df_train = pd.read_json('train.json')\n",
    "df_test = pd.read_json('test.json')\n"
   ]
  },
  {
   "cell_type": "code",
   "execution_count": 3,
   "metadata": {
    "colab": {
     "base_uri": "https://localhost:8080/",
     "height": 204
    },
    "colab_type": "code",
    "id": "pd-oA2wD6q9g",
    "outputId": "e905ed57-e37c-4263-cbb3-b62c076c1ea7"
   },
   "outputs": [
    {
     "data": {
      "text/html": [
       "<div>\n",
       "<style scoped>\n",
       "    .dataframe tbody tr th:only-of-type {\n",
       "        vertical-align: middle;\n",
       "    }\n",
       "\n",
       "    .dataframe tbody tr th {\n",
       "        vertical-align: top;\n",
       "    }\n",
       "\n",
       "    .dataframe thead th {\n",
       "        text-align: right;\n",
       "    }\n",
       "</style>\n",
       "<table border=\"1\" class=\"dataframe\">\n",
       "  <thead>\n",
       "    <tr style=\"text-align: right;\">\n",
       "      <th></th>\n",
       "      <th>cuisine</th>\n",
       "      <th>id</th>\n",
       "      <th>ingredients</th>\n",
       "    </tr>\n",
       "  </thead>\n",
       "  <tbody>\n",
       "    <tr>\n",
       "      <th>0</th>\n",
       "      <td>greek</td>\n",
       "      <td>10259</td>\n",
       "      <td>[romaine lettuce, black olives, grape tomatoes...</td>\n",
       "    </tr>\n",
       "    <tr>\n",
       "      <th>1</th>\n",
       "      <td>southern_us</td>\n",
       "      <td>25693</td>\n",
       "      <td>[plain flour, ground pepper, salt, tomatoes, g...</td>\n",
       "    </tr>\n",
       "    <tr>\n",
       "      <th>2</th>\n",
       "      <td>filipino</td>\n",
       "      <td>20130</td>\n",
       "      <td>[eggs, pepper, salt, mayonaise, cooking oil, g...</td>\n",
       "    </tr>\n",
       "    <tr>\n",
       "      <th>3</th>\n",
       "      <td>indian</td>\n",
       "      <td>22213</td>\n",
       "      <td>[water, vegetable oil, wheat, salt]</td>\n",
       "    </tr>\n",
       "    <tr>\n",
       "      <th>4</th>\n",
       "      <td>indian</td>\n",
       "      <td>13162</td>\n",
       "      <td>[black pepper, shallots, cornflour, cayenne pe...</td>\n",
       "    </tr>\n",
       "  </tbody>\n",
       "</table>\n",
       "</div>"
      ],
      "text/plain": [
       "       cuisine     id                                        ingredients\n",
       "0        greek  10259  [romaine lettuce, black olives, grape tomatoes...\n",
       "1  southern_us  25693  [plain flour, ground pepper, salt, tomatoes, g...\n",
       "2     filipino  20130  [eggs, pepper, salt, mayonaise, cooking oil, g...\n",
       "3       indian  22213                [water, vegetable oil, wheat, salt]\n",
       "4       indian  13162  [black pepper, shallots, cornflour, cayenne pe..."
      ]
     },
     "execution_count": 3,
     "metadata": {},
     "output_type": "execute_result"
    }
   ],
   "source": [
    "df_train.head()"
   ]
  },
  {
   "cell_type": "code",
   "execution_count": 4,
   "metadata": {
    "colab": {
     "base_uri": "https://localhost:8080/",
     "height": 51
    },
    "colab_type": "code",
    "id": "Llgy4bgy6q9o",
    "outputId": "bdb401a6-ba7a-4292-e995-4a8086f7f594"
   },
   "outputs": [
    {
     "name": "stdout",
     "output_type": "stream",
     "text": [
      "Dimension train set :  (39774, 3)\n",
      "Dimension test set :  (9944, 2)\n"
     ]
    }
   ],
   "source": [
    "print('Dimension train set : ', df_train.shape)\n",
    "print('Dimension test set : ', df_test.shape)"
   ]
  },
  {
   "cell_type": "code",
   "execution_count": 5,
   "metadata": {
    "colab": {
     "base_uri": "https://localhost:8080/",
     "height": 170
    },
    "colab_type": "code",
    "id": "OkFs7c3y6q9t",
    "outputId": "643218fd-dcd3-4c69-dea2-35a48b2cba4d"
   },
   "outputs": [
    {
     "data": {
      "text/plain": [
       "['romaine lettuce',\n",
       " 'black olives',\n",
       " 'grape tomatoes',\n",
       " 'garlic',\n",
       " 'pepper',\n",
       " 'purple onion',\n",
       " 'seasoning',\n",
       " 'garbanzo beans',\n",
       " 'feta cheese crumbles']"
      ]
     },
     "execution_count": 5,
     "metadata": {},
     "output_type": "execute_result"
    }
   ],
   "source": [
    "# Let's see some ingredients\n",
    "df_train.iloc[0,2]"
   ]
  },
  {
   "cell_type": "code",
   "execution_count": 6,
   "metadata": {
    "colab": {
     "base_uri": "https://localhost:8080/",
     "height": 51
    },
    "colab_type": "code",
    "id": "14YZjOqU6q9y",
    "outputId": "5a5d7af4-1da0-49d3-c126-de66656d1e04"
   },
   "outputs": [
    {
     "name": "stdout",
     "output_type": "stream",
     "text": [
      "Number of unique id :  39774\n",
      "Number of unique cuisine type : 20\n"
     ]
    }
   ],
   "source": [
    "print('Number of unique id : ', len(df_train['id'].unique()))\n",
    "print('Number of unique cuisine type :', len(df_train['cuisine'].unique()))"
   ]
  },
  {
   "cell_type": "code",
   "execution_count": 7,
   "metadata": {
    "colab": {
     "base_uri": "https://localhost:8080/",
     "height": 374
    },
    "colab_type": "code",
    "id": "JuhVlJY26q91",
    "outputId": "e24dacfc-bc47-4fe9-a3a5-3626bac586e8"
   },
   "outputs": [
    {
     "name": "stdout",
     "output_type": "stream",
     "text": [
      "Distribution of cuisine type : italian         7838\n",
      "mexican         6438\n",
      "southern_us     4320\n",
      "indian          3003\n",
      "chinese         2673\n",
      "french          2646\n",
      "cajun_creole    1546\n",
      "thai            1539\n",
      "japanese        1423\n",
      "greek           1175\n",
      "spanish          989\n",
      "korean           830\n",
      "vietnamese       825\n",
      "moroccan         821\n",
      "british          804\n",
      "filipino         755\n",
      "irish            667\n",
      "jamaican         526\n",
      "russian          489\n",
      "brazilian        467\n",
      "Name: cuisine, dtype: int64\n"
     ]
    }
   ],
   "source": [
    "print('Distribution of cuisine type :', df_train['cuisine'].value_counts())"
   ]
  },
  {
   "cell_type": "code",
   "execution_count": 8,
   "metadata": {
    "colab": {
     "base_uri": "https://localhost:8080/",
     "height": 661
    },
    "colab_type": "code",
    "id": "RueV9NQy6q98",
    "outputId": "745479d1-af5f-40c2-bafb-4bf6111af926"
   },
   "outputs": [
    {
     "data": {
      "image/png": "[encoded data removed]",
      "text/plain": [
       "<Figure size 1440x720 with 1 Axes>"
      ]
     },
     "metadata": {
      "needs_background": "light"
     },
     "output_type": "display_data"
    }
   ],
   "source": [
    "# Check distribution of cuisine type\n",
    "plt.figure(figsize=(20,10))\n",
    "ax = sns.countplot(df_train['cuisine'], order=df_train['cuisine'].value_counts().index)\n",
    "ax.set_title('Cuisine Type Distribution', fontsize=15)\n",
    "ax.set_xlabel('Cuisine', fontsize=15)\n",
    "ax.set_ylabel('Count', fontsize=15)\n",
    "plt.show()"
   ]
  },
  {
   "cell_type": "markdown",
   "metadata": {
    "colab_type": "text",
    "id": "-g422GGr6q-B"
   },
   "source": [
    "As we can see, the dataset is quite unbalanced with 6 dominant categories that are Italian, Mexican, South America, Indian, Chinese and French cuisine.  \n",
    "For the rest, the categories are pretty well balanced.\n",
    "\n",
    "Before starting with the preprocessing step, let's see if some words can determine some categories."
   ]
  },
  {
   "cell_type": "code",
   "execution_count": 9,
   "metadata": {
    "colab": {
     "base_uri": "https://localhost:8080/",
     "height": 204
    },
    "colab_type": "code",
    "id": "8BbtvDoB6q-C",
    "outputId": "bf84c384-869c-49d2-e8ba-ff6b2fdb5501"
   },
   "outputs": [
    {
     "data": {
      "text/html": [
       "<div>\n",
       "<style scoped>\n",
       "    .dataframe tbody tr th:only-of-type {\n",
       "        vertical-align: middle;\n",
       "    }\n",
       "\n",
       "    .dataframe tbody tr th {\n",
       "        vertical-align: top;\n",
       "    }\n",
       "\n",
       "    .dataframe thead th {\n",
       "        text-align: right;\n",
       "    }\n",
       "</style>\n",
       "<table border=\"1\" class=\"dataframe\">\n",
       "  <thead>\n",
       "    <tr style=\"text-align: right;\">\n",
       "      <th></th>\n",
       "      <th>cuisine</th>\n",
       "      <th>id</th>\n",
       "      <th>ingredients</th>\n",
       "      <th>join</th>\n",
       "    </tr>\n",
       "  </thead>\n",
       "  <tbody>\n",
       "    <tr>\n",
       "      <th>0</th>\n",
       "      <td>greek</td>\n",
       "      <td>10259</td>\n",
       "      <td>[romaine lettuce, black olives, grape tomatoes...</td>\n",
       "      <td>romaine lettuce black olives grape tomatoes ga...</td>\n",
       "    </tr>\n",
       "    <tr>\n",
       "      <th>1</th>\n",
       "      <td>southern_us</td>\n",
       "      <td>25693</td>\n",
       "      <td>[plain flour, ground pepper, salt, tomatoes, g...</td>\n",
       "      <td>plain flour ground pepper salt tomatoes ground...</td>\n",
       "    </tr>\n",
       "    <tr>\n",
       "      <th>2</th>\n",
       "      <td>filipino</td>\n",
       "      <td>20130</td>\n",
       "      <td>[eggs, pepper, salt, mayonaise, cooking oil, g...</td>\n",
       "      <td>eggs pepper salt mayonaise cooking oil green c...</td>\n",
       "    </tr>\n",
       "    <tr>\n",
       "      <th>3</th>\n",
       "      <td>indian</td>\n",
       "      <td>22213</td>\n",
       "      <td>[water, vegetable oil, wheat, salt]</td>\n",
       "      <td>water vegetable oil wheat salt</td>\n",
       "    </tr>\n",
       "    <tr>\n",
       "      <th>4</th>\n",
       "      <td>indian</td>\n",
       "      <td>13162</td>\n",
       "      <td>[black pepper, shallots, cornflour, cayenne pe...</td>\n",
       "      <td>black pepper shallots cornflour cayenne pepper...</td>\n",
       "    </tr>\n",
       "  </tbody>\n",
       "</table>\n",
       "</div>"
      ],
      "text/plain": [
       "       cuisine     id                                        ingredients  \\\n",
       "0        greek  10259  [romaine lettuce, black olives, grape tomatoes...   \n",
       "1  southern_us  25693  [plain flour, ground pepper, salt, tomatoes, g...   \n",
       "2     filipino  20130  [eggs, pepper, salt, mayonaise, cooking oil, g...   \n",
       "3       indian  22213                [water, vegetable oil, wheat, salt]   \n",
       "4       indian  13162  [black pepper, shallots, cornflour, cayenne pe...   \n",
       "\n",
       "                                                join  \n",
       "0  romaine lettuce black olives grape tomatoes ga...  \n",
       "1  plain flour ground pepper salt tomatoes ground...  \n",
       "2  eggs pepper salt mayonaise cooking oil green c...  \n",
       "3                     water vegetable oil wheat salt  \n",
       "4  black pepper shallots cornflour cayenne pepper...  "
      ]
     },
     "execution_count": 9,
     "metadata": {},
     "output_type": "execute_result"
    }
   ],
   "source": [
    "# Join ingredients into one string\n",
    "df_train['join'] = df_train['ingredients'].apply(lambda x: ' '.join(x)) \n",
    "df_train.head()"
   ]
  },
  {
   "cell_type": "code",
   "execution_count": 10,
   "metadata": {
    "colab": {},
    "colab_type": "code",
    "id": "AX3E7xVZ6q-G"
   },
   "outputs": [],
   "source": [
    "def distribution_specific_ingredient(df, col, ingredient):\n",
    "    \n",
    "    plt.figure(figsize=(19,6))\n",
    "    ax = sns.countplot(df[col], order=df.cuisine.value_counts().index)\n",
    "    ax.set_title('Cuisine Type with %s' %ingredient, fontsize=15)\n",
    "    ax.set_xlabel('Cuisine', fontsize=15)\n",
    "    ax.set_ylabel('Count', fontsize=15)\n",
    "    plt.show()\n",
    "\n",
    "    print(\"%s data have %s in their ingredients\" % (df.shape[0], ingredient))\n",
    "    "
   ]
  },
  {
   "cell_type": "code",
   "execution_count": 11,
   "metadata": {
    "colab": {
     "base_uri": "https://localhost:8080/",
     "height": 460
    },
    "colab_type": "code",
    "id": "GEEnS_G26q-J",
    "outputId": "41997703-6fdc-4542-d119-3f4270e8e205"
   },
   "outputs": [
    {
     "data": {
      "image/png": "[encoded data removed]",
      "text/plain": [
       "<Figure size 1368x432 with 1 Axes>"
      ]
     },
     "metadata": {
      "needs_background": "light"
     },
     "output_type": "display_data"
    },
    {
     "name": "stdout",
     "output_type": "stream",
     "text": [
      "20498 data have pepper in their ingredients\n"
     ]
    }
   ],
   "source": [
    "# Let's see data containing some words\n",
    "df = df_train[df_train['join'].str.contains('pepper')]\n",
    "distribution_specific_ingredient(df, 'cuisine', 'pepper')"
   ]
  },
  {
   "cell_type": "markdown",
   "metadata": {
    "colab_type": "text",
    "id": "BgVPMhhF6q-M"
   },
   "source": [
    "As we can see, 50% of the training data have pepper in their ingredients.  \n",
    "The distribution per cuisine type is similar to the previous distribution, we can interpret this by the fact that \"pepper\" is a common ingredient for each cuisine type."
   ]
  },
  {
   "cell_type": "code",
   "execution_count": 12,
   "metadata": {
    "colab": {
     "base_uri": "https://localhost:8080/",
     "height": 460
    },
    "colab_type": "code",
    "id": "WP5ep49U6q-O",
    "outputId": "44ffb67d-599e-4f31-b63c-d866eaee1cb9"
   },
   "outputs": [
    {
     "data": {
      "image/png": "[encoded data removed]",
      "text/plain": [
       "<Figure size 1368x432 with 1 Axes>"
      ]
     },
     "metadata": {
      "needs_background": "light"
     },
     "output_type": "display_data"
    },
    {
     "name": "stdout",
     "output_type": "stream",
     "text": [
      "846 data have italian in their ingredients\n"
     ]
    }
   ],
   "source": [
    "# Let's see data containing some words\n",
    "df_italian = df_train[df_train['join'].str.contains('italian')]\n",
    "distribution_specific_ingredient(df_italian, 'cuisine', 'italian')"
   ]
  },
  {
   "cell_type": "markdown",
   "metadata": {
    "colab_type": "text",
    "id": "8EuTCNkD6q-U"
   },
   "source": [
    "As we can see most of the data containing \"italian\" in the ingredients are Italian type.  \n",
    "10 % of training data of Italian type have the word \"italian\" in their ingredients."
   ]
  },
  {
   "cell_type": "code",
   "execution_count": 13,
   "metadata": {
    "colab": {
     "base_uri": "https://localhost:8080/",
     "height": 460
    },
    "colab_type": "code",
    "id": "HBlFJU9K6q-V",
    "outputId": "21ec51a6-2935-438c-b3ba-eb39d2e1470f"
   },
   "outputs": [
    {
     "data": {
      "image/png": "[encoded data removed]",
      "text/plain": [
       "<Figure size 1368x432 with 1 Axes>"
      ]
     },
     "metadata": {
      "needs_background": "light"
     },
     "output_type": "display_data"
    },
    {
     "name": "stdout",
     "output_type": "stream",
     "text": [
      "5554 data have rice in their ingredients\n"
     ]
    }
   ],
   "source": [
    "df_rice = df_train[df_train['join'].str.contains('rice')]\n",
    "distribution_specific_ingredient(df_rice, 'cuisine', 'rice')"
   ]
  },
  {
   "cell_type": "markdown",
   "metadata": {
    "colab_type": "text",
    "id": "ldF8qgka6q-d"
   },
   "source": [
    "As we can see most of the data containing \"rice\" in the ingredients are asian type of cuisine."
   ]
  },
  {
   "cell_type": "code",
   "execution_count": 14,
   "metadata": {
    "colab": {
     "base_uri": "https://localhost:8080/",
     "height": 460
    },
    "colab_type": "code",
    "id": "fMLN8X2D6q-e",
    "outputId": "c29f7de7-a79e-49db-e4a0-fdc81d7657bf"
   },
   "outputs": [
    {
     "data": {
      "image/png": "[encoded data removed]",
      "text/plain": [
       "<Figure size 1368x432 with 1 Axes>"
      ]
     },
     "metadata": {
      "needs_background": "light"
     },
     "output_type": "display_data"
    },
    {
     "name": "stdout",
     "output_type": "stream",
     "text": [
      "1730 data have jalapeno chilies in their ingredients\n"
     ]
    }
   ],
   "source": [
    "df_jalapeno_chilies = df_train[df_train['join'].str.contains('jalapeno chilies')]\n",
    "distribution_specific_ingredient(df_jalapeno_chilies, 'cuisine', 'jalapeno chilies')"
   ]
  },
  {
   "cell_type": "markdown",
   "metadata": {
    "colab_type": "text",
    "id": "IhE4xTh86q-k"
   },
   "source": [
    "As we can see most of the data containing \"jalapeno chilies\" in the ingredients are south american / hispanic cuisine type."
   ]
  },
  {
   "cell_type": "markdown",
   "metadata": {
    "colab_type": "text",
    "id": "tkIO9UG16q-m"
   },
   "source": [
    "Conclusion : Some ingredients are general and some are determinant for cuisine type "
   ]
  },
  {
   "cell_type": "code",
   "execution_count": 15,
   "metadata": {
    "colab": {},
    "colab_type": "code",
    "collapsed": true,
    "id": "W7Yx4zG46q-n"
   },
   "outputs": [
    {
     "data": {
      "text/html": [
       "<div>\n",
       "<style scoped>\n",
       "    .dataframe tbody tr th:only-of-type {\n",
       "        vertical-align: middle;\n",
       "    }\n",
       "\n",
       "    .dataframe tbody tr th {\n",
       "        vertical-align: top;\n",
       "    }\n",
       "\n",
       "    .dataframe thead th {\n",
       "        text-align: right;\n",
       "    }\n",
       "</style>\n",
       "<table border=\"1\" class=\"dataframe\">\n",
       "  <thead>\n",
       "    <tr style=\"text-align: right;\">\n",
       "      <th></th>\n",
       "      <th>cuisine</th>\n",
       "      <th>id</th>\n",
       "      <th>ingredients</th>\n",
       "      <th>join</th>\n",
       "    </tr>\n",
       "  </thead>\n",
       "  <tbody>\n",
       "    <tr>\n",
       "      <th>3002</th>\n",
       "      <td>mexican</td>\n",
       "      <td>20516</td>\n",
       "      <td>[KRAFT Zesty Italian Dressing, lean ground bee...</td>\n",
       "      <td>KRAFT Zesty Italian Dressing lean ground beef ...</td>\n",
       "    </tr>\n",
       "    <tr>\n",
       "      <th>3150</th>\n",
       "      <td>italian</td>\n",
       "      <td>5380</td>\n",
       "      <td>[frozen chopped spinach, jumbo pasta shells, p...</td>\n",
       "      <td>frozen chopped spinach jumbo pasta shells past...</td>\n",
       "    </tr>\n",
       "    <tr>\n",
       "      <th>4887</th>\n",
       "      <td>mexican</td>\n",
       "      <td>32518</td>\n",
       "      <td>[no-salt-added diced tomatoes, KRAFT Mexican S...</td>\n",
       "      <td>no-salt-added diced tomatoes KRAFT Mexican Sty...</td>\n",
       "    </tr>\n",
       "    <tr>\n",
       "      <th>10508</th>\n",
       "      <td>mexican</td>\n",
       "      <td>3317</td>\n",
       "      <td>[grape tomatoes, ranch dressing, KRAFT Mexican...</td>\n",
       "      <td>grape tomatoes ranch dressing KRAFT Mexican St...</td>\n",
       "    </tr>\n",
       "    <tr>\n",
       "      <th>12614</th>\n",
       "      <td>mexican</td>\n",
       "      <td>41541</td>\n",
       "      <td>[KRAFT Shredded Pepper Jack Cheese with a TOUC...</td>\n",
       "      <td>KRAFT Shredded Pepper Jack Cheese with a TOUCH...</td>\n",
       "    </tr>\n",
       "    <tr>\n",
       "      <th>15730</th>\n",
       "      <td>mexican</td>\n",
       "      <td>21029</td>\n",
       "      <td>[tomatoes, green onions, KRAFT Shredded Chedda...</td>\n",
       "      <td>tomatoes green onions KRAFT Shredded Cheddar C...</td>\n",
       "    </tr>\n",
       "    <tr>\n",
       "      <th>18404</th>\n",
       "      <td>mexican</td>\n",
       "      <td>12692</td>\n",
       "      <td>[sliced black olives, KRAFT Mexican Style Fine...</td>\n",
       "      <td>sliced black olives KRAFT Mexican Style Finely...</td>\n",
       "    </tr>\n",
       "    <tr>\n",
       "      <th>19038</th>\n",
       "      <td>mexican</td>\n",
       "      <td>14444</td>\n",
       "      <td>[taco bell home originals, shredded lettuce, K...</td>\n",
       "      <td>taco bell home originals shredded lettuce KRAF...</td>\n",
       "    </tr>\n",
       "    <tr>\n",
       "      <th>22128</th>\n",
       "      <td>southern_us</td>\n",
       "      <td>3942</td>\n",
       "      <td>[quickcooking grits, lemon juice, Oscar Mayer ...</td>\n",
       "      <td>quickcooking grits lemon juice Oscar Mayer Bac...</td>\n",
       "    </tr>\n",
       "    <tr>\n",
       "      <th>22845</th>\n",
       "      <td>mexican</td>\n",
       "      <td>9854</td>\n",
       "      <td>[Velveeta, green pepper, instant white rice, w...</td>\n",
       "      <td>Velveeta green pepper instant white rice water...</td>\n",
       "    </tr>\n",
       "    <tr>\n",
       "      <th>24973</th>\n",
       "      <td>italian</td>\n",
       "      <td>38960</td>\n",
       "      <td>[artichoke hearts, Philadelphia Cream Cheese, ...</td>\n",
       "      <td>artichoke hearts Philadelphia Cream Cheese ita...</td>\n",
       "    </tr>\n",
       "    <tr>\n",
       "      <th>25238</th>\n",
       "      <td>mexican</td>\n",
       "      <td>41606</td>\n",
       "      <td>[fresh cilantro, butter, oil, green onions, to...</td>\n",
       "      <td>fresh cilantro butter oil green onions tortill...</td>\n",
       "    </tr>\n",
       "    <tr>\n",
       "      <th>25840</th>\n",
       "      <td>italian</td>\n",
       "      <td>26221</td>\n",
       "      <td>[KRAFT Shredded Low-Moisture Part-Skim Mozzare...</td>\n",
       "      <td>KRAFT Shredded Low-Moisture Part-Skim Mozzarel...</td>\n",
       "    </tr>\n",
       "    <tr>\n",
       "      <th>26373</th>\n",
       "      <td>mexican</td>\n",
       "      <td>24258</td>\n",
       "      <td>[jalapeno chilies, KRAFT Mexican Style Shredde...</td>\n",
       "      <td>jalapeno chilies KRAFT Mexican Style Shredded ...</td>\n",
       "    </tr>\n",
       "    <tr>\n",
       "      <th>28386</th>\n",
       "      <td>mexican</td>\n",
       "      <td>40568</td>\n",
       "      <td>[slaw mix, chopped cilantro fresh, Kraft Mayon...</td>\n",
       "      <td>slaw mix chopped cilantro fresh Kraft Mayonnai...</td>\n",
       "    </tr>\n",
       "    <tr>\n",
       "      <th>30980</th>\n",
       "      <td>mexican</td>\n",
       "      <td>32405</td>\n",
       "      <td>[TACO BELL® Thick &amp; Chunky Mild Salsa, ground ...</td>\n",
       "      <td>TACO BELL® Thick &amp; Chunky Mild Salsa ground be...</td>\n",
       "    </tr>\n",
       "    <tr>\n",
       "      <th>32914</th>\n",
       "      <td>mexican</td>\n",
       "      <td>19255</td>\n",
       "      <td>[KRAFT Shredded Colby &amp; Monterey Jack Cheese, ...</td>\n",
       "      <td>KRAFT Shredded Colby &amp; Monterey Jack Cheese gr...</td>\n",
       "    </tr>\n",
       "    <tr>\n",
       "      <th>33834</th>\n",
       "      <td>mexican</td>\n",
       "      <td>37918</td>\n",
       "      <td>[avocado, frozen corn, KRAFT Mexican Style Fin...</td>\n",
       "      <td>avocado frozen corn KRAFT Mexican Style Finely...</td>\n",
       "    </tr>\n",
       "    <tr>\n",
       "      <th>36447</th>\n",
       "      <td>mexican</td>\n",
       "      <td>22801</td>\n",
       "      <td>[taco bell home originals, zesty italian dress...</td>\n",
       "      <td>taco bell home originals zesty italian dressin...</td>\n",
       "    </tr>\n",
       "    <tr>\n",
       "      <th>39530</th>\n",
       "      <td>mexican</td>\n",
       "      <td>3320</td>\n",
       "      <td>[eggs, milk, chopped cilantro fresh, Velveeta,...</td>\n",
       "      <td>eggs milk chopped cilantro fresh Velveeta gree...</td>\n",
       "    </tr>\n",
       "    <tr>\n",
       "      <th>39563</th>\n",
       "      <td>cajun_creole</td>\n",
       "      <td>21453</td>\n",
       "      <td>[KRAFT Zesty Italian Dressing, black olives, p...</td>\n",
       "      <td>KRAFT Zesty Italian Dressing black olives pime...</td>\n",
       "    </tr>\n",
       "    <tr>\n",
       "      <th>39770</th>\n",
       "      <td>italian</td>\n",
       "      <td>11462</td>\n",
       "      <td>[KRAFT Zesty Italian Dressing, purple onion, b...</td>\n",
       "      <td>KRAFT Zesty Italian Dressing purple onion broc...</td>\n",
       "    </tr>\n",
       "  </tbody>\n",
       "</table>\n",
       "</div>"
      ],
      "text/plain": [
       "            cuisine     id                                        ingredients  \\\n",
       "3002        mexican  20516  [KRAFT Zesty Italian Dressing, lean ground bee...   \n",
       "3150        italian   5380  [frozen chopped spinach, jumbo pasta shells, p...   \n",
       "4887        mexican  32518  [no-salt-added diced tomatoes, KRAFT Mexican S...   \n",
       "10508       mexican   3317  [grape tomatoes, ranch dressing, KRAFT Mexican...   \n",
       "12614       mexican  41541  [KRAFT Shredded Pepper Jack Cheese with a TOUC...   \n",
       "15730       mexican  21029  [tomatoes, green onions, KRAFT Shredded Chedda...   \n",
       "18404       mexican  12692  [sliced black olives, KRAFT Mexican Style Fine...   \n",
       "19038       mexican  14444  [taco bell home originals, shredded lettuce, K...   \n",
       "22128   southern_us   3942  [quickcooking grits, lemon juice, Oscar Mayer ...   \n",
       "22845       mexican   9854  [Velveeta, green pepper, instant white rice, w...   \n",
       "24973       italian  38960  [artichoke hearts, Philadelphia Cream Cheese, ...   \n",
       "25238       mexican  41606  [fresh cilantro, butter, oil, green onions, to...   \n",
       "25840       italian  26221  [KRAFT Shredded Low-Moisture Part-Skim Mozzare...   \n",
       "26373       mexican  24258  [jalapeno chilies, KRAFT Mexican Style Shredde...   \n",
       "28386       mexican  40568  [slaw mix, chopped cilantro fresh, Kraft Mayon...   \n",
       "30980       mexican  32405  [TACO BELL® Thick & Chunky Mild Salsa, ground ...   \n",
       "32914       mexican  19255  [KRAFT Shredded Colby & Monterey Jack Cheese, ...   \n",
       "33834       mexican  37918  [avocado, frozen corn, KRAFT Mexican Style Fin...   \n",
       "36447       mexican  22801  [taco bell home originals, zesty italian dress...   \n",
       "39530       mexican   3320  [eggs, milk, chopped cilantro fresh, Velveeta,...   \n",
       "39563  cajun_creole  21453  [KRAFT Zesty Italian Dressing, black olives, p...   \n",
       "39770       italian  11462  [KRAFT Zesty Italian Dressing, purple onion, b...   \n",
       "\n",
       "                                                    join  \n",
       "3002   KRAFT Zesty Italian Dressing lean ground beef ...  \n",
       "3150   frozen chopped spinach jumbo pasta shells past...  \n",
       "4887   no-salt-added diced tomatoes KRAFT Mexican Sty...  \n",
       "10508  grape tomatoes ranch dressing KRAFT Mexican St...  \n",
       "12614  KRAFT Shredded Pepper Jack Cheese with a TOUCH...  \n",
       "15730  tomatoes green onions KRAFT Shredded Cheddar C...  \n",
       "18404  sliced black olives KRAFT Mexican Style Finely...  \n",
       "19038  taco bell home originals shredded lettuce KRAF...  \n",
       "22128  quickcooking grits lemon juice Oscar Mayer Bac...  \n",
       "22845  Velveeta green pepper instant white rice water...  \n",
       "24973  artichoke hearts Philadelphia Cream Cheese ita...  \n",
       "25238  fresh cilantro butter oil green onions tortill...  \n",
       "25840  KRAFT Shredded Low-Moisture Part-Skim Mozzarel...  \n",
       "26373  jalapeno chilies KRAFT Mexican Style Shredded ...  \n",
       "28386  slaw mix chopped cilantro fresh Kraft Mayonnai...  \n",
       "30980  TACO BELL® Thick & Chunky Mild Salsa ground be...  \n",
       "32914  KRAFT Shredded Colby & Monterey Jack Cheese gr...  \n",
       "33834  avocado frozen corn KRAFT Mexican Style Finely...  \n",
       "36447  taco bell home originals zesty italian dressin...  \n",
       "39530  eggs milk chopped cilantro fresh Velveeta gree...  \n",
       "39563  KRAFT Zesty Italian Dressing black olives pime...  \n",
       "39770  KRAFT Zesty Italian Dressing purple onion broc...  "
      ]
     },
     "execution_count": 15,
     "metadata": {},
     "output_type": "execute_result"
    }
   ],
   "source": [
    "# Check KRAFT\n",
    "df_kraft = df_train[df_train['join'].str.contains('KRAFT')]\n",
    "df_kraft"
   ]
  },
  {
   "cell_type": "markdown",
   "metadata": {
    "colab_type": "text",
    "id": "uw09A9f96q-r"
   },
   "source": [
    "We'll see how to deal with it !"
   ]
  },
  {
   "cell_type": "markdown",
   "metadata": {
    "colab_type": "text",
    "id": "jVgZKgKF6q-s"
   },
   "source": [
    "## Preprocessing"
   ]
  },
  {
   "cell_type": "code",
   "execution_count": 16,
   "metadata": {},
   "outputs": [],
   "source": [
    "def preprocessing(df, name_col):\n",
    "    df[name_col+\"_formatted\"] = df[name_col].apply(lambda x: [re.sub(r\"\\d\", \"\", ingredient) for ingredient in x])\n",
    "    df[name_col + \"_formatted\"] = df[name_col + \"_formatted\"].apply(lambda x: [re.sub(r\"[()\\.-]\", \"\", ingredient) for ingredient in x])\n",
    "    df[name_col + \"_formatted\"] = df[name_col + \"_formatted\"].apply(lambda x: [re.sub(r\"\\b[a-z]{,2}\\b\", \"\", ingredient) for ingredient in x])\n",
    "    df[name_col + \"_formatted\"] = df[name_col + \"_formatted\"].apply(lambda x: [re.sub(r\"\\s+\", \"\", ingredient) for ingredient in x])\n",
    "    df[name_col + \"_formatted\"] = df[name_col + \"_formatted\"].apply(lambda x: [ingredient.lower() for ingredient in x])\n",
    "    return df\n",
    "\n"
   ]
  },
  {
   "cell_type": "code",
   "execution_count": 17,
   "metadata": {},
   "outputs": [
    {
     "data": {
      "text/html": [
       "<div>\n",
       "<style scoped>\n",
       "    .dataframe tbody tr th:only-of-type {\n",
       "        vertical-align: middle;\n",
       "    }\n",
       "\n",
       "    .dataframe tbody tr th {\n",
       "        vertical-align: top;\n",
       "    }\n",
       "\n",
       "    .dataframe thead th {\n",
       "        text-align: right;\n",
       "    }\n",
       "</style>\n",
       "<table border=\"1\" class=\"dataframe\">\n",
       "  <thead>\n",
       "    <tr style=\"text-align: right;\">\n",
       "      <th></th>\n",
       "      <th>cuisine</th>\n",
       "      <th>id</th>\n",
       "      <th>ingredients</th>\n",
       "      <th>join</th>\n",
       "      <th>ingredients_formatted</th>\n",
       "    </tr>\n",
       "  </thead>\n",
       "  <tbody>\n",
       "    <tr>\n",
       "      <th>0</th>\n",
       "      <td>greek</td>\n",
       "      <td>10259</td>\n",
       "      <td>[romaine lettuce, black olives, grape tomatoes...</td>\n",
       "      <td>romaine lettuce black olives grape tomatoes ga...</td>\n",
       "      <td>[romainelettuce, blackolives, grapetomatoes, g...</td>\n",
       "    </tr>\n",
       "    <tr>\n",
       "      <th>1</th>\n",
       "      <td>southern_us</td>\n",
       "      <td>25693</td>\n",
       "      <td>[plain flour, ground pepper, salt, tomatoes, g...</td>\n",
       "      <td>plain flour ground pepper salt tomatoes ground...</td>\n",
       "      <td>[plainflour, groundpepper, salt, tomatoes, gro...</td>\n",
       "    </tr>\n",
       "    <tr>\n",
       "      <th>2</th>\n",
       "      <td>filipino</td>\n",
       "      <td>20130</td>\n",
       "      <td>[eggs, pepper, salt, mayonaise, cooking oil, g...</td>\n",
       "      <td>eggs pepper salt mayonaise cooking oil green c...</td>\n",
       "      <td>[eggs, pepper, salt, mayonaise, cookingoil, gr...</td>\n",
       "    </tr>\n",
       "    <tr>\n",
       "      <th>3</th>\n",
       "      <td>indian</td>\n",
       "      <td>22213</td>\n",
       "      <td>[water, vegetable oil, wheat, salt]</td>\n",
       "      <td>water vegetable oil wheat salt</td>\n",
       "      <td>[water, vegetableoil, wheat, salt]</td>\n",
       "    </tr>\n",
       "    <tr>\n",
       "      <th>4</th>\n",
       "      <td>indian</td>\n",
       "      <td>13162</td>\n",
       "      <td>[black pepper, shallots, cornflour, cayenne pe...</td>\n",
       "      <td>black pepper shallots cornflour cayenne pepper...</td>\n",
       "      <td>[blackpepper, shallots, cornflour, cayennepepp...</td>\n",
       "    </tr>\n",
       "  </tbody>\n",
       "</table>\n",
       "</div>"
      ],
      "text/plain": [
       "       cuisine     id                                        ingredients  \\\n",
       "0        greek  10259  [romaine lettuce, black olives, grape tomatoes...   \n",
       "1  southern_us  25693  [plain flour, ground pepper, salt, tomatoes, g...   \n",
       "2     filipino  20130  [eggs, pepper, salt, mayonaise, cooking oil, g...   \n",
       "3       indian  22213                [water, vegetable oil, wheat, salt]   \n",
       "4       indian  13162  [black pepper, shallots, cornflour, cayenne pe...   \n",
       "\n",
       "                                                join  \\\n",
       "0  romaine lettuce black olives grape tomatoes ga...   \n",
       "1  plain flour ground pepper salt tomatoes ground...   \n",
       "2  eggs pepper salt mayonaise cooking oil green c...   \n",
       "3                     water vegetable oil wheat salt   \n",
       "4  black pepper shallots cornflour cayenne pepper...   \n",
       "\n",
       "                               ingredients_formatted  \n",
       "0  [romainelettuce, blackolives, grapetomatoes, g...  \n",
       "1  [plainflour, groundpepper, salt, tomatoes, gro...  \n",
       "2  [eggs, pepper, salt, mayonaise, cookingoil, gr...  \n",
       "3                 [water, vegetableoil, wheat, salt]  \n",
       "4  [blackpepper, shallots, cornflour, cayennepepp...  "
      ]
     },
     "execution_count": 17,
     "metadata": {},
     "output_type": "execute_result"
    }
   ],
   "source": [
    "df_train = preprocessing(df_train, \"ingredients\")\n",
    "df_train.head()"
   ]
  },
  {
   "cell_type": "code",
   "execution_count": 18,
   "metadata": {
    "colab": {
     "base_uri": "https://localhost:8080/",
     "height": 119
    },
    "colab_type": "code",
    "id": "BcYrn1i_6q-3",
    "outputId": "bf3b29ee-8f1f-42a3-bbfb-8bfa7db0b311"
   },
   "outputs": [
    {
     "data": {
      "text/plain": [
       "cuisine                                                            italian\n",
       "id                                                                   45423\n",
       "ingredients              [(    oz.) tomato sauce, ground veal, sliced m...\n",
       "join                     (    oz.) tomato sauce ground veal sliced mush...\n",
       "ingredients_formatted    [tomatosauce, groundveal, slicedmushrooms, ita...\n",
       "Name: 285, dtype: object"
      ]
     },
     "execution_count": 18,
     "metadata": {},
     "output_type": "execute_result"
    }
   ],
   "source": [
    "df_train.iloc[285,:]"
   ]
  },
  {
   "cell_type": "code",
   "execution_count": 19,
   "metadata": {
    "colab": {
     "base_uri": "https://localhost:8080/",
     "height": 204
    },
    "colab_type": "code",
    "id": "XBv1MuhZLx22",
    "outputId": "b2e4e924-ae46-4a5f-e1a9-4ba0f06fcca7"
   },
   "outputs": [
    {
     "data": {
      "text/html": [
       "<div>\n",
       "<style scoped>\n",
       "    .dataframe tbody tr th:only-of-type {\n",
       "        vertical-align: middle;\n",
       "    }\n",
       "\n",
       "    .dataframe tbody tr th {\n",
       "        vertical-align: top;\n",
       "    }\n",
       "\n",
       "    .dataframe thead th {\n",
       "        text-align: right;\n",
       "    }\n",
       "</style>\n",
       "<table border=\"1\" class=\"dataframe\">\n",
       "  <thead>\n",
       "    <tr style=\"text-align: right;\">\n",
       "      <th></th>\n",
       "      <th>id</th>\n",
       "      <th>ingredients</th>\n",
       "      <th>ingredients_formatted</th>\n",
       "    </tr>\n",
       "  </thead>\n",
       "  <tbody>\n",
       "    <tr>\n",
       "      <th>0</th>\n",
       "      <td>18009</td>\n",
       "      <td>[baking powder, eggs, all-purpose flour, raisi...</td>\n",
       "      <td>[bakingpowder, eggs, allpurposeflour, raisins,...</td>\n",
       "    </tr>\n",
       "    <tr>\n",
       "      <th>1</th>\n",
       "      <td>28583</td>\n",
       "      <td>[sugar, egg yolks, corn starch, cream of tarta...</td>\n",
       "      <td>[sugar, eggyolks, cornstarch, creamtartar, ban...</td>\n",
       "    </tr>\n",
       "    <tr>\n",
       "      <th>2</th>\n",
       "      <td>41580</td>\n",
       "      <td>[sausage links, fennel bulb, fronds, olive oil...</td>\n",
       "      <td>[sausagelinks, fennelbulb, fronds, oliveoil, c...</td>\n",
       "    </tr>\n",
       "    <tr>\n",
       "      <th>3</th>\n",
       "      <td>29752</td>\n",
       "      <td>[meat cuts, file powder, smoked sausage, okra,...</td>\n",
       "      <td>[meatcuts, filepowder, smokedsausage, okra, sh...</td>\n",
       "    </tr>\n",
       "    <tr>\n",
       "      <th>4</th>\n",
       "      <td>35687</td>\n",
       "      <td>[ground black pepper, salt, sausage casings, l...</td>\n",
       "      <td>[groundblackpepper, salt, sausagecasings, leek...</td>\n",
       "    </tr>\n",
       "  </tbody>\n",
       "</table>\n",
       "</div>"
      ],
      "text/plain": [
       "      id                                        ingredients  \\\n",
       "0  18009  [baking powder, eggs, all-purpose flour, raisi...   \n",
       "1  28583  [sugar, egg yolks, corn starch, cream of tarta...   \n",
       "2  41580  [sausage links, fennel bulb, fronds, olive oil...   \n",
       "3  29752  [meat cuts, file powder, smoked sausage, okra,...   \n",
       "4  35687  [ground black pepper, salt, sausage casings, l...   \n",
       "\n",
       "                               ingredients_formatted  \n",
       "0  [bakingpowder, eggs, allpurposeflour, raisins,...  \n",
       "1  [sugar, eggyolks, cornstarch, creamtartar, ban...  \n",
       "2  [sausagelinks, fennelbulb, fronds, oliveoil, c...  \n",
       "3  [meatcuts, filepowder, smokedsausage, okra, sh...  \n",
       "4  [groundblackpepper, salt, sausagecasings, leek...  "
      ]
     },
     "execution_count": 19,
     "metadata": {},
     "output_type": "execute_result"
    }
   ],
   "source": [
    "df_test = preprocessing(df_test, \"ingredients\")\n",
    "df_test.head()"
   ]
  },
  {
   "cell_type": "markdown",
   "metadata": {
    "colab_type": "text",
    "id": "BcWeiL1p6q_C"
   },
   "source": [
    "## Words Embedding"
   ]
  },
  {
   "cell_type": "code",
   "execution_count": 21,
   "metadata": {},
   "outputs": [],
   "source": [
    "def generate_document(df):\n",
    "    doc = []\n",
    "    doc = list(df.apply(lambda x: ' '.join(x)))\n",
    "    return doc"
   ]
  },
  {
   "cell_type": "code",
   "execution_count": 23,
   "metadata": {},
   "outputs": [],
   "source": [
    "documents = generate_document(df_train['ingredients_formatted'])\n",
    "documents_test = generate_document(df_test['ingredients_formatted'])"
   ]
  },
  {
   "cell_type": "code",
   "execution_count": 24,
   "metadata": {
    "colab": {
     "base_uri": "https://localhost:8080/",
     "height": 173
    },
    "colab_type": "code",
    "collapsed": true,
    "id": "UwFGeqqA6q_I",
    "outputId": "ecfc1896-ecc1-463f-8dfb-5efbb4ba8de6"
   },
   "outputs": [
    {
     "name": "stdout",
     "output_type": "stream",
     "text": [
      "Vocabulary :  6688\n",
      "\n",
      "TF-IDF vocabulary :\n",
      " {'romainelettuce': 5107, 'blackolives': 493, 'grapetomatoes': 2672, 'garlic': 2507, 'pepper': 4419, 'purpleonion': 4776, 'seasoning': 5302, 'garbanzobeans': 2501, 'fetacheesecrumbles': 2154, 'plainflour': 4566, 'groundpepper': 2808, 'salt': 5198, 'tomatoes': 6086, 'groundblackpepper': 2775, 'thyme': 6038, 'eggs': 2030, 'greentomatoes': 2758, 'yellowcornmeal': 6639, 'milk': 3914, 'vegetableoil': 6336, 'mayonaise': 3812, 'cookingoil': 1509, 'greenchilies': 2729, 'grilledchickenbreasts': 2764, 'garlicpowder': 2525, 'yellowonion': 6651, 'soysauce': 5654, 'butter': 758, 'chickenlivers': 1085, 'water': 6404, 'wheat': 6420, 'blackpepper': 495, 'shallots': 5348, 'cornflour': 1531, 'cayennepepper': 962, 'onions': 4192, 'garlicpaste': 2522, 'lemonjuice': 3451, 'chilipowder': 1141, 'passata': 4334, 'oil': 4157, 'groundcumin': 2790, 'bonelesschickenskinlessthigh': 570, 'garammasala': 2499, 'doublecream': 1855, 'naturalyogurt': 4068, 'bayleaf': 330, 'sugar': 5813, 'freshgingerroot': 2330, 'groundcinnamon': 2786, 'vanillaextract': 6275, 'groundginger': 2795, 'powderedsugar': 4700, 'bakingpowder': 269, 'oliveoil': 4178, 'mediumshrimp': 3853, 'choppedcilantro': 1265, 'jalapenochilies': 3130, 'flatleafparsley': 2229, 'skirtsteak': 5483, 'whitevinegar': 6497, 'seasalt': 5292, 'chorizosausage': 1289, 'pistachionuts': 4536, 'whitealmondbark': 6441, 'flour': 2251, 'almondextract': 57, 'driedcranberries': 1892, 'freshpineapple': 2361, 'pork': 4613, 'poblanopeppers': 4582, 'corntortillas': 1550, 'cheddarcheese': 1011, 'iceberglettuce': 3047, 'lime': 3518, 'choppedcilantrofresh': 1266, 'choppedtomatoes': 1286, 'freshbasil': 2304, 'extravirginoliveoil': 2090, 'koshersalt': 3326, 'pimentos': 4502, 'sweetpepper': 5883, 'driedoregano': 1921, 'sharpcheddarcheese': 5358, 'swisscheese': 5909, 'provolonecheese': 4745, 'canolaoil': 886, 'mushrooms': 4038, 'sausages': 5258, 'lowsodiumsoysauce': 3692, 'freshginger': 2329, 'drymustard': 1973, 'greenbeans': 2720, 'whitepepper': 6480, 'sesameoil': 5339, 'scallions': 5271, 'shaoxingwine': 5355, 'groundturkey': 2824, 'crushedredpepperflakes': 1673, 'cornstarch': 1546, 'italianparsleyleaves': 3099, 'walnuts': 6397, 'hotredpepperflakes': 3023, 'freshlemonjuice': 2338, 'troutfillet': 6144, 'garliccloves': 2513, 'chipotlechile': 1198, 'fineseasalt': 2192, 'freshcilantro': 2318, 'groundcoriander': 2789, 'plumtomatoes': 4577, 'avocado': 207, 'limejuice': 3521, 'flanksteak': 2224, 'freshparmesancheese': 2356, 'allpurposeflour': 50, 'fatfreelesssodiumchickenbroth': 2125, 'choppedfreshchives': 1269, 'gruyerecheese': 2832, 'baconslices': 252, 'gnocchi': 2604, 'fatfreemilk': 2129, 'cookingspray': 1512, 'tumeric': 6156, 'vegetablestock': 6345, 'naan': 4050, 'redlentils': 4914, 'redchilipeppers': 4894, 'spinach': 5696, 'sweetpotatoes': 5887, 'greekyogurt': 2717, 'lemoncurd': 3447, 'confectionerssugar': 1468, 'raspberries': 4848, 'italianseasoning': 3112, 'broilerfryerchicken': 699, 'zestyitaliandressing': 6683, 'hotchili': 3000, 'asianfishsauce': 189, 'redbellpepper': 4887, 'chickenbroth': 1062, 'yellowsquash': 6657, 'garlicchilisauce': 2511, 'slicedgreenonions': 5499, 'broccolini': 692, 'freshlimejuice': 2341, 'cookedrice': 1494, 'chickenbreasts': 1058, 'porkloin': 4635, 'roastedpeanuts': 5078, 'hoisinsauce': 2960, 'creamypeanutbutter': 1615, 'choppedfreshmint': 1271, 'thaibasil': 6014, 'rice': 5027, 'ricenoodles': 5036, 'beansprouts': 344, 'romatomatoes': 5112, 'lowfatmayonnaise': 3623, 'bakingpotatoes': 268, 'spicybrownmustard': 5688, 'sesameseeds': 5343, 'redpepper': 4918, 'yellowpeppers': 6653, 'extrafirmtofu': 2081, 'broccoli': 690, 'orangebellpepper': 4200, 'arrowrootpowder': 162, 'redcurrypaste': 4898, 'marinarasauce': 3776, 'linguine': 3531, 'capers': 893, 'olives': 4183, 'lemonzest': 3467, 'meinnoodles': 3860, 'lightsoysauce': 3510, 'driedblackmushrooms': 1878, 'chives': 1212, 'oystersauce': 4267, 'darksoysauce': 1777, 'peanuts': 4380, 'cabbage': 789, 'herbs': 2929, 'freshtomatoes': 2378, 'paprika': 4310, 'mango': 3749, 'stock': 5768, 'chilepepper': 1121, 'slicedmushrooms': 5505, 'sherry': 5373, 'gratedparmesancheese': 2690, 'heavycream': 2909, 'spaghetti': 5657, 'cookedchicken': 1483, 'greenbellpepper': 2721, 'eggrollwrappers': 2028, 'sweetandsoursauce': 5855, 'molasses': 3986, 'shreddedcabbage': 5405, 'groundpork': 2811, 'carrots': 930, 'flourtortillas': 2253, 'cheese': 1013, 'breakfastsausages': 668, 'largeeggs': 3397, 'boilingwater': 541, 'hotsauce': 3026, 'potatoes': 4676, 'bacon': 244, 'freshparsley': 2357, 'andouillesausage': 102, 'cajunseasoning': 808, 'peanutoil': 4378, 'celery': 965, 'groundredpepper': 2813, 'shrimp': 5433, 'onionpowder': 4190, 'firmtofu': 2202, 'turnips': 6198, 'palmsugar': 4277, 'slicedchicken': 5494, 'fishsauce': 2213, 'limewedges': 3526, 'greenpapaya': 2744, 'chilepowder': 1123, 'tamarindpaste': 5950, 'chinesechives': 1162, 'crushedgarlic': 1663, 'greenonions': 2743, 'whitesugar': 6491, 'driedbasil': 1874, 'dicedtomatoes': 1819, 'johnsonvilleandouilledinnersausage': 3187, 'parsley': 4321, 'jambalayaricemix': 3144, 'worcestershiresauce': 6622, 'hotpeppersauce': 3021, 'creoleseasoning': 1625, 'breadslices': 664, 'greatnorthernbeans': 2706, 'sageleaves': 5175, 'chinesefivespicepowder': 1167, 'chickenthighs': 1101, 'staranise': 5734, 'creamcheese': 1588, 'shreddedcheddarcheese': 5407, 'blackeyedpeas': 482, 'tortillachips': 6117, 'collardgreens': 1437, 'hamhock': 2874, 'chickenstock': 1096, 'applecider': 128, 'freshlygroundpepper': 2343, 'bayleaves': 331, 'rib': 5020, 'lightbrownsugar': 3492, 'largegarliccloves': 3402, 'oscarmayerdelifreshsmokedham': 4255, 'hoagierolls': 2955, 'salami': 5188, 'giardiniera': 2544, 'mozzarellacheese': 4012, 'pepperoni': 4433, 'icecubes': 3050, 'clubsoda': 1369, 'whiterum': 6488, 'turbinado': 6166, 'enchiladasauce': 2044, 'picantesauce': 4457, 'greenpepper': 2746, 'cannedblackbeans': 864, 'shreddedlettuce': 5414, 'sourcream': 5624, 'salmonfillets': 5191, 'cuminseed': 1710, 'currypowder': 1732, 'serranochile': 5332, 'sauce': 5250, 'chickenbreasthalves': 1057, 'lettuceleaves': 3484, 'choppedonion': 1282, 'mandarinoranges': 3746, 'orangeliqueur': 4210, 'yellowcakemix': 6636, 'frosting': 2398, 'fennelbulb': 2143, 'lemonoliveoil': 3454, 'grapefruitjuice': 2667, 'whitecornmeal': 6459, 'bacondrippings': 246, 'buttermilk': 772, 'crabboil': 1569, 'oldbayseasoning': 4167, 'crawfish': 1584, 'sirloin': 5458, 'mirin': 3958, 'cornoil': 1543, 'glassnoodles': 2566, 'sake': 5179, 'shiitake': 5378, 'napacabbage': 4057, 'whippingcream': 6438, 'extrasharpcheddarcheese': 2087, 'quickcookinggrits': 4795, 'montereyjack': 3992, 'crushedredpepper': 1672, 'mussels': 4041, 'basil': 316, 'drywhitewine': 1980, 'finelychoppedonion': 2189, 'bakingsoda': 270, 'honey': 2976, 'unsaltedbutter': 6229, 'lemon': 3442, 'pesto': 4445, 'whitewine': 6498, 'breadcrumbs': 657, 'curry': 1725, 'lowsodiumbeefbroth': 3668, 'pickapeppasauce': 4460, 'coldwater': 1432, 'allspice': 54, 'freshthyme': 2375, 'groundbeef': 2773, 'meltedbutter': 3866, 'matchagreenteapowder': 3805, 'choppedwalnuts': 1287, 'coarsesalt': 1373, 'fenugreek': 2146, 'uraddal': 6259, 'whiterice': 6485, 'pizzacrust': 4556, 'partskimmozzarellacheese': 4328, 'yukongoldpotatoes': 6676, 'lowfatsourcream': 3650, 'leeks': 3433, 'lowfatmilk': 3625, 'lemongrass': 3450, 'unsweetenedcoconutmilk': 6251, 'peanutsauce': 4381, 'spareribs': 5668, 'tamarisoysauce': 5955, 'goldenbrownsugar': 2615, 'drysherry': 1978, 'chickenlegs': 1084, 'ghee': 2541, 'tomatopaste': 6093, 'groundturmeric': 2827, 'crackedblackpepper': 1574, 'mincedbeef': 3927, 'driedthyme': 1952, 'ginger': 2547, 'chillies': 1148, 'crushedtomatoes': 1675, 'freshrosemary': 2367, 'bonelessporkloin': 583, 'pappardelle': 4308, 'coconutmilk': 1396, 'eggplant': 2026, 'jasminerice': 3165, 'gochujangbase': 2611, 'toproundsteak': 6109, 'ricevinegar': 5045, 'taiwanesebokchoy': 5940, 'vanilla': 6265, 'largeeggyolks': 3399, 'orangejuiceconcentrate': 4209, 'pumpkinpurée': 4763, 'marshmallowcreme': 3786, 'toastedpecans': 6058, 'maplesyrup': 3767, 'gingersnap': 2556, 'groundnutmeg': 2802, 'brownsugar': 727, 'serranoham': 5334, 'manchegocheese': 3743, 'dijonmustard': 1827, 'sourdough': 5625, 'membrillo': 3868, 'burgerbuns': 748, 'pankobreadcrumbs': 4302, 'chickpeaflour': 1106, 'sriracha': 5731, 'chickpeas': 1107, 'groundflaxseed': 2794, 'greens': 2751, 'tahini': 5938, 'groundcloves': 2787, 'wholenutmegs': 6527, 'groundcardamom': 2778, 'italianbread': 3091, 'balsamicvinegar': 280, 'sausagecasings': 5255, 'shreddedmozzarellacheese': 5423, 'roastedredpeppers': 5082, 'pennepasta': 4412, 'saffron': 5170, 'warmwater': 6399, 'preservedlemon': 4724, 'harissa': 2886, 'couscous': 1565, 'cayenne': 961, 'fatskimmedchickenbroth': 2136, 'pittedkalamataolives': 4552, 'fat': 2107, 'sweetenedcondensedmilk': 5871, 'ice': 3045, 'espresso': 2063, 'freshasparagus': 2303, 'pecans': 4398, 'crumbledbluecheese': 1650, 'chuck': 1299, 'hamburgerbuns': 2873, 'okrapods': 4165, 'watercress': 6408, 'selfrisingflour': 5317, 'softenedbutter': 5594, 'foodcolouring': 2266, 'madeira': 3721, 'foiegras': 2261, 'demiglace': 1797, 'sherryvinegar': 5374, 'whitebread': 6446, 'fuyupersimmons': 2490, 'eggbread': 2021, 'fenugreekleaves': 2147, 'blackmustardseeds': 492, 'amchur': 80, 'coriander': 1516, 'fingerlingpotatoes': 2196, 'ramps': 4837, 'blackpeppercorns': 496, 'cinnamonsticks': 1337, 'cardamompods': 915, 'corianderseeds': 1518, 'asiago': 179, 'wholewheatpasta': 6559, 'sweetonion': 5880, 'chestnuts': 1044, 'granulatedsugar': 2663, 'wholemilkricottacheese': 6525, 'coffeeicecream': 1414, 'mascarpone': 3797, 'rum': 5149, 'semisweetchocolate': 5324, 'chestnutflour': 1041, 'babyspinachleaves': 236, 'choppedgarlic': 1274, 'largeshrimp': 3405, 'barley': 305, 'cookedham': 1487, 'starchypotatoes': 5736, 'gratednutmeg': 2687, 'sirlointiproast': 5461, 'steak': 5737, 'vegetableshortening': 6342, 'finelychoppedfreshparsley': 2188, 'vinegar': 6376, 'caulfat': 950, 'wholemilk': 6523, 'heavywhippingcream': 2910, 'kahlúa': 3213, 'instantespressopowder': 3075, 'epazote': 2057, 'radishes': 4812, 'oregano': 4224, 'whiteonion': 6478, 'hominy': 2974, 'tomatillos': 6081, 'pepitas': 4417, 'catfishfillets': 948, 'basmatirice': 324, 'cauliflower': 951, 'cumin': 1709, 'bloodorange': 521, 'lowsaltchickenbroth': 3665, 'whitewinevinegar': 6499, 'tomatosauce': 6096, 'shreddedcarrots': 5406, 'englishmuffins': 2051, 'splitandtoasted': 5704, 'vegetableoilcookingspray': 6337, 'choppedgreenbellpepper': 1275, 'prawns': 4709, 'riceflour': 5032, 'seasoningsalt': 5305, 'lasagnanoodles': 3408, 'ranchdressing': 4840, 'evaporatedmilk': 2073, 'mincedgarlic': 3929, 'redwinevinegar': 4989, 'bonelesschoppork': 573, 'chilepaste': 1119, 'lowersodiumsoysauce': 3592, 'darksesameoil': 1775, 'raisins': 4828, 'pearlbarley': 4384, 'sliveredalmonds': 5514, 'chocolatebars': 1216, 'marshmallows': 3788, 'cinnamongrahamcrackers': 1333, 'choppedcelery': 1264, 'mustardpowder': 4045, 'cod': 1405, 'mincedonion': 3933, 'drybreadcrumbs': 1965, 'goldenraisins': 2619, 'margarine': 3770, 'mace': 3717, 'brewedtea': 676, 'candiedorangepeel': 850, 'gratedlemonzest': 2686, 'driedcurrants': 1893, 'rumextract': 5150, 'darkbrownsugar': 1760, 'noodles': 4125, 'babybokchoy': 220, 'blackbeansauce': 468, 'redpotato': 4921, 'chinesericewine': 1184, 'blackbeans': 467, 'quinoa': 4803, 'frozencorn': 2416, 'vegetablebroth': 6328, 'yellowbellpepper': 6635, 'orange': 4199, 'duck': 1982, 'driedmintflakes': 1914, 'pennerigate': 4413, 'fetacheese': 2153, 'rashanout': 4847, 'groundlamb': 2798, 'largeeggwhites': 3398, 'reducedfatmilk': 4944, 'napacabbageleaves': 4058, 'chickenlegquarters': 1083, 'cucumber': 1702, 'longgrainrice': 3573, 'crustybread': 1677, 'babypotatoes': 233, 'smokedstreakybacon': 5557, 'piloncillo': 4496, 'groundallspice': 2770, 'hibiscus': 2940, 'freshoregano': 2354, 'chocolatemorsels': 1245, 'creamsweetenwhip': 1610, 'instantespressogranules': 3074, 'chocolatecoveredcoffeebeans': 1225, 'unflavoredgelatin': 6224, 'poundcake': 4691, 'pinenuts': 4516, 'zucchini': 6686, 'babycarrots': 222, 'freshbasilleaves': 2305, 'asparagusspears': 197, 'frozenpeas': 2442, 'arboriorice': 152, 'yellowcrooknecksquash': 6640, 'chipotlesadobo': 1204, 'instantwhiterice': 3082, 'cilantroleaves': 1326, 'redbeans': 4885, 'skinlesschickenthighs': 5474, 'limezest': 3527, 'condensedcreammushroomsoup': 1455, 'condensedcreamchickensoup': 1454, 'leangroundbeef': 3424, 'mexicancheeseblend': 3884, 'chunkysalsa': 1310, 'tacoseasoningmix': 5932, 'chorizospanish': 1290, 'pineapplejuice': 4509, 'darkrum': 1773, 'daikon': 1748, 'porkribs': 4642, 'gojiberries': 2613, 'oysters': 4266, 'salsa': 5195, 'demerarasugar': 1795, 'eggwhites': 2032, 'fruit': 2468, 'frozenpastrypuffsheets': 2439, 'mixedspice': 3977, 'parsnips': 4326, 'chilioil': 1136, 'brownmustardseeds': 717, 'unsaltedcashews': 6230, 'thaigreencurrypaste': 6021, 'kecapmanis': 3238, 'frozenbroadbeans': 2406, 'basilleaves': 318, 'chiliflakes': 1133, 'chickentenderloin': 1099, 'creolestyleseasoning': 1628, 'condensedcheddarcheesesoup': 1449, 'refriedbeans': 4991, 'gratedjackcheese': 2683, 'eggyolks': 2033, 'asparagus': 195, 'freshleavspinach': 2336, 'cheesetortellini': 1023, 'cherrytomatoes': 1037, 'navybeans': 4070, 'nonfatmilk': 4110, 'grannysmithapples': 2658, 'lard': 3394, 'pecorinoromanocheese': 4400, 'freshfavabean': 2327, 'italiansausage': 3107, 'pastasheets': 4342, 'spinachleaves': 5697, 'lowfatnaturalyogurt': 3630, 'floracuisine': 2245, 'currypaste': 1731, 'boneinchickenbreasts': 554, 'whitehominy': 6472, 'driedchilepeppers': 1886, 'frozenwhippedtopping': 2464, 'chocolateinstantpudding': 1240, 'instantbutterscotchpuddingmix': 3068, 'grahamcrackercrumbs': 2643, 'fennelseeds': 2145, 'kalamata': 3216, 'kielbasa': 3257, 'celeryribs': 970, 'ham': 2869, 'moongdal': 3996, 'capsicum': 899, 'greenmango': 2740, 'toastedsesameoil': 6062, 'tofu': 6075, 'shortgrainrice': 5394, 'driedshiitakemushrooms': 1943, 'gari': 2505, 'turkishbayleaves': 6195, 'driedchickpeas': 1884, 'semolina': 5329, 'vineripenedtomatoes': 6378, 'bittersweetchocolate': 460, 'fatfreeyogurt': 2135, 'skimmilk': 5465, 'angelfoodcake': 105, 'unsweetenedcocoapowder': 6250, 'instantespresso': 3073, 'organicchicken': 4230, 'anise': 111, 'zinfandel': 6684, 'orangeblossomhoney': 4203, 'calimyrnafigs': 832, 'clove': 1366, 'plainwholemilkyogurt': 4571, 'reducedsodiumsoysauce': 4975, 'beefstock': 396, 'chuckroast': 1300, 'cornflakescereal': 1530, 'coleslaw': 1433, 'garlicsalt': 2527, 'chilipaste': 1137, 'redpepperflakes': 4919, 'kiwi': 3280, 'asianpear': 191, 'cheesfrescoqueso': 1024, 'swisschard': 5908, 'vealcutlets': 6299, 'pasta': 4338, 'wakame': 6393, 'extraleangroundbeef': 2084, 'scalliongreens': 5270, 'wontonwrappers': 6619, 'peeledfreshginger': 4406, 'nonstickspray': 4124, 'choppedfreshthyme': 1273, 'chickenbones': 1053, 'slice': 5487, 'anchovyfillets': 96, 'crustyrolls': 1679, 'coconutoil': 1399, 'almondflour': 59, 'coconutaminos': 1387, 'greenpeas': 2745, 'clams': 1353, 'bonelessskinlesschickenbreasthalves': 593, 'seasonedricewinevinegar': 5301, 'snowpeas': 5576, 'hardboiledegg': 2879, 'artichokehearts': 165, 'stuffing': 5802, 'corianderpowder': 1517, 'maidaflour': 3732, 'pitabreadrounds': 4540, 'gratedgruyèrecheese': 2681, 'udon': 6206, 'redmiso': 4915, 'silkentofu': 5451, 'buttonmushrooms': 786, 'wholepeeledtomatoes': 6529, 'shreddedmontereyjackcheese': 5422, 'pickledjalapenos': 4465, 'broccolirabe': 693, 'parmigianoreggianocheese': 4320, 'fontina': 2263, 'thaichile': 6016, 'peppercorns': 4421, 'refrigeratedpiecrusts': 5002, 'creamchickensoup': 1594, 'frozenpeasandcarrots': 2443, 'lowsodiumchickenbroth': 3676, 'pastasauce': 4340, 'oliveoilflavoredcookingspray': 4180, 'frozenchoppedspinach': 2414, 'partskimricottacheese': 4329, 'manicottishells': 3756, 'fettucine': 2157, 'parmesancheese': 4317, 'chickenbouillon': 1054, 'chilipastewithgarlic': 1138, 'freshveget': 2383, 'tacosauce': 5929, 'guacamole': 2833, 'salsaverde': 5196, 'condiments': 1466, 'porkshoulderroast': 4654, 'tortillas': 6118, 'rosepetals': 5125, 'almonds': 65, 'pistachios': 4537, 'chickenwings': 1105, 'drumstick': 1964, 'greenchile': 2727, 'peeledtomatoes': 4409, 'chicken': 1049, 'chiles': 1125, 'adobosauce': 17, 'anchopowder': 93, 'chipotlechilepowder': 1199, 'oldelpasoflourtortillas': 4170, 'cranberrysauce': 1583, 'beer': 403, 'chilisauce': 1142, 'beefribshort': 378, 'misopaste': 3961, 'seaweed': 5306, 'dashi': 1780, 'freshdill': 2326, 'yoghurt': 6662, 'myzithra': 4049, 'phyllo': 4454, 'kefalotyri': 3240, 'okra': 4164, 'crackercrumbs': 1576, 'philadelphiacreamcheese': 4452, 'crabmeat': 1571, 'savoycabbage': 5263, 'bonelesschickenthighs': 572, 'potatostarch': 4683, 'creamtartar': 1611, 'semisweetchocolatemorsels': 5326, 'cakeflour': 815, 'ricottacheese': 5050, 'serrano': 5331, 'steelcutoats': 5747, 'hazelnuts': 2903, 'hazelnutoil': 2902, 'sweetcherries': 5862, 'fireroasteddicedtomatoes': 2198, 'redkidneibeans': 4911, 'rinsanddrain': 5055, 'wasabipaste': 6402, 'blacksesameseeds': 503, 'japanesesoysauce': 3159, 'freshsalmon': 2369, 'driedporcinimushrooms': 1931, 'dryredwine': 1975, 'hotwater': 3031, 'fatfreelesssodiumbeefbroth': 2124, 'creminimushrooms': 1622, 'creolemustard': 1623, 'preparedhorseradish': 4716, 'celerysalt': 972, 'shrimpandcrabboilseasoning': 5434, 'turnipgreens': 6197, 'butternutsquash': 778, 'apples': 136, 'countryham': 1560, 'frozenedamamebeans': 2420, 'wholekernelcorn': 6521, 'drain': 1862, 'strongwhitebreadflour': 5800, 'saltedbutter': 5203, 'sunfloweroil': 5838, 'kalonji': 3220, 'instantyeast': 3083, 'freshcoriander': 2320, 'cookedwhiterice': 1501, 'mixedmushrooms': 3973, 'woodearmushrooms': 6620, 'vegetables': 6340, 'tacoseasoning': 5931, 'bellpepper': 412, 'bonelessskinlesschickenbreasts': 594, 'shreddedcheese': 5408, 'eauvie': 2012, 'leaves': 3431, 'canesugar': 859, 'bakingapples': 264, 'saltandgroundblackpepper': 5201, 'slicedblackolives': 5492, 'choppedgreenchilies': 1277, 'rosemaryleaves': 5122, 'leansteak': 3430, 'guinnesslager': 2844, 'driedrosemary': 1937, 'waterchestnuts': 6406, 'drainedandchopped': 1864, 'chinesecabbage': 1158, 'dippingsauces': 1839, 'leangroundpork': 3426, 'picogallo': 4479, 'cheeseslices': 1019, 'chorizo': 1288, 'frenchbread': 2288, 'drieddillweed': 1896, 'redwine': 4987, 'lamb': 3360, 'plainyogurt': 4572, 'kale': 3218, 'mexicanbeer': 3882, 'bonelessbeefshortribs': 563, 'guajillo': 2835, 'saffronthreads': 5173, 'freshspinach': 2372, 'bananasquash': 291, 'cannellinibeans': 879, 'shortening': 5393, 'frankshotsauce': 2280, 'pears': 4390, 'lightpancakesyrup': 3506, 'puffpastry': 4754, 'applecidervinegar': 129, 'mushroompowder': 4037, 'bonechickenthighs': 548, 'freshbayleaves': 2306, 'cilantro': 1325, 'skinlesschickenbreasts': 5471, 'lightsourcream': 3509, 'favabeans': 2139, 'freshtarragon': 2374, 'kidneybeans': 3256, 'orzopasta': 4252, 'drileavthyme': 1958, 'wasabi': 6401, 'jumboshrimp': 3202, 'stickyrice': 5762, 'whitesesameseeds': 6490, 'choppedalmonds': 1261, 'babyarugula': 217, 'tequila': 6006, 'margaritamix': 3772, 'crust': 1676, 'grits': 2769, 'pecanhalves': 4395, 'cornsyrup': 1548, 'superfinesugar': 5841, 'blackberries': 471, 'whiskey': 6440, 'lukewarmwater': 3706, 'activedryyeast': 14, 'freshmint': 2347, 'jamaicanjerkseason': 3138, 'pineapplepreserves': 4511, 'chickendrumsticks': 1069, 'pitas': 4545, 'goatcheese': 2606, 'gingerroot': 2555, 'ribeyesteaks': 5022, 'hotbeanpaste': 2998, 'medjooldate': 3858, 'dicedbellpepper': 1808, 'cream': 1586, 'smokedpaprika': 5550, 'smokedtrout': 5559, 'garlicpuree': 2526, 'greencardamompods': 2724, 'tomatopurée': 6094, 'pickledjalapenopeppers': 4464, 'romainelettuceleaves': 5109, 'cremamexicana': 1618, 'chilesauce': 1126, 'quesofresco': 4790, 'bostonlettuce': 613, 'persiancucumber': 4443, 'peanutbutter': 4376, 'ricepaper': 5038, 'koreanchileflakes': 3322, 'redchilepowder': 4892, 'bonelesschickenbreast': 567, 'cashewnuts': 935, 'kashmirichile': 3231, 'kasurimethi': 3234, 'mustardoil': 4044, 'gingerpaste': 2552, 'cinnamon': 1331, 'tomatoketchup': 6092, 'pecanpie': 4397, 'tostadashells': 6122, 'grouper': 2831, 'cornkernels': 1537, 'ricottasalata': 5051, 'pecorinocheese': 4399, 'granapadano': 2653, 'kaffirlimeleaves': 3210, 'corn': 1520, 'sobanoodles': 5580, 'galangal': 2495, 'greencurrypaste': 2730, 'bambooshoots': 281, 'choppednuts': 1281, 'bourbonwhiskey': 631, 'ketchup': 3245, 'rhubarb': 5019, 'liquid': 3544, 'storeboughtlowsodiumchickenstock': 5777, 'saffloweroil': 5169, 'jeera': 3166, 'cardamom': 914, 'crema': 1616, 'salmonsteaks': 5194, 'jam': 3131, 'karashi': 3226, 'springonions': 5716, 'freerangeegg': 2283, 'jicama': 3179, 'dicedcelery': 1809, 'shreddedsharpcheddarcheese': 5430, 'dinnerrolls': 1835, 'cactuspad': 802, 'fenugreekseeds': 2148, 'cauliflowerflowerets': 954, 'boilingpotatoes': 540, 'babyspinach': 235, 'tunasteaks': 6163, 'spices': 5686, 'octopuses': 4155, 'vidaliaonion': 6369, 'smokedgouda': 5541, 'smallredpotato': 5525, 'tuna': 6157, 'fatfreerefriedbeans': 2132, 'freshlime': 2340, 'groundwhitepepper': 2830, 'bertolli': 420, 'classicooliveoil': 1356, 'crispcookedandcrumbled': 1638, 'bertollivineyardpremiumcollectmarinarawithburgundiwinesauc': 425, 'breadcrumbfresh': 655, 'margaritasalt': 3773, 'groundveal': 2828, 'italianseasoningmix': 3113, 'beef': 352, 'solidpackpumpkin': 5607, 'freshthymeleaves': 2376, 'wholegrainthinspaghetti': 6520, 'grapeseedoil': 2671, 'organicsugar': 4238, 'driedcherry': 1882, 'strawmushrooms': 5792, 'vidalia': 6368, 'haricotsverts': 2885, 'waxbeans': 6415, 'prosciutto': 4739, 'romanocheese': 5111, 'cookedshrimp': 1496, 'strawberries': 5783, 'greenpeppercorns': 2747, 'porkloinchops': 4636, 'chipotlepeppers': 1201, 'blueberripreserv': 526, 'filet': 2170, 'thymeleaves': 6039, 'coffeebeans': 1411, 'veganmargarine': 6320, 'porkshoulder': 4651, 'parsleyleaves': 4323, 'freshraspberries': 2365, 'frozenwholekernelcorn': 2466, 'wishboneguacamolranchdress': 6607, 'tornromainlettucleav': 6113, 'russetpotatoes': 5157, 'mexicanchorizo': 3886, 'colbycheese': 1425, 'half': 2863, 'dryvermouth': 1979, 'cannedlowsodiumchickenbroth': 873, 'roastedsaltedcashews': 5084, 'freshlemon': 2337, 'toastedsesameseeds': 6063, 'paneercheese': 4297, 'thaifishsauce': 6020, 'lightbrownmuscavadosugar': 3491, 'englishcucumber': 2050, 'fillets': 2177, 'bonelesscentercutporkchops': 565, 'porktenderloin': 4662, 'shellonshrimp': 5368, 'steamedwhiterice': 5744, 'caramelsauce': 906, 'chilipepper': 1139, 'bonelessskinlesschicken': 592, 'seasonedbreadcrumbs': 5296, 'beanthreads': 345, 'reducedsodiumtamari': 4976, 'sourdoughbaguette': 5626, 'liquorice': 3551, 'greencardamom': 2723, 'szechwanpeppercorns': 5917, 'chineseblackbean': 1154, 'cookingwine': 1513, 'driedchile': 1885, 'rocksugar': 5103, 'beanpaste': 339, 'browncardamom': 706, 'leglamb': 3438, 'redkidneybeans': 4912, 'freshmushrooms': 2350, 'redradishes': 4924, 'granulatedgarlic': 2662, 'beans': 340, 'jackcheese': 3123, 'ricotta': 5049, 'reducedsodiumchickenbroth': 4962, 'mungbeansprouts': 4028, 'sesamepaste': 5340, 'pickledvegetables': 4469, 'jaggery': 3128, 'coconut': 1386, 'firmlypackedbrownsugar': 2199, 'choppedpecans': 1284, 'spam': 5661, 'ricecakes': 5030, 'kimchi': 3263, 'tapiocastarch': 5971, 'chili': 1128, 'cidervinegar': 1324, 'dressing': 1866, 'salad': 5181, 'tunafillets': 6159, 'lambneckfillets': 3374, 'choppedparsley': 1283, 'polenta': 4588, 'oliveoilcookingspray': 4179, 'cauliflowerflorets': 953, 'sweetchilisauce': 5863, 'oldelpaso': 4168, 'mildredenchiladasauce': 3911, 'pillsbury': 4493, 'refrigeratedcrescentdinnerrolls': 4997, 'refrigeratedcrescentrolls': 4998, 'redenchiladasauce': 4901, 'seascallops': 5294, 'gratelimepeel': 2694, 'bottledclamjuice': 616, 'sundriedtomatoesoil': 5834, 'unsalteddryroastpeanuts': 6232, 'driedredchilepeppers': 1934, 'cookedbrownrice': 1482, 'bokchoy': 543, 'frymix': 2477, 'yellowmustard': 6649, 'baguette': 255, 'orangezest': 4221, 'fennel': 2142, 'saltedroastpeanuts': 5212, 'oniontops': 4197, 'mustard': 4042, 'cornmeal': 1539, 'gratedlemonpeel': 2685, 'slicedalmonds': 5489, 'gratedorange': 2688, 'freshredchili': 2366, 'naturalpeanutbutter': 4063, 'gratedorangepeel': 2689, 'mincedginger': 3930, 'orangejuice': 4208, 'chiligarlicpaste': 1134, 'masaharina': 3795, 'crèmefraîche': 1690, 'doubleactingbakingpowder': 1853, 'duckbreasthalves': 1984, 'californiabayleaves': 830, 'mintleaves': 3951, 'vanillalowfatyogurt': 6284, 'pestosauce': 4446, 'arugula': 171, 'shreddedcoconut': 5409, 'glutinousriceflour': 2602, 'lentils': 3469, 'vermicellinoodles': 6366, 'pickledcarrots': 4462, 'whiteradish': 6484, 'soften': 5593, 'coconutsugar': 1401, 'whitecorntortillas': 6461, 'plantains': 4573, 'eggnoodles': 2024, 'beefshank': 384, 'friedgarlic': 2389, 'summersquash': 5829, 'ciabatta': 1318, 'juice': 3195, 'freshherbs': 2334, 'plumsauce': 4576, 'dough': 1860, 'coarseseasalt': 1374, 'driedkidneybeans': 1905, 'smokedhamhocks': 5545, 'briecheese': 678, 'wheatgerm': 6429, 'bonelessribeyesteaks': 587, 'vermicelli': 6365, 'minicucumbers': 3944, 'birdchile': 445, 'cheeseravioli': 1017, 'italianseasonedbreadcrumbs': 3108, 'meatbones': 3828, 'dicedonions': 1815, 'heartspalm': 2906, 'coconutcream': 1390, 'flaxseedmeal': 2241, 'coconutflour': 1393, 'slawmix': 5486, 'chunkypeanutbutter': 1309, 'pickles': 4472, 'hoagiebuns': 2954, 'fatfreecottagecheese': 2114, 'ovenreadylasagnanoodles': 4261, 'radicchio': 4810, 'sweetpaprika': 5881, 'andouillesausagelinks': 103, 'teabags': 5992, 'rosemarysprigs': 5124, 'rubbedsage': 5145, 'cannedbeefbroth': 863, 'kaleleaves': 3219, 'chickennoodlesoup': 1087, 'italianstylerolls': 3115, 'genoasalami': 2537, 'boiledham': 538, 'capicola': 894, 'tablecream': 5921, 'gratingcheese': 2695, 'dill': 1830, 'chocolatesauce': 1248, 'quail': 4782, 'caster': 944, 'shiso': 5385, 'extralargeeggs': 2082, 'italiansaladdressingmix': 3105, 'dashikombu': 1781, 'driedbonitoflakes': 1880, 'whitemiso': 6476, 'branzinofillets': 648, 'mixedgreens': 3972, 'roundsteaks': 5140, 'carbonatedbeverages': 912, 'saltines': 5220, 'barbecuesauce': 298, 'preparedpizzacrust': 4721, 'sargento': 5243, 'traditionalcutshreddedmozzarellacheese': 6126, 'erythritol': 2059, 'icewater': 3053, 'asparagustips': 198, 'nutmeg': 4142, 'freshchives': 2316, 'artichokes': 166, 'portabellomushroom': 4667, 'mediumeggs': 3848, 'allspiceberries': 55, 'nori': 4128, 'yellowtail': 6659, 'tomatillosalsa': 6082, 'chipotle': 1197, 'groundchicken': 2781, 'whitesandwichbread': 6489, 'tamarindpulp': 5952, 'mustardseeds': 4047, 'louisianahotsauce': 3589, 'arame': 150, 'konbu': 3318, 'lemoncucumber': 3446, 'himalayansalt': 2952, 'plainbreadcrumbs': 4563, 'backbaconrashers': 242, 'cookedquinoa': 1493, 'glutenfreetamari': 2598, 'uncookmediumshrimp': 6221, 'peelanddevein': 4402, 'horseradish': 2993, 'catfish': 947, 'basilpestosauce': 321, 'aioli': 31, 'mozzarellaballs': 4011, 'sundriedtomatoes': 5833, 'cocoapowder': 1385, 'pasillapepper': 4333, 'mexicancheese': 3883, 'roastedtomatoes': 5086, 'cornchips': 1525, 'chinesenoodles': 1174, 'fettuccinepasta': 2156, 'softfreshgoatcheese': 5595, 'choppedfreshsage': 1272, 'lagerbeer': 3358, 'poblanochiles': 4580, 'vinaigrettedressing': 6374, 'redbeets': 4886, 'boiledeggs': 537, 'castersugar': 945, 'springrollwrappers': 5719, 'breadflour': 659, 'chickenfingers': 1073, 'apricotpreserves': 146, 'gingerjuice': 2550, 'sesamesalt': 5341, 'ricewine': 5046, 'frozenspinach': 2455, 'lasagne': 3410, 'fatfreecreamcheese': 2115, 'nonfatsourcream': 4116, 'reducedfatswisscheese': 4955, 'fatfreemayonnaise': 2128, 'roastedgarlic': 5074, 'sundriedtomatopaste': 5835, 'sheep': 5362, 'milkcheese': 3915, 'champagnevinegar': 995, 'driedtartcherries': 1950, 'porcini': 4611, 'sourdoughloaf': 5628, 'duckfat': 1989, 'squabs': 5724, 'confit': 1469, 'unsaltedroastedpeanuts': 6238, 'widericenoodles': 6590, 'cannedcorn': 871, 'lettuce': 3483, 'agedgouda': 27, 'soppressata': 5612, 'beefsteak': 391, 'biscuits': 452, 'lumpcrabmeat': 3707, 'vegetablejuice': 6334, 'seafoodseasoning': 5290, 'applewoodsmokedbacon': 140, 'lemonslices': 3460, 'chickencutlets': 1067, 'groundmeat': 2799, 'redcabbage': 4889, 'wheatflour': 6427, 'wheatbran': 6423, 'lowfatbuttermilk': 3596, 'wholewheatflour': 6552, 'soba': 5579, 'mustardgreens': 4043, 'orzo': 4251, 'vealchops': 6298, 'coarsekoshersalt': 1372, 'anchochilepepper': 91, 'masa': 3792, 'oilcuredolives': 4159, 'pastarotel': 4339, 'pastawater': 4348, 'tamarind': 5946, 'blacksalt': 501, 'brinecuredblackolives': 682, 'porkchops': 4625, 'tabascopeppersauce': 5920, 'uncookedrigatoni': 6218, 'longgrainwhiterice': 3574, 'fishfillets': 2210, 'redchilipowder': 4895, 'rolls': 5106, 'cinnamonsugar': 1338, 'goldendeliciousapples': 2617, 'pepperflakes': 4423, 'ricesyrup': 5043, 'boscpears': 611, 'buckwheatnoodles': 734, 'curryleaves': 1729, 'smithfieldham': 5531, 'freshlygratedparmesan': 2342, 'hassavocado': 2891, 'mccormickparsleyflakes': 3821, 'bread': 651, 'lowersodiumchickenbroth': 3591, 'frozenblueberries': 2404, 'peaches': 4360, 'pittedolives': 4554, 'florets': 2248, 'thymesprigs': 6041, 'butterlettuce': 770, 'glutenfreehoisinsauce': 2587, 'edamame': 2014, 'groundcayennepepper': 2780, 'toastedcashews': 6053, 'shortrib': 5396, 'sambalulek': 5226, 'coconutvinegar': 1403, 'lemonsoda': 3461, 'annattooil': 121, 'stringbeans': 5794, 'eggrollwraps': 2029, 'steamedrice': 5743, 'penne': 4411, 'crystalfarmsbutter': 1683, 'crystalfarmsshreddedgoudacheese': 1685, 'mint': 3948, 'berries': 419, 'figs': 2168, 'sprinkles': 5721, 'boilingonions': 539, 'freshmarjoram': 2344, 'criminimushrooms': 1634, 'oscarmayerbacon': 4253, 'campbell': 839, 'condensedtomatosoup': 1465, 'porkbelly': 4617, 'brusselssprouts': 728, 'beefbouillongranules': 357, 'deliham': 1793, 'tenderloinroast': 6002, 'beefconsomme': 363, 'crumbledgorgonzola': 1654, 'crushedice': 1665, 'simplesyrup': 5455, 'cachaca': 798, 'blanchedalmondflour': 515, 'tapiocaflour': 5969, 'mildoliveoil': 3909, 'guinnessbeer': 2843, 'beefbroth': 360, 'beefroast': 379, 'fontinacheese': 2264, 'lambshanks': 3381, 'fatfreelowsodiumchickenbroth': 2127, 'greekseasoning': 2712, 'brownrice': 718, 'freshmexicancheese': 2346, 'hellmann': 2919, 'lightmayonnaise': 3504, 'crumbs': 1657, 'raisinbread': 4827, 'sweetenedcoconutflakes': 5870, 'bananas': 290, 'chipotlesalsa': 1205, 'refrigeratedbuttermilkbiscuits': 4995, 'driedapricot': 1871, 'pearlonions': 4386, 'lightmargarine': 3503, 'lemonpepper': 3456, 'peeledshrimp': 4408, 'groundthyme': 2822, 'maltvinegar': 3742, 'porkbutt': 4622, 'chutney': 1316, 'driedricenoodles': 1935, 'cannedchickenbreast': 866, 'italianeggplant': 3095, 'sicilianolives': 5449, 'mintsprigs': 3953, 'peasantbread': 4393, 'bakingmix': 267, 'poultryseasoning': 4690, 'ziti': 6685, 'naveloranges': 4069, 'gingerale': 2548, 'tandoorispices': 5960, 'methi': 3880, 'curds': 1713, 'regularsoysauce': 5010, 'beefrump': 381, 'kraftgratedparmesancheese': 3330, 'peas': 4392, 'stevia': 5751, 'liquidaminos': 3545, 'brownlentils': 714, 'boneinchickenbreasthalves': 553, 'smokedsausage': 5555, 'driedmincedonion': 1913, 'slicedham': 5500, 'lighttuna': 3511, 'niçoiseolives': 4088, 'garnish': 2530, 'driednavybeans': 1918, 'wheatberries': 6422, 'parsleysprigs': 4325, 'polentaprepar': 4590, 'allpurposeunbleachedflour': 53, 'roastedchestnuts': 5072, 'hashbrown': 2890, 'stewedtomatoes': 5755, 'lightcornsyrup': 3496, 'candy': 854, 'foodpastecolor': 2268, 'driedparsley': 1924, 'varnishclams': 6294, 'miso': 3960, 'asafoetidapowder': 176, 'ravva': 4861, 'lowfatcoconutmilk': 3606, 'thairedcurrypaste': 6024, 'chinesehotmustard': 1170, 'steamer': 5745, 'soymarinade': 5651, 'fish': 2203, 'asafetida': 173, 'rigatoni': 5053, 'pancetta': 4285, 'wholewheatfettuccine': 6551, 'groundsirloin': 2820, 'castellane': 942, 'hotitaliansausages': 3014, 'frenchrolls': 2297, 'jumbopastashells': 3199, 'ribroast': 5025, 'glutenfreeblend': 2577, 'boneskinlesschickenthigh': 603, 'mexicanseasoningmix': 3891, 'lightcreamcheese': 3498, 'eggsubstitute': 2031, 'shiitakemushroomcaps': 5379, 'beefbrisket': 359, 'minichocolatechips': 3943, 'minimarshmallows': 3945, 'balsamicvinaigrette': 278, 'peppersauce': 4436, 'greekstyleplainyogurt': 2714, 'asadero': 172, 'mildcurrypowder': 3905, 'beefstew': 393, 'picklingspices': 4478, 'teriyakisauce': 6008, 'ramennoodles': 4833, 'petitepeas': 4447, 'glaze': 2567, 'chickenmeat': 1086, 'waxypotatoes': 6416, 'flourfordusting': 2252, 'whitemushrooms': 6477, 'freshpeas': 2360, 'bowtiepasta': 634, 'seedlessgreengrape': 5308, 'countrywhitebread': 1564, 'greenleaflettuce': 2738, 'ricevermicelli': 5044, 'flakedcoconut': 2220, 'leafparsley': 3420, 'garlicpepperseasoning': 2524, 'pintobeans': 4530, 'freshtomatosalsa': 2379, 'greekfeta': 2711, 'nectarines': 4072, 'roastredpeppers': 5092, 'pittedprunes': 4555, 'mediumeggnoodles': 3847, 'stirfryvegetableblend': 5767, 'madrascurrypowder': 3725, 'chickenpieces': 1091, 'chips': 1209, 'lowfatcottagecheese': 3609, 'wholewheatlasagnanoodles': 6556, 'shreddedparmesancheese': 5425, 'frozencornkernels': 2417, 'buttercrackers': 762, 'roundsourdoughbread': 5139, 'toastedalmonds': 6050, 'redcurrantjelly': 4896, 'amaretto': 74, 'springmix': 5715, 'burgers': 750, 'driedfig': 1898, 'softgoat': 5596, 'wholewheatenglishmuffins': 6550, 'freshgreenbean': 2331, 'brewedcoffee': 674, 'seasaltflakes': 5293, 'apricots': 147, 'base': 315, 'tart': 5979, 'grappa': 2674, 'corngrits': 1532, 'roquefort': 5117, 'wine': 6598, 'beeftenderloin': 398, 'marinade': 3775, 'sirlointip': 5460, 'rutabaga': 5160, 'lambleg': 3369, 'quickcookingbarley': 4793, 'greencabbage': 2722, 'wholewheattortillas': 6586, 'nutritionalyeast': 4144, 'lowfatsoymilk': 3651, 'marmite': 3780, 'bagels': 254, 'chickenbouillongranules': 1055, 'dryyeast': 1981, 'fieldpeas': 2164, 'amaretti': 72, 'frozenstrawberries': 2458, 'finosherry': 2197, 'maggi': 3727, 'alfredosauce': 46, 'wholegrainmustard': 6514, 'cornedbeef': 1526, 'jack': 3122, 'hatchgreenchiles': 2892, 'morel': 4002, 'sliced': 5488, 'snappers': 5571, 'freshsage': 2368, 'cotija': 1552, 'drycoconut': 1966, 'hotpepper': 3018, 'dicedgreenchilies': 1811, 'chilibeans': 1130, 'tenderloin': 6001, 'rotisseriechicken': 5135, 'beateneggs': 348, 'crackers': 1578, 'broccoliflorets': 691, 'veggies': 6355, 'crystallizedginger': 1687, 'quatreépices': 4784, 'rawhoney': 4866, 'sweetener': 5873, 'oldfashionedoats': 4174, 'glutenfreesoysauce': 2596, 'toastedwalnuts': 6068, 'acornsquash': 13, 'finesalt': 2191, 'snails': 5567, 'clarifiedbutter': 1355, 'babybeets': 219, 'saladdressing': 5182, 'shrimppaste': 5438, 'whitebeans': 6445, 'seeds': 5312, 'creammushroomsoup': 1601, 'longgrainandwildricemix': 3571, 'smokedturkey': 5561, 'turkeylegs': 6185, 'cornbread': 1521, 'groundchuck': 2785, 'onionsoup': 4195, 'wholewheatbreadtoasted': 6544, 'sage': 5174, 'lambchops': 3363, 'jellogelatindessert': 3170, 'romana': 5110, 'squid': 5728, 'seafoodstock': 5291, 'applejuice': 131, 'elbowmacaroni': 2034, 'fullycookedham': 2486, 'whitecheddarcheese': 6454, 'gravy': 2699, 'seasonedflour': 5298, 'mandarinorangesegments': 3747, 'darkmolasses': 1771, 'scotchbonnetchile': 5278, 'lightcoconutmilk': 3495, 'cannedchoppedtomatoes': 869, 'serranopeppers': 5335, 'meat': 3826, 'leangroundturkey': 3427, 'ladyfingers': 3355, 'reducedfatcreamcheese': 4937, 'whippedtopping': 6437, 'unsweetenedchocolate': 6249, 'asianbasil': 182, 'vietnamesecoriander': 6370, 'perilla': 4439, 'chilebeanpaste': 1114, 'dates': 1784, 'aniseseed': 117, 'homemadechickenstock': 2968, 'hotcurrypowder': 3007, 'grandmarnier': 2655, 'pastrycream': 4353, 'cognac': 1417, 'shortbreadcookies': 5390, 'fromageblanc': 2396, 'redraspberries': 4925, 'greenteapowder': 2757, 'hurstfamilyharvestchipotlelimeblackbeansoupmix': 3040, 'glutenfreecookingspray': 2583, 'glutenfreecorntortillas': 2585, 'chipotlepuree': 1203, 'freshturmeric': 2381, 'whitepeppercorns': 6481, 'whitecabbage': 6451, 'rye': 5161, 'wheels': 6431, 'colasoftdrink': 1424, 'mexicanoregano': 3889, 'cottagecheese': 1553, 'tahinipaste': 5939, 'greenolives': 2741, 'saladleaves': 5185, 'scallops': 5272, 'gardenpeas': 2504, 'maldonseasalt': 3736, 'baconrind': 250, 'runnyhoney': 5154, 'frozenbroccoli': 2407, 'freshcurryleaves': 2324, 'dillweed': 1834, 'stonegroundcornmeal': 5774, 'nonfatricottacheese': 4115, 'orangepeel': 4212, 'beets': 407, 'porkbabybackribs': 4615, 'spicedrum': 5680, 'jerkseasoning': 3176, 'bbqsauce': 333, 'mexicanchocolate': 3885, 'shells': 5370, 'reducedfatcheese': 4934, 'cornflakecereal': 1527, 'frozenorangejuiceconcentrate': 2438, 'cherries': 1028, 'achiotepaste': 9, 'tilapia': 6046, 'poblanochilies': 4581, 'vanillasugar': 6289, 'garlicjuice': 2517, 'turkey': 6169, 'freshlimabeans': 2339, 'cilantrosprigs': 1329, 'crustysandwichrolls': 1680, 'tilapiafillets': 6047, 'drypasta': 1974, 'sweetitaliansausage': 5876, 'oystermushrooms': 4265, 'fattrimmedbeefflanksteak': 2138, 'saladoil': 5186, 'prosecco': 4743, 'breaddough': 658, 'cookedturkey': 1498, 'leftovergravy': 3435, 'mashedpotatoes': 3800, 'turkeybroth': 6177, 'babylimabeans': 230, 'firmsilkentofu': 2201, 'chinkiangvinegar': 1195, 'japaneseeggplants': 3151, 'fresca': 2301, 'relish': 5013, 'slaw': 5485, 'whippedcream': 6434, 'hotcocoamix': 3006, 'abbamele': 1, 'wildmushrooms': 6595, 'fregola': 2286, 'mushroomcaps': 4036, 'pinotgrigio': 4528, 'sablefish': 5166, 'liquideggsubstitute': 3546, 'chocolatecandybars': 1219, 'dryroastedpeanuts': 1976, 'pineapple': 4506, 'msg': 4016, 'gailan': 2492, 'freshchile': 2314, 'litecoconutmilk': 3552, 'pitteddate': 4550, 'goldensyrup': 2620, 'selfrisingcakeflour': 5315, 'pigeonpeas': 4489, 'sushirice': 5846, 'paneer': 4296, 'gramflour': 2651, 'soda': 5582, 'chaatmasala': 987, 'wholesnapper': 6532, 'sauerkraut': 5253, 'bananapeppers': 288, 'bonelessbeefroast': 561, 'bonelesschickenbreasthalves': 568, 'peachpreserves': 4367, 'lambloinchops': 3372, 'sesame': 5336, 'bonelessporkshoulder': 584, 'softboiledegg': 5590, 'equalsweetener': 2058, 'lemonrind': 3459, 'freshham': 2333, 'pasillachiles': 4332, 'pumpkinseeds': 4767, 'mulatochiles': 4022, 'truffleoil': 6147, 'vealscallopini': 6309, 'poppyseeds': 4610, 'blanchedalmonds': 516, 'rawcashews': 4865, 'glutenfreeallpurposeflour': 2574, 'xanthangum': 6624, 'cake': 813, 'icing': 3054, 'yeast': 6632, 'breadyeast': 666, 'veganparmesancheese': 6322, 'biscuitbakingmix': 449, 'ahi': 29, 'wholecranberrysauce': 6507, 'rosewater': 5126, 'lotusroots': 3585, 'tacoshells': 5934, 'colbyjackcheese': 1426, 'anjoupears': 119, 'driedsage': 1938, 'lambstewmeat': 3386, 'yardlongbeans': 6631, 'frozenbanana': 2400, 'pureacaipuree': 4768, 'almondbutter': 56, 'sausagelinks': 5256, 'chambord': 991, 'champagne': 993, 'curlyendive': 1718, 'pacepicantesauce': 4270, 'rosemary': 5121, 'lavenderbuds': 3414, 'apricothalves': 142, 'dicedtomatoesjuice': 1821, 'plums': 4575, 'stewingbeef': 5756, 'italiansaladdressing': 3104, 'shortpasta': 5395, 'piedough': 4482, 'lemonwedge': 3466, 'porterhousesteaks': 4669, 'driedtarragonleaves': 1949, 'gooseberries': 2630, 'fiberone': 2158, 'vanillacream': 6272, 'vanillawafers': 6292, 'greentea': 2754, 'limerind': 3524, 'reducedfatcreamypeanutbutter': 4939, 'tacotoppings': 5935, 'roteltomatoes': 5131, 'flatironsteaks': 2228, 'roastedsesameseeds': 5085, 'turkeyhotdogs': 6183, 'dillpickles': 1831, 'tripe': 6134, 'coffeegranules': 1413, 'plainlowfatyogurt': 4568, 'babyportobellomushrooms': 232, 'chanterelle': 998, 'driedpintobeans': 1929, 'groundchipotlechilepepper': 2784, 'bluecorntortillachips': 530, 'vegetsoupmix': 6352, 'darkcornsyrup': 1765, 'whitepeaches': 6479, 'porklard': 4632, 'wholealmonds': 6502, 'groundpaprika': 2805, 'groundalmonds': 2771, 'marjoram': 3777, 'orecchiette': 4223, 'pepperjack': 4426, 'babycorn': 223, 'bibblettuce': 439, 'cornichons': 1534, 'streakybacon': 5793, 'briochebread': 686, 'lardons': 3395, 'peeleddeveinedshrimp': 4404, 'lillet': 3514, 'sodawater': 5584, 'tigerprawn': 6043, 'walnuthalves': 6394, 'orangeflowerwater': 4206, 'andfatfreehalfhalf': 100, 'condensedchickenbroth': 1450, 'carawayseeds': 911, 'pastryshell': 4356, 'unsaltedchickenstock': 6231, 'yellowcurrypaste': 6641, 'glacecherries': 2564, 'raspberryjam': 4850, 'silverdragees': 5453, 'frozenraspberries': 2451, 'spongecake': 5709, 'sweetsherry': 5896, 'vanillapods': 6285, 'pizzashells': 4561, 'xuxu': 6625, 'frozenmixedthawedvegetables': 2434, 'raguoldworldstylepastasauc': 4820, 'looselypackedfreshbasilleaves': 3582, 'greenlentil': 2739, 'wholewheatspaghetti': 6580, 'triplesec': 6135, 'peartomatoes': 4391, 'gaetaolives': 2491, 'turbot': 6167, 'mediumgrainrice': 3850, 'freshoreganoleaves': 2355, 'refrigeratedpizzadough': 5003, 'powderedbuttermilk': 4695, 'chocolate': 1214, 'potatognocchi': 4680, 'oliveoilspray': 4182, 'pimenton': 4500, 'guajillochiles': 2837, 'hibiscustea': 2942, 'teas': 5996, 'agavenectar': 23, 'seltzerwater': 5319, 'bitters': 458, 'angelhair': 107, 'groundtumeric': 2823, 'wholecloves': 6505, 'redfoodcoloring': 4904, 'shanghainoodles': 5350, 'blackvinegar': 512, 'tangerine': 5962, 'reducedfatsourcream': 4954, 'bakedtortillachips': 263, 'reducedfatsharpcheddarcheese': 4952, 'gelato': 2534, 'cherrypreserves': 1034, 'amarettoliqueur': 75, 'aleppopepper': 42, 'plaindrybreadcrumb': 4565, 'vegetableoilspray': 6338, 'freshchevre': 2312, 'nuts': 4146, 'pieshell': 4487, 'beefsirloin': 388, 'cannedchickenbroth': 867, 'sugarpea': 5819, 'slicedshallots': 5509, 'marsalawine': 3785, 'baton': 327, 'croissantdough': 1642, 'pickledokra': 4466, 'purevanillaextract': 4772, 'applesauce': 137, 'sturgeonfillets': 5805, 'fishstock': 2215, 'glazedpecans': 2568, 'toastedpeanuts': 6057, 'hothousecucumber': 3012, 'clamjuice': 1352, 'selfrisingcornmeal': 5316, 'farmercheese': 2101, 'umeboshivinegar': 6210, 'umeboshi': 6207, 'yellowfoodcoloring': 6644, 'hungarianpaprika': 3038, 'halibutfillets': 2865, 'lambshoulder': 3382, 'tomatoeswithjuice': 6088, 'bulgur': 743, 'freshorangejuice': 2353, 'cantaloupe': 889, 'honeydewmelon': 2979, 'confitduckleg': 1470, 'shrimpshells': 5440, 'celeryseed': 973, 'sack': 5167, 'tablesalt': 5922, 'crystalhotsauce': 1686, 'newpotatoes': 4078, 'sourdoughbread': 5627, 'choppedfreshherbs': 1270, 'escarole': 2061, 'bostonbutt': 612, 'pandanextract': 4292, 'smokedkielbasa': 5547, 'allbeefhotdogs': 48, 'hotdogbun': 3008, 'solefillet': 5606, 'serranochilies': 5333, 'freshonion': 2351, 'mushroomsoysauce': 4040, 'yellowrocksugar': 6655, 'spanishpaprika': 5665, 'thickcutbacon': 6031, 'whitefleshedfish': 6466, 'preparsalsa': 4723, 'broth': 701, 'dhal': 1803, 'yellowlentils': 6647, 'coffeeliqueur': 1415, 'whitefishfillets': 6465, 'daal': 1747, 'idli': 3057, 'flatanchovy': 2225, 'italianloaf': 3097, 'pittedblackolives': 4548, 'rotini': 5133, 'frozenmixedvegetables': 2435, 'rolledoats': 5105, 'codfillets': 1407, 'buckwheatsobanoodles': 735, 'wasabipowder': 6403, 'reducedfatcoconutmilk': 4936, 'vinetomatoes': 6379, 'spanishrice': 5666, 'shelledpistachios': 5365, 'cannedtomatoes': 877, 'vietnamesefishsauce': 6371, 'porkspareribs': 4658, 'chineseredvinegar': 1182, 'pumpkin': 4761, 'shoyu': 5401, 'blacktea': 505, 'granola': 2659, 'frozenmixedberries': 2433, 'besanflour': 427, 'bhindi': 438, 'hangersteak': 2877, 'pastrydough': 4354, 'cookedbacon': 1477, 'driedmushrooms': 1917, 'topsirloin': 6111, 'pandanusleaf': 4293, 'gratedcoconut': 2679, 'tapiocapearls': 5970, 'porkbladesteaks': 4618, 'chineseeggnoodles': 1165, 'pastry': 4352, 'singlecrustpie': 5456, 'shreddedswisscheese': 5431, 'lightcream': 3497, 'angelfoodcakemix': 106, 'buttercreamfrosting': 763, 'calvados': 834, 'springgreens': 5714, 'beefrumpsteaks': 382, 'chestnutmushrooms': 1042, 'canningsalt': 882, 'soakingliquid': 5578, 'mediumshrimpuncook': 3854, 'allpurposeseasoning': 51, 'countrycrock': 1556, 'spread': 5712, 'condensedmilk': 1460, 'coffee': 1410, 'slabbacon': 5484, 'pigfeet': 4490, 'porkbones': 4620, 'bulgurwheat': 744, 'espressopowder': 2065, 'watermelon': 6410, 'fishbones': 2205, 'buns': 746, 'tandooripaste': 5958, 'boneless': 558, 'skinlesschickenbreast': 5469, 'risotto': 5060, 'cookedvermicelli': 1500, 'groundchickenbreast': 2782, 'nonfatgreekyogurt': 4106, 'processedcheese': 4731, 'hominygrits': 2975, 'shreddedreducedfatcheddarcheese': 5427, 'fatfreechickenbroth': 2113, 'frozenlimeadeconcentrate': 2428, 'lightrum': 3508, 'orangemarmalade': 4211, 'tamarindconcentrate': 5947, 'honeyroastedpeanuts': 2987, 'driedlentils': 1910, 'duckstock': 1993, 'lightredkidneybeans': 3507, 'beanthreadvermicelli': 346, 'phyllodough': 4455, 'thawedandsqueezeddry': 6027, 'garlicflakes': 2514, 'californiaavocado': 829, 'canola': 884, 'lowsodiumchickenstock': 3677, 'cilantrostems': 1330, 'currantjelly': 1724, 'masadough': 3793, 'cornhusks': 1533, 'tzatziki': 6205, 'pitabread': 4539, 'bonelesslamb': 580, 'grapefruit': 2666, 'habaneropepper': 2855, 'gratedromanocheese': 2693, 'pimentostuffedgreenolives': 4503, 'ditalinipasta': 1845, 'butterbeans': 759, 'soup': 5619, 'littleneckclams': 3553, 'frozensweetcorn': 2459, 'wholewheatbread': 6538, 'saladseasoningmix': 5187, 'chilipepperflakes': 1140, 'cubedbread': 1694, 'crushedpineapple': 1668, 'apricotnectar': 145, 'currysauce': 1733, 'pappardellepasta': 4309, 'duckdrippings': 1986, 'toast': 6049, 'dulceleche': 1995, 'freshmozzarella': 2348, 'stilton': 5763, 'chinesesausage': 1188, 'glutinousrice': 2601, 'fermentedblackbeans': 2151, 'keylimejuice': 3252, 'picklerelish': 4471, 'buttercookingspray': 761, 'brandy': 643, 'vanillabeans': 6269, 'saltpork': 5222, 'basmati': 323, 'jasmine': 3163, 'firmlypackedlightbrownsugar': 2200, 'freshcorn': 2321, 'shreddedzucchini': 5432, 'driedpasta': 1925, 'sweetriceflour': 5894, 'dicedtomatoeswithgarlicandonion': 1822, 'groundround': 2816, 'fettuccine': 2155, 'cookanddrain': 1475, 'unsweetenedsoymilk': 6256, 'cookedpumpkin': 1492, 'frozenlimeade': 2427, 'lemonlimesoda': 3453, 'muenstercheese': 4018, 'lobster': 3559, 'rocketleaves': 5099, 'loinporkroast': 3565, 'lemonextract': 3449, 'unsweetenedapplejuice': 6246, 'wholeallspice': 6501, 'bonitoflakes': 605, 'smallredbeans': 5524, 'plainchocolate': 4564, 'aniseextract': 113, 'yolk': 6667, 'poirewilliams': 4587, 'bartlettpears': 313, 'vanillaicecream': 6280, 'galaapples': 2493, 'mexicanstylecheeseblend': 3892, 'cheesespread': 1021, 'vegetarianrefriedbeans': 6350, 'quinces': 4802, 'edibleflowers': 2016, 'cornbreadstuffingmix': 1524, 'raguoldworldstyletraditpastasauc': 4822, 'centercutloinporkchop': 978, 'pumpkinpiespice': 4762, 'pancakemix': 4284, 'fryerchickens': 2474, 'tarragon': 5976, 'storeboughtlowsodiumchickenbroth': 5776, 'groundchile': 2783, 'chilibeansauce': 1131, 'longbeans': 3569, 'nonfatsweetenedcondensedmilk': 4117, 'salteddryroastedpeanuts': 5205, 'mahimahi': 3728, 'buffalosauce': 740, 'bluecheesedressing': 529, 'asafoetida': 175, 'nigellaseeds': 4086, 'cannellonishells': 881, 'lightalfredosauce': 3489, 'cheesfreshmozzarella': 1025, 'toastednori': 6055, 'curlykale': 1719, 'togarashi': 6078, 'lumpiaskins': 3708, 'saltinecrumbs': 5219, 'redcapsicum': 4890, 'sprouts': 5723, 'liquidsmoke': 3548, 'lemonlimebeverage': 3452, 'herbesprovence': 2928, 'lager': 3357, 'topsirloinsteak': 6112, 'wellscrub': 6417, 'porkroast': 4644, 'polishsausage': 4591, 'breastshalves': 672, 'shrimptails': 5443, 'bayscallops': 332, 'capellini': 891, 'mildcurrypaste': 3904, 'fritos': 2394, 'whitecorn': 6458, 'ranchsaladdressingmix': 4841, 'ponzu': 4600, 'veal': 6295, 'chard': 1002, 'goldpotatoes': 2624, 'pomegranateseeds': 4596, 'pomegranatejuice': 4594, 'limeslices': 3525, 'caesarsaladdressing': 804, 'croutons': 1648, 'baconbits': 245, 'belgianendive': 409, 'duckbreasts': 1985, 'panko': 4301, 'coarsegrainsalt': 1370, 'hungariansweetpaprika': 3039, 'roastedhazelnuts': 5077, 'countrybread': 1555, 'noriflakes': 4129, 'veganmayonnaise': 6321, 'condensedfiestanachocheesesoup': 1457, 'frozentatertots': 2462, 'frozenvegetables': 2463, 'progressoblackbeans': 4735, 'greenenchiladasauce': 2731, 'choppedgreenchiles': 1276, 'nonfatyogurt': 4120, 'whitefish': 6464, 'bestfoodrealmayonnais': 432, 'ampalaya': 87, 'chickenfeet': 1071, 'cactusleaf': 801, 'chiliseasoningmix': 1144, 'granmarnier': 2657, 'frisee': 2392, 'wishboneitaliandressing': 6608, 'baconfat': 247, 'pernod': 4440, 'alcohol': 39, 'darkchocolate': 1762, 'evaporatedskimmilk': 2074, 'knorrgarlicminicub': 3295, 'corntortillachips': 1549, 'ajwain': 33, 'flatcut': 2227, 'anchovies': 94, 'splendabrownsugarblend': 5701, 'anaheimchile': 88, 'liqueur': 3543, 'agedbalsamicvinegar': 25, 'mexicanvanillaextract': 3893, 'kirbycucumbers': 3275, 'lowsodiumvegetablebroth': 3701, 'limoncello': 3528, 'primerib': 4729, 'hotchilisauce': 3004, 'hotchilipowder': 3003, 'bittermelon': 457, 'goldenbeets': 2614, 'pizzadoughs': 4558, 'blackcod': 477, 'biscuitmix': 451, 'tamarindextract': 5948, 'knorr': 3286, 'beefbouillon': 356, 'shichimitogarashi': 5377, 'ricebranoil': 5029, 'cavolonero': 960, 'wintersquash': 6605, 'thinpizzacrust': 6034, 'chickenbreasttenders': 1061, 'toastedpinenuts': 6059, 'kahlua': 3211, 'oreo': 4226, 'cookies': 1504, 'beefstockcubes': 397, 'leanbeef': 3422, 'gratedparmesanromano': 2691, 'fleursel': 2243, 'gardencress': 2503, 'turkeybreastcutlets': 6173, 'atta': 206, 'methileaves': 3881, 'pudding': 4750, 'wholewheatpastryflour': 6561, 'neapolitanicecream': 4071, 'bonelesschicken': 566, 'mackerelfillets': 3719, 'black': 463, 'gluten': 2572, 'roastturkey': 5093, 'barilla': 300, 'tomatojuice': 6091, 'sugarsyrup': 5823, 'cookedchickenbreasts': 1484, 'longpasta': 3579, 'linguini': 3532, 'artichokheartmarin': 167, 'instantrice': 3079, 'beefsteaktomatoes': 392, 'perciatelli': 4438, 'blackmissionfigs': 489, 'swordfishsteaks': 5913, 'anchovypaste': 97, 'chunkytomatosalsa': 1313, 'freshlavender': 2335, 'farro': 2104, 'freshchervil': 2311, 'darkbeer': 1759, 'muscovadosugar': 4033, 'sweetpotatoesyams': 5888, 'ican': 3044, 'believeit': 411, 'notbutter': 4135, 'dijonstylemustard': 1829, 'focaccia': 2259, 'porksausages': 4649, 'mixeddriedfruit': 3969, 'cremeanglaise': 1619, 'nonfatevaporatedmilk': 4104, 'pearlrice': 4387, 'bicarbonatesoda': 440, 'rapeseedoil': 4845, 'whitericeflour': 6486, 'raspberrypreserves': 4854, 'sponge': 5708, 'doritos': 1850, 'chucksteaks': 1302, 'hatchomiso': 2893, 'japaneserice': 3157, 'pandrippings': 4294, 'liquidhoney': 3547, 'juniperberries': 3203, 'bonelessbeefchuckroast': 559, 'freshchorizo': 2317, 'efunoodl': 2019, 'blacktrumpetmushrooms': 510, 'shaohsingwine': 5353, 'chinesecelery': 1159, 'whitetruffleoil': 6493, 'nonfatcottagecheese': 4099, 'custardpowder': 1737, 'drippings': 1960, 'picklingsalt': 4477, 'softtofu': 5603, 'lilyflowers': 3516, 'cloudearfungus': 1365, 'frangelico': 2275, 'masala': 3796, 'wholechicken': 6504, 'sirloinsteak': 5459, 'ahitunasteaks': 30, 'mincedpork': 3935, 'cabernetsauvignon': 794, 'rumproast': 5151, 'bloodorangejuice': 522, 'papaya': 4306, 'herbvinegar': 2934, 'freshprawn': 2364, 'dicedchicken': 1810, 'mirlitons': 3959, 'extrasharpwhitecheddarcheese': 2088, 'greensplitpeas': 2753, 'barleyflakes': 306, 'brownbasmatirice': 703, 'saltaddedchickenbroth': 5200, 'nosaltaddedblackbeans': 4133, 'pig': 4488, 'sodabread': 5583, 'hotdogs': 3009, 'italianstylestewedtomatoes': 3117, 'vealstock': 6313, 'crepes': 1629, 'bottledbalsamicvinaigrette': 614, 'italiantomatoes': 3118, 'groundbison': 2774, 'beefsmokedsausage': 389, 'garlicchives': 2512, 'greengarlic': 2733, 'whey': 6432, 'earcorn': 2005, 'friedrice': 2390, 'roseessence': 5119, 'khoa': 3254, 'chanadal': 996, 'caviar': 959, 'wholewheatpizzacrust': 6571, 'greekstylevinaigrette': 2716, 'dumplings': 1998, 'choysum': 1295, 'driedmixedherbs': 1916, 'smokedbacon': 5534, 'cider': 1323, 'armagnac': 158, 'prunes': 4748, 'cocoa': 1384, 'chickenthighfillets': 1100, 'creolespicemix': 1627, 'yams': 6630, 'red': 4880, 'brinecuredgreenolives': 683, 'pineapplejuiceconcentrate': 4510, 'splendacaloriesweetener': 5702, 'dayoldbread': 1786, 'tomatosalsa': 6095, 'pizzasauce': 4559, 'slicedkalamataolives': 5501, 'flatbread': 2226, 'buttermilkbiscuits': 773, 'hogcasings': 2957, 'rioja': 5057, 'porkshoulderbutt': 4653, 'smokedsweetspanishpaprika': 5558, 'fatback': 2108, 'redvermouth': 4984, 'stewmeat': 5759, 'porkstewmeat': 4659, 'porkneck': 4639, 'turkeystock': 6192, 'suet': 5812, 'cookedbarley': 1478, 'oatmeal': 4150, 'porkblood': 4619, 'chickenschmaltz': 1094, 'filepowder': 2169, 'blacktealeaves': 506, 'ginseng': 2562, 'maplesugar': 3766, 'piecrust': 4480, 'comino': 1444, 'canevinegar': 861, 'driedcascabelchile': 1881, 'satsumaorange': 5248, 'flounderfillets': 2250, 'spaghettini': 5658, 'wholeokra': 6528, 'slicedcucumber': 5496, 'ripeolives': 5058, 'subbuns': 5806, 'balsamicobianco': 276, 'turkeybreast': 6172, 'vealforstew': 6302, 'filletredsnapper': 2176, 'coke': 1420, 'bonelesschuckroast': 575, 'ravioli': 4860, 'meatloafmix': 3837, 'rub': 5144, 'gorgonzola': 2633, 'canadianbacon': 841, 'squash': 5725, 'kamaboko': 3221, 'tokyonegi': 6079, 'komatsuna': 3317, 'roséwine': 5127, 'panettone': 4299, 'whitecheese': 6455, 'sambuca': 5227, 'fatfreefrozentopwhip': 2118, 'pierogi': 4485, 'salmonroe': 5192, 'buckwheatflour': 731, 'smokedsalmon': 5554, 'dilltips': 1833, 'calamansijuice': 824, 'blackbeansaucewithgarlic': 469, 'frozenbreaddough': 2405, 'branzino': 647, 'tacomeat': 5928, 'wholewheatbreadcrumbs': 6539, 'macaroni': 3714, 'groundmustard': 2800, 'jerkmarinade': 3172, 'scotch': 5277, 'refrigeratedbiscuits': 4993, 'miniphyllodoughshells': 3947, 'bows': 633, 'dillseed': 1832, 'groundoregano': 2804, 'milkchocolate': 3916, 'hazelnutbutter': 2898, 'seitan': 5313, 'figjam': 2167, 'chickenstockcubes': 1097, 'redfishfillet': 4903, 'sofrito': 5589, 'groundturkeybreast': 2825, 'coconutjuice': 1394, 'cookingliquid': 1508, 'kumquats': 3350, 'grilledchicken': 2763, 'somen': 5610, 'usukuchisoysauce': 6261, 'unsweetenedshreddeddriedcoconut': 6255, 'cilantroroot': 1328, 'brownmushroom': 715, 'freshparsleyleaves': 2358, 'rouille': 5136, 'saladgreens': 5184, 'wholegraindijonmustard': 6512, 'striploinsteak': 5798, 'pastryflour': 4355, 'starch': 5735, 'chineseblackvinegar': 1156, 'tortellini': 6115, 'reducedfatalfredosauce': 4932, 'blackchicken': 476, 'potatochips': 4675, 'rocksalt': 5101, 'wheatcrackers': 6426, 'bakingspray': 271, 'lavender': 3413, 'annattopowder': 122, 'chineseeggplants': 1166, 'fatfreegreekyogurt': 2119, 'tabascogreenpeppersauce': 5919, 'hummus': 3036, 'spanishchorizo': 5662, 'jamaicanjerkspice': 3139, 'organicvegetablebroth': 4241, 'wholemilkgreekyogurt': 6524, 'wholewheatpita': 6566, 'deveinedshrimp': 1800, 'custard': 1735, 'powderedmilk': 4699, 'pregotraditionalitaliansauce': 4713, 'brownhashpotato': 710, 'freshblueberries': 2308, 'kochujang': 3314, 'softwheatflour': 5604, 'bottlegourd': 620, 'palmoil': 4276, 'driedshrimp': 1944, 'passionfruit': 4335, 'frozencheeseravioli': 2411, 'cocktailcherries': 1380, 'stgermainliqueur': 5760, 'cherryjuice': 1031, 'oreganoleaves': 4225, 'milditaliansausage': 3908, 'port': 4666, 'sandwichrolls': 5233, 'whiteflour': 6467, 'zatarain': 6680, 'jambalayamix': 3143, 'frozenpeppersandonions': 2444, 'groundroastedsichuanpeppers': 2814, 'potatoflour': 4679, 'rotelle': 5129, 'sweetitaliansausaglinks': 5877, 'cutinto': 1741, 'frenchfriedonions': 2291, 'wideeggnoodles': 6589, 'sprite': 5722, 'idahopotatoes': 3056, 'orangepekoetea': 4213, 'popcorn': 4603, 'marrowbones': 3784, 'spanishonion': 5664, 'puylentils': 4778, 'dicedlamb': 1813, 'seabass': 5282, 'essence': 2066, 'savory': 5262, 'shreddedpepperjackcheese': 5426, 'pineapplechunks': 4507, 'wheatfreesoysauce': 6428, 'glutenfreechickenstock': 2582, 'canela': 858, 'citrusvinaigrette': 1350, 'slicedsalami': 5508, 'sweetcorn': 5866, 'creamstylecorn': 1608, 'breadmix': 662, 'curlyleafspinach': 1721, 'roastedcashews': 5071, 'yellowbeansauce': 6634, 'bananablossom': 282, 'bawanggoreng': 329, 'wondraflour': 6616, 'neutraloil': 4075, 'greateryam': 2705, 'driedprawns': 1932, 'chilearbol': 1113, 'yellowmustardseeds': 6650, 'flatleafspinach': 2230, 'curedchorizo': 1714, 'bonito': 604, 'knockwurst': 3285, 'reddeliciousapples': 4899, 'pinotblanc': 4527, 'brats': 649, 'cinnamonrolls': 1336, 'bonelessporkshoulderroast': 585, 'chocolatesyrup': 1253, 'shreddedextrasharpcheddarcheese': 5412, 'creoleseasoningmix': 1626, 'mincedpeperoncini': 3934, 'teleme': 5998, 'blackforestham': 483, 'frozenlimabeans': 2426, 'pheasant': 4450, 'rabbit': 4807, 'venison': 6359, 'jelly': 3171, 'bass': 325, 'gyozawrappers': 2850, 'bouilloncube': 625, 'turkeybreakfastsausage': 6171, 'tarama': 5973, 'hotmustard': 3017, 'gratedhorseradish': 2682, 'vealshanks': 6311, 'yukongold': 6675, 'toastednuts': 6056, 'fivespicepowder': 2217, 'vinaigrette': 6373, 'paellarice': 4272, 'splendagranular': 5703, 'dicedredonions': 1818, 'lemonpeel': 3455, 'adzukibeans': 20, 'choppedhazelnuts': 1279, 'glutenfreevanillaextract': 2600, 'shreddedmildcheddarcheese': 5421, 'orangerind': 4215, 'nosaltaddeddicedtomatoes': 4134, 'roastedpumpkinseeds': 5081, 'unbakedpiecrusts': 6213, 'onionsalt': 4193, 'freshshiitakemushrooms': 2371, 'lobstermeat': 3560, 'irishwhiskey': 3089, 'strawberryjam': 5788, 'clottedcream': 1364, 'vanillaessence': 6274, 'sobrasada': 5581, 'orangeblossomextract': 4202, 'driedfettuccine': 1897, 'albacoretunawater': 38, 'turkeytenderloins': 6193, 'coco': 1383, 'coldmilk': 1430, 'bacongrease': 248, 'goldencastersugar': 2616, 'largefreerangeegg': 3401, 'carrotgreens': 928, 'rawalmond': 4862, 'cranberries': 1579, 'driedapple': 1869, 'roastingchickens': 5089, 'groundsichuanpepper': 2819, 'peachessyrup': 4363, 'slicedcarrots': 5493, 'currant': 1723, 'portobellocaps': 4670, 'oilpackedanchovyfillets': 4162, 'beefribs': 377, 'nonfatbuttermilk': 4096, 'lowfatyogurt': 3663, 'dumplingwrappers': 2000, 'blackfungus': 484, 'nondairymargarine': 4090, 'nondairymilk': 4091, 'pecanmeal': 4396, 'frenchbaguette': 2287, 'redserranopeppers': 4928, 'frozencarrots': 2410, 'honeyglazedham': 2982, 'chitterlings': 1210, 'bakedham': 260, 'steamedbrownrice': 5742, 'roast': 5063, 'knorrparsleiminicub': 3301, 'knorrcilantrominicub': 3293, 'oxtails': 4262, 'extrawideeggnoodles': 2091, 'mixedvegetables': 3978, 'semolinaflour': 5330, 'soyglaze': 5650, 'instantcoffee': 3071, 'chocolatewafercookies': 1255, 'largetomato': 3407, 'karo': 3227, 'argocornstarch': 155, 'lowfatplainyogurt': 3638, 'beefdemiglace': 365, 'mungbeans': 4027, 'smokedham': 5544, 'quinoaflour': 4804, 'speltflour': 5678, 'datesugar': 1785, 'finegranulatedsugar': 2186, 'stuffingmix': 5803, 'avocadooil': 210, 'fideos': 2161, 'limabeans': 3517, 'coconutextract': 1391, 'pureoliveoil': 4770, 'wholewheatpitabread': 6567, 'heirloomtomatoes': 2917, 'cabbageleaves': 791, 'bucatini': 729, 'cookedanddrained': 1476, 'habanerohotsauce': 2854, 'shellpasta': 5369, 'sardines': 5242, 'kirsch': 3276, 'soybeanpaste': 5646, 'tangerinejuice': 5963, 'cookingfat': 1507, 'mexicorn': 3894, 'turkeymeat': 6186, 'coconutrum': 1400, 'cranberryjuice': 1581, 'bananaliqueur': 287, 'reddrum': 4900, 'seedlessredgrapes': 5310, 'mantou': 3761, 'harissapaste': 2887, 'clearhoney': 1360, 'biryanimasala': 447, 'countrystylebread': 1562, 'teardroptomatoes': 5995, 'freshtunasteaks': 2380, 'groundsausage': 2818, 'pitapockets': 4543, 'worcestershiresaucelowsodium': 6623, 'velveeta': 6356, 'whitechocolate': 6456, 'shirataki': 5381, 'enokitake': 2055, 'shungiku': 5446, 'watercressleaves': 6409, 'melbatoast': 3861, 'tawnyport': 5990, 'stout': 5780, 'meringue': 3872, 'darkchickenstock': 1761, 'smallcapers': 5516, 'pickledradish': 4468, 'brownricevinegar': 724, 'cookedbrisket': 1481, 'garlicmayonnaise': 2518, 'cremamexican': 1617, 'applejuiceconcentrate': 132, 'sole': 5605, 'bouquet': 628, 'gremolata': 2760, 'pekinduckbreasthalves': 4410, 'vodka': 6387, 'stolichnaya': 5769, 'fruitfilling': 2471, 'pepperocini': 4431, 'tunapackedoliveoil': 6161, 'applepiespice': 134, 'candiedlemonpeel': 849, 'wontonskins': 6618, 'smalleggs': 5518, 'sweetricewine': 5895, 'parsleyflakes': 4322, 'tongue': 6100, 'granulatedwhitesugar': 2665, 'driedwoodearmushrooms': 1955, 'vanillaflavoring': 6276, 'longgrainbrownrice': 3572, 'cherrypeppers': 1032, 'dandelion': 1754, 'pinkgrapefruitjuice': 4521, 'pinkgrapefruit': 4520, 'choppedcookedham': 1267, 'minutesteaks': 3956, 'lowfatvanillaicecream': 3657, 'curlyleafparsley': 1720, 'brownricesyrup': 723, 'slicedolives': 5506, 'roastedunsaltedcashews': 5087, 'choppedleaves': 1280, 'swansonbeefbroth': 5848, 'pacechunkysalsa': 4269, 'tartcherries': 5982, 'almondpaste': 64, 'tamales': 5944, 'mixednuts': 3974, 'meatballs': 3827, 'cubanpeppers': 1692, 'porkroll': 4645, 'roastporkseasoningmix': 5091, 'beefliver': 374, 'skatewing': 5464, 'turkeysausage': 6190, 'cantal': 888, 'chervil': 1040, 'wafer': 6389, 'beaumondeseasoning': 350, 'powderedgelatin': 4698, 'cornmixmuffin': 1540, 'ricesticknoodles': 5041, 'sunflowerseedbutter': 5839, 'chowmeinnoodles': 1293, 'jackfruit': 3126, 'sansho': 5241, 'skinlesschickenpieces': 5473, 'pitarounds': 4544, 'shiromiso': 5383, 'bulkitaliansausag': 745, 'soybeansprouts': 5647, 'fiddleheadferns': 2160, 'prebakedpizzacrusts': 4710, 'blacktruffles': 509, 'oilpackedanchovies': 4161, 'artichokebottoms': 164, 'salsify': 5197, 'burdock': 747, 'tamarindjuice': 5949, 'grenadine': 2761, 'frozenlemonadeconcentrate': 2425, 'peachnectar': 4365, 'grapes': 2670, 'merguezsausage': 3871, 'lowfatshreddedcheddarcheese': 3647, 'fatfrecreamchickensoup': 2109, 'fatfreecreammushroomsoup': 2116, 'dicedapples': 1806, 'porkribchops': 4641, 'carnarolirice': 920, 'realmayonnaise': 4876, 'cornbreadmix': 1523, 'quesoasadero': 4786, 'candybar': 855, 'wholemilkyoghurt': 6526, 'poi': 4585, 'sourorangejuice': 5633, 'grahamcrackers': 2646, 'garlicbulb': 2510, 'saltedpeanuts': 5208, 'hotchilioil': 3001, 'crisps': 1639, 'cornflakecrumbs': 1528, 'babybackribs': 218, 'freshtofu': 2377, 'cavatappi': 956, 'stirfrysauce': 5766, 'organictomato': 4239, 'spikeseasoning': 5695, 'smallpasta': 5521, 'groundfennel': 2793, 'sharpwhitecheddarcheese': 5359, 'slicedturkey': 5511, 'lowfatrefriedbeans': 3640, 'roastedwhitesesameseeds': 5088, 'boneinporkchops': 555, 'splitblacklentils': 5705, 'bengalgram': 414, 'wishboneranchdress': 6612, 'gelatin': 2532, 'rajma': 4830, 'skippycreamypeanutbutter': 5482, 'banhhoi': 293, 'tritip': 6137, 'fusilli': 2489, 'italianherbs': 3096, 'proteinpowder': 4744, 'açai': 214, 'almondmilk': 62, 'tamarindpod': 5951, 'preparedpastasauce': 4719, 'emerilsoriginalessence': 2039, 'dicedyellowonion': 1823, 'shouldermeat': 5398, 'manicottipasta': 3755, 'largesnails': 3406, 'snailshells': 5568, 'haddockfillets': 2860, 'breadciabatta': 654, 'yellowhominy': 6646, 'seafood': 5286, 'convertedrice': 1474, 'chickensausage': 1093, 'springrollskins': 5718, 'seabassfillets': 5283, 'shreddedcoleslawmix': 5411, 'beeftenderloinsteaks': 399, 'crab': 1567, 'smallcurdcottagecheese': 5517, 'cornonthecob': 1544, 'largeflourtortillas': 3400, 'smallwhitebeans': 5528, 'bacardi': 240, 'mixersmargaritamix': 3979, 'blueberries': 525, 'superior': 5843, 'bloodsausage': 523, 'toastedsliveredalmonds': 6065, 'yellowrice': 6654, 'bakedbeans': 258, 'hollandaisesauce': 2963, 'tapioca': 5968, 'cardamomseeds': 916, 'rawsugar': 4871, 'croissants': 1643, 'swisssteak': 5910, 'stickbutter': 5761, 'chickenbreastfillets': 1056, 'gratedcarrot': 2677, 'oats': 4153, 'lightbutter': 3493, 'celeryflakes': 966, 'breadstick': 665, 'fronds': 2397, 'gratedcotija': 2680, 'ditalini': 1844, 'cranberrybeans': 1580, 'portwine': 4672, 'sorghumsyrup': 5617, 'centercutbacon': 977, 'californiachile': 831, 'annattoseeds': 123, 'applebutter': 127, 'lightmolasses': 3505, 'fivespice': 2216, 'freshchili': 2315, 'frenchonionsoup': 2296, 'fishballs': 2204, 'mediumfirmtofu': 3849, 'chilibeanpaste': 1129, 'margheritapepperoni': 3774, 'softshellclams': 5600, 'sweetbasil': 5857, 'driedblackbeans': 1877, 'porkshoulderbostonbutt': 4652, 'orangeslices': 4219, 'picklingcucumbers': 4475, 'lemonthyme': 3462, 'frozengreenbeans': 2423, 'pittedgreenolives': 4551, 'bouillongranules': 626, 'beefstewmeat': 394, 'reducedfatcheddarcheese': 4933, 'haasavocados': 2851, 'preparedmustard': 4718, 'ritzcrackers': 5062, 'sultana': 5825, 'uncleben': 6216, 'originalconvertedbrandrice': 4246, 'extralargeshrimp': 2083, 'cuttlefishballs': 1746, 'orangesoda': 4220, 'compote': 1445, 'cointreau': 1418, 'kraftzestyitaliandressing': 3347, 'chunklighttunawater': 1305, 'shreddedlowfatsharpcheddar': 5420, 'eggbeaters': 2020, 'rawmilk': 4867, 'soymilk': 5652, 'cacaopowder': 797, 'sesamechilioil': 5338, 'cocktailsauce': 1382, 'tartarsauce': 5981, 'babyeggplants': 224, 'blackwalnut': 513, 'wagonwheels': 6392, 'cherrygelatin': 1030, 'crushedpineapplesjuice': 1669, 'bingcherries': 444, 'chilegarlicsauce': 1117, 'greenpumpkinseeds': 2750, 'lowsodiumdicedtomatoes': 3680, 'sandingsugar': 5229, 'niangao': 4082, 'frozenartichokehearts': 2399, 'lowsodiumworcestershiresauce': 3704, 'ribeyeroast': 5021, 'cookingsherry': 1511, 'emmenthal': 2040, 'braggliquidaminos': 638, 'marrons': 3781, 'liver': 3554, 'driedsaltedcodfish': 1939, 'ackee': 12, 'halibut': 2864, 'darkale': 1758, 'blacklentil': 488, 'sweetsoysauce': 5898, 'mixedseafood': 3976, 'purevanilla': 4771, 'unsaltedmargarine': 6233, 'yellowcorn': 6638, 'abalone': 0, 'shahijeera': 5347, 'kewraessence': 3249, 'mutton': 4048, 'knudsen': 3310, 'milkfatlowfatcottagecheese': 3920, 'kraftreducedfatshreddedmozzarellacheese': 3337, 'soynuts': 5653, 'thainoodles': 6023, 'rainbowtrout': 4826, 'tostadas': 6121, 'nopales': 4126, 'moqua': 3999, 'sweetpicklerelish': 5886, 'asianchilepaste': 184, 'posole': 4673, 'frozenbananaleaf': 2401, 'burrobanana': 757, 'porkcountrystyleribs': 4626, 'bluecheese': 528, 'roastedgroundcumin': 5076, 'saigoncinnamon': 5178, 'collardgreenleaves': 1436, 'sweetwhitemisopaste': 5903, 'satsumaimo': 5246, 'cheesesoup': 1020, 'turkeyburger': 6178, 'vegetablestockpowder': 6346, 'havarticheese': 2895, 'oceanperch': 4154, 'fishsteaks': 2214, 'reducedfatmontereyjackcheese': 4945, 'porkliver': 4634, 'beefjerky': 372, 'syrup': 5915, 'crèmecassis': 1688, 'lowfatricottacheese': 3642, 'sidepork': 5450, 'maltose': 3739, 'redpreservedbeancurd': 4922, 'caponata': 897, 'cutlet': 1744, 'whitechocolatechips': 6457, 'chocolatesprinkles': 1251, 'baileysirishcreamliqueur': 257, 'milkchocolatechips': 3917, 'hamburger': 2872, 'bocconcini': 535, 'partskimmozzarella': 4327, 'peachesheavysyrup': 4361, 'steviaextract': 5752, 'unsaltedpeanutbutter': 6234, 'squirt': 5730, 'creamcelerysoup': 1587, 'celeryheart': 967, 'mildporksausage': 3910, 'peperoncino': 4416, 'kerrygoldpureirishbutter': 3244, 'imitationcrabmeat': 3059, 'piecrustmix': 4481, 'mccormick': 3817, 'dicedham': 1812, 'italianplumtomatoes': 3101, 'kelp': 3242, 'doenzang': 1846, 'sweetpickle': 5884, 'fullycookedluncheonmeat': 2487, 'lowsodiumcannedchickenstock': 3674, 'pinkbeans': 4518, 'strozzapreti': 5801, 'tasso': 5987, 'onionflakes': 4188, 'blackcardamompods': 474, 'russet': 5156, 'cubesteaks': 1701, 'kraftsundriedtomatovinaigrette': 3346, 'englishmustard': 2052, 'chopfinepecan': 1258, 'salmon': 5189, 'giblet': 2545, 'spelt': 5677, 'italianturkeysausage': 3119, 'evaporatedcanejuice': 2071, 'deepdishpiecrust': 1788, 'choppedham': 1278, 'orangesegments': 4218, 'gin': 2546, 'kimchijuice': 3264, 'cornishhens': 1536, 'leanmincedbeef': 3428, 'asiannoodles': 190, 'broccolistems': 696, 'knorrtomatobouillonwithchickenflavorcube': 3308, 'ginsengtea': 2563, 'cokezero': 1421, 'highglutenflour': 2949, 'pepperoniturkei': 4435, 'fajitaseasoningmix': 2096, 'cajunstylestewedtomatoes': 812, 'quincepaste': 4801, 'slicedapples': 5490, 'curingsalt': 1717, 'wholewheatsubmarineloaves': 6583, 'lowfatreducedsodiumpastasauce': 3639, 'glutenfreepasta': 2592, 'lychees': 3711, 'freshcod': 2319, 'driedleavesoregano': 1909, 'gumbo': 2845, 'ale': 40, 'mediumdrysherry': 3846, 'browning': 713, 'truffles': 6149, 'smallpearltapioca': 5522, 'pastashells': 4343, 'choppedbellpepper': 1263, 'clovegarlic': 1367, 'finechop': 2183, 'sushigradetuna': 5844, 'paratha': 4312, 'veganbutter': 6316, 'phyllopastry': 4456, 'treacle': 6128, 'hiddenvalley': 2945, 'originalranch': 4247, 'dipsmix': 1840, 'groundsage': 2817, 'halibutsteak': 2866, 'perchfillets': 4437, 'horseradishsauce': 2996, 'citron': 1344, 'chineserosewine': 1187, 'macaroniandcheesedinner': 3715, 'calabresesausage': 822, 'pâtebrisée': 4779, 'marzipan': 3791, 'colorfoodgreen': 1441, 'racklamb': 4808, 'poblano': 4579, 'bestfoodlightmayonnais': 431, 'steakfillets': 5738, 'sushivinegar': 5847, 'thinspaghetti': 6036, 'gravlax': 2698, 'buttermargarineblend': 771, 'celerystick': 974, 'chineseducksauce': 1164, 'parmagianoreggiano': 4315, 'picholine': 4458, 'braeburnapple': 637, 'seedlesscucumber': 5307, 'nampla': 4055, 'dungenesscrabs': 2001, 'basildriedleaves': 317, 'sherrywinevinegar': 5376, 'brewedespresso': 675, 'dutchprocessedcocoapowder': 2003, 'stripedbass': 5796, 'mullet': 4023, 'seabream': 5284, 'knorrchipotlminicub': 3292, 'drioreganoleaves': 1959, 'crush': 1660, 'allpotatopurpos': 49, 'lowsodiumfatfreechickenbroth': 3681, 'beefdrippings': 366, 'driedfruit': 1901, 'frozenokra': 2436, 'pastashellsmall': 4344, 'barleyflour': 307, 'drylasagna': 1971, 'trout': 6142, 'cornishgamehens': 1535, 'sweetrice': 5893, 'reducedsodiumrefriedbeans': 4973, 'texmexseasoning': 6011, 'driedmincedgarlic': 1912, 'lasagnasheets': 3409, 'fujiapple': 2480, 'radicchioleaves': 4811, 'vinsanto': 6380, 'tomatobasilsauce': 6083, 'swordfishfillets': 5912, 'cilantropesto': 1327, 'tarragonvinegar': 5978, 'yellowsplitpeas': 6656, 'sorghum': 5614, 'whitekidneybeans': 6474, 'caciocavallo': 799, 'fryingoil': 2476, 'huitlacoche': 3035, 'crushedpretzels': 1671, 'jellogelatin': 3169, 'redbartlettpears': 4883, 'cookedvegetables': 1499, 'redleaflettuce': 4913, 'steaksauce': 5739, 'almondmeal': 61, 'turkeygravy': 6181, 'asianeggplants': 188, 'grounditaliansausage': 2797, 'kormapaste': 3325, 'lambshoulderchops': 3383, 'lesssodiumbeefbroth': 3471, 'mildcheddarcheese': 3903, 'lowfatspaghettisauce': 3652, 'globeeggplant': 2569, 'wholepeeltomatoes': 6530, 'undrainandchop': 6223, 'limeleaves': 3522, 'collards': 1439, 'seedlesswatermelon': 5311, 'plainlowfatgreekyogurt': 4567, 'semifirmtofu': 5320, 'raspberryjuice': 4851, 'peachslices': 4371, 'softcorntortillas': 5592, 'stirfrybeefmeat': 5765, 'genoise': 2538, 'chocolatemousse': 1246, 'blackeningseasoning': 481, 'frenchlentils': 2294, 'pizzacrustmix': 4557, 'bouquetgarni': 629, 'goosefat': 2631, 'haricotbeans': 2884, 'whitearboriorice': 6442, 'miniaturechocolatechips': 3940, 'unsaltedroastedpistachios': 6239, 'passionfruitjuice': 4336, 'tomatosoup': 6098, 'nutella': 4140, 'basiloliveoil': 320, 'pomegranatemolasses': 4595, 'asianbarbecuesauce': 181, 'mangochutney': 3750, 'breastlamb': 671, 'hamsteak': 2875, 'grahamcrackercrusts': 2644, 'tagliatelle': 5937, 'quickcookingbrownrice': 4794, 'shortcrustpastry': 5392, 'mediumcurrypowder': 3845, 'chileverde': 1127, 'bittersweetchocolatechips': 461, 'hazelnutmeal': 2901, 'preparpesto': 4722, 'rapidriseyeast': 4846, 'thindeliham': 6033, 'flavoring': 2238, 'shuckcorn': 5444, 'porktail': 4661, 'callaloo': 833, 'annatto': 120, 'palmvinegar': 4278, 'londonbroil': 3566, 'groundblanchedalmonds': 2776, 'apricotjam': 143, 'centercutporkchops': 979, 'smokedcheddarcheese': 5536, 'sharksteak': 5357, 'raita': 4829, 'jarlsberg': 3162, 'raspberryliqueur': 4853, 'chineseredricevinegar': 1181, 'pinkpeppercorns': 4524, 'belacan': 408, 'peaeggplants': 4374, 'chillipaste': 1149, 'chocolateshavings': 1249, 'candiedfruit': 846, 'vermouth': 6367, 'vanillainstantpudding': 6281, 'nillawafers': 4087, 'japanesecucumber': 3150, 'spicysausage': 5693, 'habanerochile': 2853, 'gratedkefalotiri': 2684, 'muscat': 4032, 'whitegrapefruit': 6469, 'grissini': 2767, 'borlottibeans': 610, 'chilepastewithgarlic': 1120, 'friedeggs': 2388, 'scrod': 5280, 'basilmayonnaise': 319, 'bottomround': 621, 'whiteasparagus': 6443, 'reducedfatricottacheese': 4951, 'nonfatplaingreekyogurt': 4113, 'norisheets': 4132, 'candysprinkles': 857, 'chipotlesauce': 1206, 'peachpurée': 4368, 'herbedgoatcheese': 2927, 'freshgreenpeas': 2332, 'unbleachedflour': 6215, 'tomatoesthevine': 6087, 'lowsodiumchilisauce': 3678, 'sugarcanejuice': 5815, 'drileavrosemari': 1957, 'chileconqueso': 1116, 'herbseasoning': 2933, 'darkleafygreens': 1768, 'polentacornmeal': 4589, 'zest': 6682, 'millet': 3924, 'saba': 5165, 'sumac': 5826, 'leaflettuce': 3419, 'crumbles': 1656, 'vegancheese': 6317, 'cheesesauce': 1018, 'potatoeso': 4677, 'brien': 679, 'masurdal': 3803, 'fowl': 2272, 'brownshrimp': 726, 'frozenpeaches': 2440, 'wheatstarch': 6430, 'jamaicanrum': 3141, 'risottorice': 5061, 'fatskimmedreducedsodiumchickenbroth': 2137, 'cheddarcheesesoup': 1012, 'lemonpepperseasoning': 3457, 'gingerliqueur': 2551, 'gingerbeer': 2549, 'condensedreducedfatreducedsodiumcreammushroomsoup': 1462, 'rockshrimp': 5102, 'splenda': 5700, 'lowfatcheddar': 3599, 'mildgreenchiles': 3906, 'pepperonislices': 4434, 'wholewheatbuns': 6545, 'tacoseasoningreducedsodium': 5933, 'fajitasizeflourtortillas': 2097, 'whitecornsyrup': 6460, 'dominolightbrownsugar': 1849, 'spaghettisquash': 5660, 'freshmozzarellaballs': 2349, 'garlandchrysanthemum': 2506, 'fishfingers': 2211, 'chickencarcass': 1064, 'fishcake': 2207, 'bonelessbeefsirloinsteak': 564, 'driedsplitpeas': 1946, 'chickenparts': 1090, 'sourcherries': 5623, 'enrichedwhiterice': 2056, 'spicyporksausage': 5690, 'blackturtlebeans': 511, 'porkmeat': 4638, 'freshporkfat': 2363, 'largesausagecasing': 3404, 'hickoryflavoredliquidsmoke': 2943, 'crumbledgoatcheese': 1653, 'sweetminibells': 5878, 'doubleconcentratetomatopaste': 1854, 'wheatbread': 6424, 'kewpiemayonnaise': 3247, 'creamcheesewithchivesandonion': 1593, 'driedpappardelle': 1923, 'radishsprouts': 4814, 'beansoupmix': 343, 'bassfillets': 326, 'angosturabitters': 109, 'bestfoods': 433, 'porkstock': 4660, 'habanero': 2852, 'gochugaru': 2610, 'fishbroth': 2206, 'celeryleaves': 968, 'kewra': 3248, 'gumbofile': 2846, 'blackbeanandcornsalsa': 465, 'pepperidgefarmpuffpastry': 4424, 'tortillashells': 6119, 'beancurdskins': 336, 'turkeybacon': 6170, 'savoiardi': 5261, 'freshudon': 2382, 'chickenbase': 1052, 'whippedbutter': 6433, 'arbolchile': 151, 'bloodymarymix': 524, 'driedpear': 1927, 'pearnectar': 4389, 'hotchilipaste': 3002, 'chayotes': 1010, 'mortadella': 4005, 'redgold': 4905, 'gourmetgardengarlicpaste': 2636, 'gourmetgardenoregano': 2637, 'johnsonvilleandouille': 3186, 'pompeiancanolaoilandextravirginoliveoil': 4599, 'condensedfrenchonionsoup': 1458, 'sparklingsugar': 5673, 'taro': 5974, 'chocolatecakemix': 1217, 'amaranth': 70, 'tamalefilling': 5943, 'smokedturkeysausage': 5564, 'broccolislaw': 695, 'lowfatgreekyogurt': 3620, 'swansonchickenbroth': 5849, 'chickengravy': 1080, 'cointreauliqueur': 1419, 'mccormickgroundginger': 3819, 'collardleaves': 1438, 'achiote': 8, 'smokedturkeydrumstick': 5563, 'redsnapper': 4929, 'whitedistilledvinegar': 6463, 'cardamon': 917, 'chèvre': 1317, 'bbqseasoning': 334, 'kiwifruits': 3282, 'curaçao': 1712, 'sparklingwine': 5674, 'philadelphiacookingcreme': 4451, 'pitaloaves': 4542, 'americancheese': 82, 'strawberrypreserves': 5789, 'umeboshiplumvinegar': 6209, 'redgrape': 4906, 'codfish': 1408, 'lowsodiumtacoseasoning': 3695, 'slicedchorizo': 5495, 'onionsoupmix': 4196, 'oldelpasotacoseasoningmix': 4172, 'charsiu': 1005, 'italiancheeseblend': 3093, 'crumbledcheese': 1651, 'mini': 3939, 'chocolatedrink': 1229, 'celeryroot': 971, 'cannedchipotles': 868, 'porkcutlets': 4628, 'bolillo': 544, 'stringcheese': 5795, 'guineahens': 2842, 'renderedduckfat': 5016, 'loin': 3563, 'oldginger': 4176, 'sandwichsteak': 5234, 'fujiapples': 2481, 'flavoredsyrup': 2233, 'piment': 4498, 'espelette': 2062, 'slicedtomatoes': 5510, 'sandwichbuns': 5231, 'achiotepowder': 10, 'dal': 1753, 'wholewheathamburgerbuns': 6555, 'drieddill': 1895, 'crystalfarms': 1682, 'oldfashionedstonegroundgrits': 4175, 'whitetuna': 6494, 'ragu': 4815, 'shuckedoysters': 5445, 'driedguajillochiles': 1902, 'thaichilipaste': 6018, 'nuocmam': 4138, 'jackdaniels': 3124, 'johnsonville': 3185, 'hot': 2997, 'nspicybrats': 4136, 'dicedtomatoesandgreenchilies': 1820, 'peachschnapps': 4370, 'raspberrypuree': 4855, 'ragucheesiclassicalfredosauc': 4816, 'min': 3926, 'barillaovenreadylasagne': 302, 'reducedfatfirmtofu': 4940, 'coulis': 1554, 'brine': 681, 'grapeleaves': 2669, 'macadamianuts': 3712, 'coffeelowfatfrozenyogurt': 1416, 'espressobeans': 2064, 'nonfatyogurtplain': 4121, 'prunejuice': 4746, 'chuckshortribs': 1301, 'driedpineapple': 1928, 'poha': 4584, 'tacobellhomeoriginals': 5926, 'sugarcane': 5814, 'chineseham': 1169, 'lambstock': 3387, 'roti': 5132, 'driedlavender': 1906, 'cress': 1633, 'babyradishes': 234, 'masoordal': 3801, 'chiaseeds': 1047, 'coconutflakes': 1392, 'haddock': 2859, 'reducedfatmexicancheese': 4943, 'vegetarianproteincrumbles': 6349, 'chardonnay': 1003, 'treviso': 6131, 'claws': 1359, 'toploin': 6105, 'soyabean': 5641, 'lambbreast': 3362, 'extravirgincoconutoil': 2089, 'driedpeach': 1926, 'tartapples': 5980, 'persimmon': 4444, 'seacucumber': 5285, 'hempseeds': 2921, 'hawaiiansalt': 2896, 'slicedmango': 5503, 'pittedcherries': 4549, 'rawbuckwheatgroats': 4863, 'frozenmango': 2429, 'cashewbutter': 932, 'cacaonibs': 796, 'orangeflavoredbrandy': 4205, 'frenchtoast': 2300, 'tandooriseasoning': 5959, 'chianti': 1046, 'boar': 533, 'stiltoncheese': 5764, 'adoboseasoning': 18, 'uncookedvermicelli': 6219, 'smokedfullycookedham': 5540, 'satsumas': 5249, 'comicepears': 1443, 'boneinchicken': 552, 'garlicshoots': 2529, 'barbecuedpork': 296, 'taleggio': 5941, 'yellowsummersquash': 6658, 'honeymustard': 2985, 'teacake': 5993, 'pumpkinseedoil': 4766, 'catalinadressing': 946, 'bonelessskinlesschickenthighfillets': 596, 'butterfliedleglamb': 769, 'ricesticks': 5042, 'limeadeconcentrate': 3520, 'creamsherry': 1606, 'preserves': 4725, 'duckdrumsticks': 1987, 'babygreens': 227, 'bettycrocker': 435, 'oatmealcookiemix': 4151, 'yoplait': 6668, 'greekblackberrypieyogurt': 2708, 'slicedgreenolives': 5498, 'chickenflavoredsouppowder': 1077, 'unsweetenedalmondmilk': 6245, 'sweetchocolate': 5864, 'thinricesticknoodles': 6035, 'newyorkstripsteaks': 4079, 'kraftmexicanstylefinelyshreddedfourcheese': 3333, 'picholineolives': 4459, 'sweetsoy': 5897, 'pineappleslices': 4514, 'brisket': 688, 'brownale': 702, 'charsiusauce': 1006, 'rumpsteak': 5152, 'chineseroastpork': 1185, 'cucumbersalad': 1703, 'safflower': 5168, 'smallnewpotatoes': 5520, 'broiler': 697, 'whitebuttonmushrooms': 6450, 'mapleextract': 3764, 'mapleflavoredextract': 3765, 'vanillabeanpaste': 6268, 'lowfatpepperjackcheese': 3634, 'wholegrainenglishmuffins': 6513, 'shoga': 5388, 'remoulade': 5014, 'katsuobushi': 3236, 'ricepilaf': 5039, 'lowsodiumvegetablejuice': 3702, 'greengrape': 2737, 'shrimpstock': 5442, 'vanillalowfatcream': 6282, 'icecream': 3048, 'sweetyellowcorn': 5905, 'newmexicochilepods': 4076, 'chilenegro': 1118, 'thaichiligarlicsauce': 6017, 'groundnut': 2801, 'blackcodfillets': 478, 'roastbeef': 5064, 'mostaccioli': 4007, 'cornkernelwhole': 1538, 'chickensoupbase': 1095, 'unclebens': 6217, 'matzomeal': 3809, 'chapatiflour': 999, 'pastis': 4351, 'romeapples': 5113, 'guanciale': 2839, 'gratedpecorino': 2692, 'roquefortcheese': 5118, 'winevinegar': 6601, 'softshelledcrabs': 5601, 'dessertwine': 1799, 'rubyport': 5147, 'grillseasoning': 2766, 'oilcuredblackolives': 4158, 'bonelesscountryporkribs': 576, 'peppadews': 4418, 'lowfatmozzarella': 3628, 'doublecrustpie': 1857, 'cookedrigatoni': 1495, 'cranberryjuicecocktail': 1582, 'rockcornishgamehens': 5098, 'extrafinegranulatedsugar': 2079, 'promisebutteryspread': 4738, 'organiccanesugar': 4229, 'flourtortillasnotlowfat': 2254, 'brioche': 685, 'wholecrab': 6506, 'sorrel': 5618, 'strawberrysyrup': 5790, 'virginoliveoil': 6384, 'condensedcreamcelerysoup': 1453, 'freshyeast': 2385, 'beefshoulder': 386, 'pickledbeets': 4461, 'pullmanloaf': 4757, 'cherrycoke': 1029, 'reducedfatmayonnaise': 4942, 'chickensalad': 1092, 'bouillon': 624, 'uncookedziti': 6220, 'rubyredgrapefruit': 5148, 'smokedturkeybreast': 5562, 'preparedlasagne': 4717, 'stewinghen': 5757, 'beefdeliroastslicethinli': 364, 'yellowmiso': 6648, 'nonhydrogenatedmargarine': 4122, 'glutenfreechickenbroth': 2581, 'glutenfreebakingpowder': 2575, 'chinesebabycorn': 1152, 'allpurposesticks': 52, 'chinesericevinegar': 1183, 'herbsaint': 2930, 'ryewhiskey': 5164, 'sweetchorizo': 5865, 'sazonseasoning': 5269, 'adoboallpurposeseasoning': 16, 'blackcuminseeds': 479, 'bonelessporktenderloin': 586, 'assortedfreshvegetables': 201, 'koreanchile': 3321, 'carbonatedwater': 913, 'lambrusco': 3378, 'barramundifillets': 311, 'spaghettisauceseasoningmix': 5659, 'chickenapplesausage': 1051, 'waffle': 6390, 'chickenbreasttenderloins': 1060, 'babykale': 228, 'meyerlemon': 3895, 'trotters': 6141, 'yellowchives': 6637, 'mashedbanana': 3798, 'longaniza': 3568, 'farofa': 2103, 'hand': 2876, 'chinesewheatnoodles': 1192, 'chenpi': 1027, 'beansoup': 342, 'accentseasoning': 6, 'endive': 2045, 'chocho': 1213, 'jamaicanpumpkin': 3140, 'cannedcoconutmilk': 870, 'shreddedreducedfatreducedsodiumswisscheese': 5428, 'reducedfatshreddedcheese': 4953, 'guajillochilepowder': 2836, 'shimejimushrooms': 5380, 'tunapackedwater': 6162, 'oysterflavorsauc': 4263, 'sherrywine': 5375, 'cauliflowerets': 952, 'dryrub': 1977, 'kaffirlime': 3209, 'candiedcitronpeel': 845, 'cocacola': 1378, 'butteroil': 779, 'beefbones': 355, 'lowsodiumbeefstock': 3669, 'frenchsandwichrolls': 2298, 'mccormickpoppyseed': 3822, 'mccormickgroundwhitepepper': 3820, 'frozenshellededamame': 2454, 'heeng': 2911, 'dhaniyapowder': 1804, 'distilledvinegar': 1843, 'spicyranchdressing': 5691, 'boneskinchickenthigh': 602, 'frenchmustard': 2295, 'arrowrootstarch': 163, 'italianseasoneddrybreadcrumbs': 3110, 'dicedpotatoes': 1817, 'walnutoil': 6395, 'walnutpieces': 6396, 'shreddeditaliancheese': 5413, 'veggiecrumbles': 6353, 'vealkidneys': 6303, 'crustyloaf': 1678, 'reducedsodiumbeefbroth': 4957, 'pumpkinseedkernels': 4764, 'mincedmeat': 3932, 'johnsonvillemilditaliansausagelinks': 3190, 'redchilesauce': 4893, 'curryguysmokedspicysalt': 1727, 'fatfreebuttermilk': 2111, 'spearmint': 5675, 'pomelo': 4597, 'wintermelon': 6603, 'toordal': 6104, 'puremaplesyrup': 4769, 'pastawagonwheel': 4347, 'freshangelhair': 2302, 'franks': 2279, 'cookingapples': 1505, 'seafoodbreader': 5288, 'carnitas': 925, 'baconpieces': 249, 'drummettes': 1963, 'ciabattarolls': 1322, 'turkeykielbasa': 6184, 'andouillechickensausage': 101, 'redgrapefruit': 4907, 'dashipowder': 1782, 'shisoleaves': 5386, 'cavatelli': 957, 'tarragonleaves': 5977, 'chocolatechips': 1222, 'nutritionalyeastflakes': 4145, 'plainsoyyogurt': 4570, 'bonelesschickenthighfillets': 571, 'mangonectar': 3752, 'unsaltedalmonds': 6227, 'sandwiches': 5232, 'creamcoconut': 1595, 'saltwater': 5223, 'johnsonvillesmokedsausage': 3191, 'sparklingsangriatradicional': 5672, 'sangria': 5237, 'candiedcherries': 843, 'mandarinpancakes': 3748, 'ramen': 4832, 'champagnegrapes': 994, 'knudsenlightsourcream': 3311, 'redfish': 4902, 'spring': 5713, 'eggpasta': 2025, 'patis': 4358, 'preparedcoleslaw': 4714, 'parboiledrice': 4313, 'coldcut': 1428, 'centercutsalmonfillet': 982, 'mochiko': 3984, 'springwater': 5720, 'toastedwheatgerm': 6069, 'freshcranberries': 2322, 'brownriceflour': 719, 'sweetcornkernels': 5867, 'lemondressing': 3448, 'mexicancookingsauce': 3887, 'lemonade': 3443, 'arrowroot': 160, 'pitawedges': 4546, 'leangroundmeat': 3425, 'pearltapioca': 4388, 'lotusseeds': 3587, 'lambsausage': 3379, 'summersavory': 5828, 'tallow': 5942, 'dukkah': 1994, 'flaxseed': 2240, 'creamshrimpsoup': 1607, 'kahlualiqueur': 3212, 'atastethairicenoodles': 204, 'bologna': 545, 'homemadevegetablestock': 2971, 'amaretticookies': 73, 'lowfatcreamcheese': 3612, 'seltzer': 5318, 'lambribchops': 3376, 'chinesemustard': 1173, 'holybasil': 2965, 'asakusanori': 177, 'alaskankingcrablegs': 35, 'osetracaviar': 4256, 'chocolatebakingbar': 1215, 'gritquick': 2768, 'links': 3534, 'accent': 5, 'richchickenstock': 5047, 'peapods': 4382, 'darkcrèmecacao': 1766, 'peppermintextract': 4429, 'chocolatecurls': 1228, 'gyozaskins': 2849, 'crumbledricottasalatacheese': 1655, 'organicgranulatedsugar': 4234, 'batter': 328, 'satsumajuice': 5247, 'romainelettucehearts': 5108, 'recipecrumbles': 4878, 'shrimpheads': 5436, 'agar': 21, 'cakeyeast': 819, 'garlicoil': 2520, 'flaked': 2219, 'smokedhaddock': 5542, 'reducedfatranchdressing': 4948, 'shoepegcorn': 5387, 'beefribroast': 376, 'fatfreereducedsodiumchickenbroth': 2131, 'redblisspotato': 4888, 'rawcanesugar': 4864, 'fermentedbeancurd': 2149, 'estanciapinotnoir': 2068, 'mungbeannoodles': 4026, 'scotchwhisky': 5279, 'greenplantains': 2749, 'earlgreytealeaves': 2007, 'creampeach': 1602, 'distilledmaltvinegar': 1842, 'tenderloinsteaks': 6003, 'quesoblanco': 4787, 'mahimahifillets': 3730, 'merlot': 3875, 'blueberrypiefilling': 527, 'powderedvanillapuddingmix': 4703, 'maturecheddar': 3807, 'wholewheatcouscous': 6547, 'freerangeeggs': 2284, 'chineseleaf': 1172, 'blackpudding': 497, 'razorclams': 4873, 'cockles': 1379, 'youngcoconutmeat': 6669, 'coconutwater': 1404, 'sourmilk': 5631, 'braisingbeef': 640, 'whitecakemix': 6452, 'gingerpurée': 2554, 'unsaltedvegetablestock': 6241, 'pimentdespelette': 4499, 'wholewheatfrenchbread': 6553, 'italiancheese': 3092, 'crostini': 1646, 'strawberryyogurt': 5791, 'cornniblets': 1542, 'mesclun': 3877, 'choy': 1294, 'fieldlettuce': 2163, 'cutintoitalianloaf': 1742, 'pancake': 4282, 'sweetmustard': 5879, 'chunky': 1306, 'muesli': 4019, 'indianspice': 3065, 'tempeh': 5999, 'groundcoffee': 2788, 'legveal': 3441, 'melon': 3864, 'kaiserrolls': 3214, 'sodiumfreechickenbroth': 5585, 'reducedfatprovolonecheese': 4947, 'wholepeppercorn': 6531, 'marmalade': 3779, 'fullfatcoconutmilk': 2482, 'bonelessturkeybreast': 599, 'pinheadoatmeal': 4517, 'cola': 1422, 'caramels': 905, 'ficelle': 2159, 'chatmasala': 1009, 'quickcookingoats': 4797, 'oilorange': 4160, 'blackgram': 486, 'sausagemeat': 5257, 'hawaiiansweetrolls': 2897, 'olorososherry': 4186, 'beerbatter': 404, 'purplegrapes': 4775, 'lowfatvegetarianchiliwithbeans': 3661, 'driedchives': 1888, 'crispyricecereal': 1641, 'citrusslices': 1349, 'kirschenliqueur': 3277, 'kirschwasser': 3278, 'mezcal': 3898, 'quickoats': 4799, 'peachvodka': 4373, 'paleale': 4275, 'slicedpears': 5507, 'cereal': 984, 'poppedpopcorn': 4607, 'edam': 2013, 'ribporkchops': 5024, 'driedkelp': 1904, 'stew': 5754, 'reducedsodiumtamarisauce': 4977, 'wildflowerhoney': 6593, 'almondliqueur': 60, 'massamancurrypaste': 3802, 'saltedroastedpecans': 5211, 'caramelicecream': 903, 'unseasonedbreadcrumbs': 6242, 'grana': 2652, 'cabbagehead': 790, 'cannedtuna': 878, 'pimentostuffedolives': 4504, 'flankenshortribs': 2223, 'boudin': 623, 'kidney': 3255, 'agedmanchegocheese': 28, 'bananaleaves': 286, 'buttermilkranchdressing': 775, 'gemelli': 2535, 'jerksauce': 3175, 'meatloaf': 3836, 'oposquash': 4198, 'lowfatplainyoghurt': 3637, 'cornflakes': 1529, 'papad': 4304, 'lowsodiumtomatosauce': 3700, 'lowfatmozzarellacheese': 3629, 'szechuansauce': 5916, 'mintsauce': 3952, 'roastedalmonds': 5069, 'chinesecelerycabbage': 1160, 'freerangechickens': 2282, 'matcha': 3804, 'pineapplerings': 4512, 'roastedpistachios': 5080, 'microgreens': 3901, 'jerusalemartichokes': 3178, 'gherkins': 2542, 'richturkeystock': 5048, 'cheesmozzarellastick': 1026, 'homemadechickenbroth': 2967, 'lowfatchocolatemilk': 3604, 'glutenflour': 2573, 'lobstertails': 3562, 'blackbeangarlicsauce': 466, 'sugarcanesticks': 5816, 'shelledshrimp': 5366, 'beefshoulderroast': 387, 'riesling': 5052, 'roux': 5141, 'driedthaichili': 1951, 'uraddalsplit': 6260, 'babyzucchini': 239, 'mildsausage': 3913, 'gingersnapcrumbs': 2559, 'kelpnoodles': 3243, 'redbeanpaste': 4884, 'heinzchilisauce': 2912, 'frozencodfillets': 2415, 'avocadoleaves': 209, 'frozenbroccoliflorets': 2408, 'knorritaliansidecreamigarlicshell': 3298, 'anasazibeans': 89, 'can': 840, 'believ': 410, 'madewitholiveoilspread': 3724, 'freshspinachleaves': 2373, 'rinsandpatdry': 5056, 'sauterne': 5259, 'cajunspicemix': 810, 'toastedcoconut': 6054, 'gingerpiece': 2553, 'greengram': 2736, 'toastedpumpkinseeds': 6060, 'lowsodiumteriyakisauce': 3696, 'turkeysalami': 6189, 'mixedpeel': 3975, 'selfraisingflour': 5314, 'darkmuscovadosugar': 1772, 'lea': 3418, 'perrinsworcestershiresauce': 4442, 'loaves': 3558, 'onionrings': 4191, 'beaujolais': 349, 'sambalolek': 5225, 'originalranchsalad': 4248, 'seasoningmix': 5303, 'porkcubes': 4627, 'jalape': 3129, 'bananabread': 283, 'chocolateicecream': 1238, 'chocolatechipcookiedoughicecream': 1220, 'leanbacon': 3421, 'peashoots': 4394, 'whippedcreamcheese': 6435, 'grahamcrackerpiecrust': 2645, 'conimexwokolie': 1472, 'conimexwoksausspecialsvietnamesegemberknoflook': 1473, 'chickengizzards': 1079, 'rawprawn': 4870, 'sugarcubes': 5818, 'ajinomoto': 32, 'lacinatokale': 3353, 'pregofreshmushroomitaliansauce': 4712, 'coarsegroundmustard': 1371, 'italianstyleseasoning': 3116, 'bisquickbakingmix': 454, 'thick': 6029, 'pinksalmon': 4525, 'valenciarice': 6264, 'lowsodiumtomatojuice': 3698, 'wholewheatpennepasta': 6564, 'babybroccoli': 221, 'catsup': 949, 'kosherwine': 3327, 'limepeel': 3523, 'soursop': 5635, 'rape': 4844, 'porkbuttroast': 4623, 'cakemix': 816, 'piepastry': 4484, 'freshflounderfillets': 2328, 'dumplingskins': 1999, 'drithymeleaves': 1961, 'driedarbolchile': 1872, 'bonelessbeefroundsteak': 562, 'picklingliquid': 4476, 'chickenchorizosausages': 1065, 'minipepperonislices': 3946, 'texturedsoyprotein': 6013, 'creamcheesewithchives': 1592, 'tropicalfruits': 6140, 'velveetacheesespread': 6357, 'anisebasil': 112, 'ricepaddyherb': 5037, 'pralineliqueur': 4706, 'greenchard': 2726, 'driedplum': 1930, 'indiapaleale': 3066, 'silver': 5452, 'rounds': 5138, 'greensoybeans': 2752, 'banger': 292, 'roastedchilipaste': 5073, 'lentillespuy': 3468, 'mangosalsa': 3753, 'refriedblackbeans': 4992, 'chocolatespread': 1250, 'morsels': 4004, 'up': 6258, 'blancotequila': 519, 'lowsodiumpintobeans': 3690, 'meatsauce': 3840, 'seafoodbase': 5287, 'unsweetenedvanillaalmondmilk': 6257, 'cherrypiefilling': 1033, 'lesssodiumtacoseasoning': 3481, 'unsweetenedapplesauce': 6247, 'delalloextravirginoliveoil': 1790, 'carpaccio': 927, 'pisco': 4534, 'maltsyrup': 3741, 'chilcostlechile': 1111, 'america': 81, 'johnsonvillehot': 3189, 'spicybreakfastlinks': 5687, 'pozole': 4704, 'irishcreamliqueur': 3086, 'turkeymince': 6188, 'delirolls': 1794, 'decoratingsugars': 1787, 'lowersodiumbeefbroth': 3590, 'linguica': 3530, 'bestfood': 429, 'mayonnaisewithlimejuice': 3813, 'porktenderloinmedallions': 4663, 'godivachocolateliqueur': 2612, 'marshmallowvodka': 3789, 'glutenfreebreadcrumbs': 2579, 'glutenfreerolledoats': 2595, 'potroast': 4686, 'beefmarrow': 375, 'rootvegetables': 5116, 'pastasides': 4345, 'alfredo': 45, 'calfliver': 828, 'drygin': 1968, 'borage': 607, 'mediumwholewheattortillas': 3856, 'cookeditalianmeatballs': 1488, 'lowfatcream': 3610, 'campanelle': 837, 'bluecuraçao': 532, 'vegetableslaw': 6343, 'cornmuffin': 1541, 'shavedchocolate': 5360, 'shellsteak': 5371, 'groundpecans': 2807, 'pappadams': 4307, 'applejelly': 130, 'unsaltedpumpkinseedkernels': 6237, 'escargot': 2060, 'reposado': 5018, 'potatoflakes': 4678, 'jellistrawberri': 3167, 'blackcurrantsyrup': 480, 'highfructosecornsyrup': 2947, 'longpepper': 3580, 'blackrice': 499, 'nonfatdrymilkpowder': 4103, 'herorolls': 2938, 'johnsonvilleandouillefullycookedsausage': 3188, 'klondikeroseredskinpotato': 3283, 'porksirloinroast': 4657, 'merluza': 3876, 'ancho': 90, 'renderedbaconfat': 5015, 'wildgarlic': 6594, 'freshpasta': 2359, 'herdezsalsaverde': 2937, 'herdezsalsacasera': 2936, 'whitetequila': 6492, 'milkfish': 3922, 'frenchfries': 2292, 'unsaltedpistachios': 6236, 'vegetablebouillon': 6326, 'lambfillet': 3366, 'redanjoupears': 4881, 'asianricenoodles': 192, 'drambuie': 1865, 'grenadinesyrup': 2762, 'vanillaglaze': 6279, 'pies': 4486, 'knorrchickenstockpots': 3291, 'ricepowder': 5040, 'toastedunsweetenedcoconut': 6067, 'flavoredvodka': 2236, 'apricotbrandy': 141, 'parmigiano': 4319, 'naturalpistachios': 4064, 'pearjuice': 4383, 'heartsromaine': 2907, 'roastbeefdelimeat': 5065, 'lowsodiumgarbanzobeans': 3683, 'olivpitripe': 4185, 'preshredlowfatmozzarellachees': 4727, 'gramdal': 2650, 'freshbrusselssprouts': 2309, 'garlicbread': 2509, 'condensedcreampotatosoup': 1456, 'driedmango': 1911, 'choppedbacon': 1262, 'quaileggs': 4783, 'frozenmeatballs': 2431, 'sweet': 5853, 'sourstirfrysauce': 5636, 'butterpecancakemix': 780, 'leektops': 3434, 'swansonvegetablebroth': 5851, 'marjoramleaves': 3778, 'wholewheatbreadflour': 6542, 'burrata': 755, 'lambseasoning': 3380, 'empanadawrappers': 2043, 'legquarters': 3439, 'glaceviande': 2565, 'peperoncini': 4415, 'cubedham': 1695, 'sweetrelish': 5892, 'vanillawafercrumbs': 6291, 'preparedguacamole': 4715, 'luncheonmeat': 3710, 'beefsausage': 383, 'knorrchickenflavorbouilloncube': 3289, 'meattenderizer': 3843, 'turkeybreasttenderloins': 6176, 'cannedjalapenopeppers': 872, 'papalo': 4305, 'ikura': 3058, 'cerealflakes': 985, 'cassiacinnamon': 940, 'maifun': 3733, 'freezedriedstrawberries': 2285, 'kalamataolivehalves': 3217, 'applepiefilling': 133, 'asiansweetchilisauce': 193, 'porkfillet': 4629, 'wholewheatrotinipasta': 6576, 'beansauce': 341, 'cheesesticks': 1022, 'biscuitdough': 450, 'clamatojuice': 1351, 'frenchdressing': 2290, 'beefheart': 370, 'frozensweetpeas': 2461, 'rawpistachios': 4869, 'driedbarberries': 1873, 'japaneseturnips': 3161, 'doubledarksoisauc': 1858, 'whitericevinegar': 6487, 'sweetwhitemiso': 5902, 'kimchee': 3262, 'lobsterstock': 3561, 'bakingyeast': 273, 'pepperoncini': 4432, 'jusmix': 3206, 'reducedsodiumchickenstock': 4964, 'appleschnapps': 138, 'sorghummolasses': 5616, 'butterflavorvegetableshortening': 768, 'alfredosaucemix': 47, 'bakingchocolate': 266, 'storeboughtlowsodiumvegetablestock': 5778, 'greenapples': 2719, 'cannedpeasandcarrots': 874, 'foccacia': 2260, 'chickenbreaststrips': 1059, 'lesssodiumsoysauce': 3480, 'eyeroundsteak': 2093, 'beefbase': 353, 'italianbasil': 3090, 'bladesteak': 514, 'wholewheatspaghettini': 6581, 'creamcheesefrosting': 1589, 'kasseri': 3232, 'robertmondavifumeblanc': 5094, 'nuoccham': 4137, 'sambalchilepaste': 5224, 'wholegrainpasta': 6515, 'tapwater': 5972, 'extract': 2078, 'codcheeks': 1406, 'sundriedtomatopesto': 5836, 'sandwichbread': 5230, 'driedfishflakes': 1900, 'bulb': 741, 'vegetablegumbomixture': 6333, 'smokedporkneckbones': 5552, 'braisingsteak': 641, 'redwinevinaigrette': 4988, 'frozenbasil': 2402, 'asianchilisauce': 186, 'fruitpuree': 2473, 'chinesewolfberries': 1194, 'wholemealflour': 6522, 'blackmushrooms': 491, 'toastedbaguette': 6051, 'lavenderhoney': 3416, 'lightcreamhalfandhalf': 3499, 'liptongreenteabag': 3536, 'fiestasides': 2165, 'mexicanrice': 3890, 'bonelesssirloinsteak': 590, 'milletflour': 3925, 'hanh': 2878, 'bonebroth': 547, 'rockfish': 5100, 'vealdemiglace': 6300, 'softtacosizeflourtortillas': 5602, 'pinotnoir': 4529, 'quesomanchego': 4791, 'campari': 838, 'meringuenests': 3873, 'yakisobanoodles': 6627, 'tentacles': 6005, 'camembert': 836, 'steakseasoning': 5740, 'earlgreyteabags': 2006, 'reducedsodiumvegetablebroth': 4979, 'groundcaraway': 2777, 'tonkatsusauce': 6102, 'fishpaste': 2212, 'filodough': 2181, 'hotsausage': 3027, 'landolakes': 3389, 'channadal': 997, 'crumbledcornbread': 1652, 'cavendersgreekseasoning': 958, 'whitetunawater': 6495, 'brownchickenstock': 707, 'refinedsugar': 4990, 'burgundywine': 754, 'bone': 546, 'gravymixmushroom': 2702, 'fastrisingyeast': 2106, 'vegetablefats': 6330, 'unsaltedbeefstock': 6228, 'meyerlemonjuice': 3896, 'ortegatostadashells': 4250, 'chunkymildsalsa': 1307, 'highglutenbreadflour': 2948, 'akamiso': 34, 'eyeroundroast': 2092, 'tofupuffs': 6076, 'lambbouilloncube': 3361, 'asafetidapowder': 174, 'fiestasidesspanishrice': 2166, 'porkrub': 4646, 'kabochasquash': 3207, 'nachochips': 4052, 'chocolatechunks': 1223, 'sweetpeas': 5882, 'regularsourcream': 5009, 'sheepshead': 5363, 'virginiaham': 6383, 'driedscallops': 1941, 'pimentonvera': 4501, 'wheatcereal': 6425, 'mizkanoigatsuotsuyusoupbase': 3980, 'gyoza': 2848, 'cookingsalt': 1510, 'bihon': 443, 'softsandwichrolls': 5599, 'liptonrecipsecretgoldenonionsoupmix': 3540, 'toffeesauce': 6074, 'greentomatorelish': 2759, 'iceberg': 3046, 'asianblackbeansauce': 183, 'beefbouillonpowder': 358, 'lowsodiumlowfatpastasauce': 3687, 'jumbomacaronishells': 3198, 'misosesamegrillingsauce': 3962, 'bechamel': 351, 'shavedparmesancheese': 5361, 'crossribroast': 1644, 'turkeysausagelinks': 6191, 'italianporksausage': 3102, 'ounczitipasta': 4259, 'hardsalami': 2882, 'calamansi': 823, 'dandeliongreens': 1755, 'elmleasinglelight': 2038, 'florabuttery': 2244, 'beeffillet': 367, 'parmaham': 4316, 'haloumi': 2868, 'conch': 1447, 'garlicnaan': 2519, 'tortillawraps': 6120, 'calamari': 825, 'lowsodiumglutenfreesoysauce': 3684, 'fresnochiles': 2386, 'longgreenbeans': 3576, 'porksausagelinks': 4648, 'almondoil': 63, 'nonfatdrymilk': 4102, 'lowmoisturemozzarella': 3664, 'whitecannellinibeans': 6453, 'vegetablegumbo': 6332, 'sundaesyrup': 5831, 'saucemix': 5251, 'fruitcocktail': 2470, 'nestletablecream': 4073, 'chocolateleaves': 1241, 'splitpeas': 5706, 'progresso': 4732, 'leftoversteak': 3437, 'roundloaf': 5137, 'blackstrapmolasses': 504, 'cutchicken': 1738, 'potatobread': 4674, 'crumbcrust': 1649, 'lowfatgrahamcrackercrumbs': 3619, 'cubedpumpkin': 1700, 'crushedcornflakes': 1662, 'coolwhip': 1515, 'macarons': 3716, 'spanisholives': 5663, 'lowfatbottleditaliandressing': 3595, 'mazolacornoil': 3816, 'cubedbeef': 1693, 'kewrawater': 3250, 'frozenpiecrust': 2446, 'lapsang': 3392, 'vanillabeanicecream': 6267, 'headshrimp': 2905, 'cubedpotatoes': 1699, 'driedudon': 1954, 'laurelleaves': 3411, 'wholewheatpastashells': 6560, 'cuttlefish': 1745, 'mushroombroth': 4035, 'redmustard': 4917, 'finegrainsalt': 2185, 'arrabbiatasauce': 159, 'canolamayonnaise': 885, 'beepollen': 402, 'açaipowder': 215, 'whiteitaliantunaoliveoil': 6473, 'knorrchickenflavorbouillon': 3288, 'chinesebarbecuesauce': 1153, 'finesherbes': 2193, 'monkfishfillets': 3991, 'pastaspiral': 4346, 'horseradishroot': 2995, 'redpepperhotsauce': 4920, 'seedlessraspberryjam': 5309, 'chopgreenchilies': 1259, 'undrain': 6222, 'flavoredoil': 2231, 'elbowpasta': 2035, 'organicchickenbroth': 4231, 'pineapplesalsa': 4513, 'crushedsaltines': 1674, 'tomatojam': 6090, 'forestfruit': 2269, 'babyleaflettuce': 229, 'waterspinach': 6414, 'chickenwingdrummettes': 1103, 'lowsodiumstoreboughtchickenstock': 3694, 'thaijasminerice': 6022, 'bananaflower': 285, 'chipplaintortilla': 1208, 'orangeextract': 4204, 'juiceconcentrate': 3196, 'oldelpasoenchiladasauce': 4169, 'wondra': 6615, 'ears': 2008, 'pinkladyapple': 4522, 'saki': 5180, 'goatmilkfeta': 2608, 'chocolatehazelnutspread': 1237, 'smalltomatoes': 5527, 'wheatbeer': 6421, 'koreanchilepaste': 3323, 'darkmiso': 1770, 'candiedpeel': 851, 'instantpotatoflakes': 3077, 'hillshirefarmslowfatsausage': 2951, 'barbecueseasoning': 299, 'lumpiawrappers': 3709, 'corkscrewpasta': 1519, 'crabclaws': 1570, 'mustardsauce': 4046, 'sweetenedcoconut': 5869, 'vanillayogurt': 6293, 'saltedseaweed': 5213, 'redvinegar': 4985, 'dumplingdough': 1997, 'brinecuredolives': 684, 'goboroot': 2609, 'jello': 3168, 'puffpastrysheets': 4756, 'tealeaves': 5994, 'sweettea': 5899, 'lowfattortillachip': 3655, 'freshdates': 2325, 'kasha': 3230, 'sauvignonblanc': 5260, 'longgreenchilies': 3577, 'kalamansijuice': 3215, 'hotsmokedpaprika': 3028, 'bonedduckbreasthalves': 549, 'sugarpumpkin': 5821, 'lesssodiumchickenbroth': 3472, 'philadelphialightcreamcheese': 4453, 'candiedbacon': 842, 'coconutmeat': 1395, 'char': 1001, 'italianstylemeatballs': 3114, 'reducedfatmozzarella': 4946, 'scones': 5276, 'cookedsteak': 1497, 'filetmignon': 2171, 'dijon': 1826, 'driedcornhusks': 1891, 'cassavarootflour': 939, 'royalolives': 5143, 'sanmarzanodicedtomatoes': 5239, 'wishbonelightitaliandressing': 6611, 'mincemeat': 3936, 'potpie': 4685, 'beefkidney': 373, 'frozenchoppedbroccoli': 2413, 'beefsoupbones': 390, 'barleygrits': 308, 'quickcookingtapioca': 4798, 'bertolligarlicalfredosauce': 422, 'sweetpotatovermicelli': 5890, 'daisysourcream': 1751, 'picklejuice': 4470, 'instantchickenbouillon': 3069, 'tamarindpurée': 5953, 'shouldersteak': 5400, 'shortbread': 5389, 'snapperfillets': 5569, 'adobo': 15, 'molesauce': 3989, 'orchid': 4222, 'soy': 5640, 'extraleanmincedbeef': 2085, 'piefilling': 4483, 'redrussiankale': 4927, 'vegetaseasoning': 6351, 'tuscansausage': 6200, 'beeftongue': 401, 'bottomroundroast': 622, 'liquor': 3550, 'maltedmilkpowder': 3738, 'marthawhitecornbreadmix': 3790, 'icingmix': 3055, 'pouredfondant': 4693, 'foodgel': 2267, 'southerncomfortliqueur': 5638, 'nonfatpowderedmilk': 4114, 'mediumtomatoes': 3855, 'darkturkeymeat': 1778, 'chihuahuacheese': 1110, 'wholewheatpizzadough': 6572, 'lowfatmontereyjackcheese': 3627, 'cannolishells': 883, 'ragusauce': 4824, 'stripsteaks': 5799, 'icedtea': 3051, 'honeyliqueur': 2984, 'ricard': 5026, 'lilybuds': 3515, 'cloverhoney': 1368, 'garlicandherbseasoning': 2508, 'filipinoeggplant': 2173, 'whitevermouth': 6496, 'pectin': 4401, 'curedmeats': 1715, 'blackonionseeds': 494, 'mein': 3859, 'manicotti': 3754, 'buttermilkcornbread': 774, 'chinesesesamepaste': 1189, 'tempurabatter': 6000, 'fatfreewhippedtopping': 2134, 'toastedshreddedcoconut': 6064, 'asianchiliredsauc': 185, 'crescentrolls': 1632, 'vealbones': 6296, 'trufflebutter': 6146, 'blacktreacle': 507, 'porridgeoats': 4665, 'benishoga': 416, 'cassavameal': 938, 'chocolateicecreammix': 1239, 'brownielayer': 711, 'freshbean': 2307, 'shaoxing': 5354, 'onionslices': 4194, 'fructose': 2467, 'backribs': 243, 'casings': 936, 'stonegroundmustard': 5775, 'nonpareils': 4123, 'driedmissionfigs': 1915, 'freshorange': 2352, 'darjeelingtealeaves': 1757, 'wasabe': 6400, 'reducedsodiumgarbanzos': 4968, 'keylime': 3251, 'gratedcauliflower': 2678, 'semisoftcheese': 5322, 'thawedandundiluted': 6028, 'lowfatmilditalianturkeysausage': 3624, 'angledloofah': 108, 'cajeta': 805, 'regularchickenbroth': 5006, 'kraftmiraclewhipdressing': 3335, 'americancheeseslices': 84, 'centercutporkloinchops': 980, 'tysoncrispychickenstrips': 6204, 'pakchoi': 4274, 'lighttunapackedoliveoil': 3512, 'porkcheeks': 4624, 'fennelfronds': 2144, 'fullfatsourcream': 2485, 'tapatiohotsauce': 5966, 'redswisschard': 4931, 'dicedpimentos': 1816, 'greekdressing': 2710, 'crabapples': 1568, 'moose': 3998, 'gingersnapcookies': 2558, 'balm': 274, 'thymesprig': 6040, 'ducklings': 1990, 'lesssodiumreducedfatham': 3478, 'lotusseedpaste': 3586, 'filo': 2180, 'proscuittoparma': 4742, 'lightbeer': 3490, 'fatfreecheddarcheese': 2112, 'reducedsodiumcannedchickenbroth': 4960, 'natto': 4061, 'lowfatcheese': 3602, 'mandarinjuice': 3744, 'lowsodiumstock': 3693, 'keema': 3239, 'meyerlemonpeel': 3897, 'savoycabbageleaves': 5264, 'irishbacon': 3085, 'vealribchops': 6308, 'cornsalsa': 1545, 'southwestseasoning': 5639, 'goat': 2605, 'miniaturesemisweetchocolatechips': 3941, 'homemadeyogurt': 2972, 'breakstone': 669, 'ssourcream': 5732, 'redchard': 4891, 'cheesecubes': 1014, 'tunadrainedandflaked': 6158, 'powderedgarlic': 4697, 'wholegrainspeltflour': 6519, 'lowsodiumsalt': 3691, 'chickenstrips': 1098, 'amontilladosherry': 86, 'aburaage': 3, 'brazilnuts': 650, 'maniocflour': 3757, 'vegetablejuicecocktail': 6335, 'bonelessham': 579, 'candiedpineapple': 852, 'arepaflour': 154, 'grapejuice': 2668, 'tapenade': 5967, 'buttersalt': 782, 'shortcakes': 5391, 'mizkanricevinegar': 3981, 'prunepuree': 4747, 'canesyrup': 860, 'italianturkeysausagelinks': 3120, 'groundwalnuts': 2829, 'poultry': 4689, 'soychorizo': 5648, 'stonefireitalianartisanpizzacrust': 5770, 'burgundysnails': 753, 'wholewheatseasonedbreadcrumbs': 6578, 'molepoblano': 3988, 'bonedlambshoulder': 550, 'rusk': 5155, 'wholewheatorzo': 6558, 'missionyellowcorntortillas': 3965, 'pasilla': 4330, 'petralesole': 4449, 'sushinori': 5845, 'umeboshipaste': 6208, 'challa': 989, 'wholewheatpenne': 6563, 'celticsalt': 976, 'europeanstylebutter': 2070, 'pignolis': 4491, 'sunflowerseeds': 5840, 'vealshoulder': 6312, 'lowfatplaingreekstylyogurt': 3635, 'bonelessskinlesschickentenderloins': 595, 'any': 124, 'wholewheatbaguette': 6536, 'countrycrockhoneyspread': 1558, 'marrow': 3783, 'oatflour': 4148, 'kingfish': 3269, 'kokum': 3316, 'schmaltz': 5274, 'toproundroast': 6108, 'pompanofillets': 4598, 'sichuanesechilipaste': 5447, 'accompaniment': 7, 'lowsodiumblackbeans': 3670, 'porkbackribs': 4616, 'carneseca': 924, 'farina': 2100, 'yuzukosho': 6679, 'poundcakemix': 4692, 'indianflatbread': 3064, 'havarti': 2894, 'herringfillets': 2939, 'anchochiligroundpepper': 92, 'spinylobsters': 5699, 'sugarsubstitute': 5822, 'carnation': 921, 'pollock': 4592, 'amber': 77, 'poppyseedfilling': 4609, 'groundhazelnuts': 2796, 'yamnoodles': 6629, 'chrysanthemumleaves': 1297, 'redvinegarwhitewhite': 4986, 'skinnedbonedduckbreasthalves': 5481, 'vanillavodka': 6290, 'whitecremecacao': 6462, 'gooseliver': 2632, 'duxelles': 2004, 'yellowtomato': 6661, 'graviera': 2697, 'smokedtroutfillets': 5560, 'marshmallowfluff': 3787, 'mojomarinade': 3985, 'wholewheatlinguine': 6557, 'pearlcouscous': 4385, 'pittedmedjooldates': 4553, 'oniongravy': 4189, 'soupmix': 5621, 'porkhocks': 4631, 'anisette': 118, 'pinksalt': 4526, 'refrigeratedchocolatechipcookiedough': 4996, 'ouzo': 4260, 'sanmarzanocrushedtomatoes': 5238, 'winesyrup': 6600, 'brownies': 712, 'sazon': 5266, 'caperberries': 892, 'nopalitos': 4127, 'barbecuerub': 297, 'bear': 347, 'falafel': 2098, 'mochi': 3983, 'wellscrubbed': 6418, 'mie': 3902, 'verjus': 6364, 'foiegrasterrine': 2262, 'flavoredricemix': 2232, 'seafoodglaze': 5289, 'frozenpizzadough': 2447, 'snowpeashoots': 5577, 'shanks': 5352, 'granita': 2656, 'smokedbratwurst': 5535, 'garlicsauce': 2528, 'mackerel': 3718, 'nonfatchickenbroth': 4097, 'cabernet': 793, 'kingprawns': 3271, 'shrimpmeat': 5437, 'peppermint': 4428, 'freshcheese': 2310, 'saffronroadvegetablebroth': 5172, 'refrigeratedfettuccine': 5000, 'frozenpoundcake': 2450, 'nonfatvanillafrozenyogurt': 4118, 'breadandbutterpickles': 652, 'albacore': 37, 'cantonnoodles': 890, 'whippingheavycream': 6439, 'fatfreelemoncurd': 2123, 'reducedsodiumblackbeans': 4959, 'blanchedhazelnuts': 517, 'veganyogurt': 6325, 'cherrystoneclams': 1035, 'mediumzucchini': 3857, 'lowfatbakedtortillachips': 3593, 'kikkomansoysauce': 3261, 'frozenpetitpois': 2445, 'vealscallops': 6310, 'buttermilkselfrisingwhitecornmealmix': 776, 'ibarra': 3042, 'seasonedblackbeans': 5295, 'tunaoil': 6160, 'eatingapple': 2011, 'meatstock': 3842, 'cannedsalmon': 875, 'ciabattabuns': 1319, 'thaiblackglutinousrice': 6015, 'chourico': 1291, 'chippedbeef': 1207, 'imitationvanillaflavoring': 3061, 'beetgreens': 405, 'bonelesssirloin': 589, 'picklewedges': 4474, 'banhphoricenoodles': 294, 'kefir': 3241, 'skinlesshaddock': 5477, 'wholewheatuncookedlasagnanoodles': 6588, 'crushedgrahamcrackers': 1664, 'jamesonirishwhiskey': 3146, 'digestivebiscuit': 1825, 'horseradishmustard': 2994, 'calamataolives': 827, 'bhaji': 437, 'toastedsunflowerseeds': 6066, 'energydrink': 2046, 'colaflavoredcarbonatedbeverage': 1423, 'pressedtofu': 4728, 'culturedbuttermilk': 1707, 'groundsumac': 2821, 'velveetaquesoblanco': 6358, 'frozenminiravioli': 2432, 'chunkypastasauce': 1308, 'frangipane': 2276, 'salmoncaviar': 5190, 'pumpernickelbread': 4760, 'noripaper': 4131, 'liverpate': 3555, 'colorfoodorang': 1442, 'vanillapowder': 6286, 'bertollifourcheesrosasauc': 421, 'hotchocolatemix': 3005, 'kohlrabi': 3315, 'fudgebrowniemix': 2478, 'dendeoil': 1798, 'oatgroats': 4149, 'grassfedbutter': 2676, 'cutfrenchintoloaf': 1740, 'cones': 1467, 'roastedricepowder': 5083, 'chapattiflour': 1000, 'wildrice': 6596, 'ramensoupmix': 4836, 'roe': 5104, 'cayennepeppersauce': 963, 'portugueserolls': 4671, 'redgrapefruitjuice': 4908, 'vegetablerecipemix': 6339, 'feet': 2141, 'porkbouilloncube': 4621, 'solidwhitetuna': 5608, 'chickenwingettes': 1104, 'chocolatecoveredenglishtoffee': 1226, 'swervesweetener': 5906, 'nachocheesetortillachips': 4051, 'frozenwhiptopping': 2465, 'thaw': 6025, 'instantpuddingmix': 3078, 'radishslices': 4813, 'spiceislandsbayleaves': 5682, 'mazola': 3814, 'chickenflavorbouillonpowder': 1075, 'spiceislandsoregano': 5685, 'elmleasingle': 2037, 'namprik': 4056, 'ranchdip': 4838, 'knorrpastaside': 3302, 'reducedfatitaliandressing': 4941, 'skinlesschickenbreastfillets': 5470, 'puddingpowder': 4751, 'butterscotchchips': 783, 'glutenfreeflour': 2586, 'sweetbeansauce': 5859, 'greenteabags': 2755, 'greenpesto': 2748, 'schnapps': 5275, 'aspic': 199, 'porkrind': 4643, 'vegetablebouilloncube': 6327, 'frogslegs': 2395, 'honeygrahamcrackers': 2983, 'vanillaalmondmilk': 6266, 'jerkpaste': 3173, 'toulousesausage': 6124, 'gorgonzoladolce': 2634, 'blackmoss': 490, 'beancurd': 335, 'deepfriedtofu': 1789, 'popcornchicken': 4604, 'nuocnam': 4139, 'crumbtopping': 1658, 'candycanes': 856, 'nonfatmayonnaise': 4109, 'yuca': 6672, 'japanesemountainyam': 3153, 'redsockeye': 4930, 'manzanilla': 3762, 'smokedpork': 5551, 'porkshanks': 4650, 'goma': 2626, 'mincedchicken': 3928, 'othervegetables': 4258, 'vineleaves': 6377, 'mixedbellpeppers': 3968, 'fullfatcreamcheese': 2483, 'oleo': 4177, 'chickengravymix': 1081, 'panchphoran': 4287, 'coarsesugar': 1376, 'moroccanseasoning': 4003, 'whitefrostings': 6468, 'traditionalitaliansauce': 6127, 'organicsoysauce': 4237, 'instantchickenbouillongranules': 3070, 'umeplumvinegar': 6211, 'rootbeer': 5115, 'tobiko': 6072, 'silvertequila': 5454, 'meltedfat': 3867, 'budweiser': 736, 'rennet': 5017, 'citricacid': 1342, 'goldenzucchini': 2621, 'cecibean': 964, 'meatfilling': 3834, 'homemadestock': 2970, 'skinlesssalmonfillets': 5479, 'lambneck': 3373, 'darkchocolatechip': 1763, 'pumpernickel': 4759, 'chickenfillets': 1072, 'sorghumflour': 5615, 'floraproactiv': 2247, 'crayfish': 1585, 'kraftshreddedpepperjackcheesewithtouchofphiladelphia': 3344, 'honeydew': 2978, 'frozenpopcornchicken': 2448, 'tacoseasonedcheese': 5930, 'chineseginger': 1168, 'cookegghard': 1502, 'agaragarflakes': 22, 'sweetvermouth': 5901, 'bluecrabs': 531, 'taroleaf': 5975, 'pepperleaves': 4427, 'wholewheatspaghettinoodles': 6582, 'heinztomatoketchup': 2914, 'redrice': 4926, 'beeftendons': 400, 'porkandbeans': 4614, 'crisco': 1635, 'driedsoba': 1945, 'furikake': 2488, 'andcookdrainpastaziti': 99, 'redjalapenopeppers': 4910, 'goldtequila': 2625, 'pomegranate': 4593, 'tacobelltacoseasoningmix': 5927, 'driedtomatoes': 1953, 'chilledseltzer': 1146, 'squashblossoms': 5726, 'pamnostickcookingspray': 4280, 'mortonsalt': 4006, 'jimmydeanporksausage': 3184, 'ryebread': 5162, 'redapples': 4882, 'peachpiefilling': 4366, 'bisquick': 453, 'jambonbayonne': 3145, 'chineseblackmushrooms': 1155, 'citruspeel': 1348, 'wildsalmon': 6597, 'chilihabaneropepper': 1135, 'smokedchickensausages': 5537, 'aleppo': 41, 'burgundy': 752, 'sparklingmineralwater': 5670, 'reducedsodiumteriyakisauce': 4978, 'jamaicancurrypowder': 3134, 'jamaicanallspice': 3133, 'hierbasanta': 2946, 'vealloin': 6305, 'italianchickensausage': 3094, 'vealbreast': 6297, 'bonelessvealshoulder': 600, 'lowfatsesamegingerdressing': 3644, 'lipton': 3535, 'recipesecrets': 4879, 'roastbreastchicken': 5066, 'coffeeextract': 1412, 'treeearmushrooms': 6129, 'skinbonechickenlegs': 5466, 'sparklingroséwine': 5671, 'gelatinsheet': 2533, 'sweetpotatostarch': 5889, 'peacheslightsyrup': 4362, 'extralightoliveoil': 2086, 'tritiproast': 6138, 'solidwhitetunaoil': 5609, 'orangebitters': 4201, 'guava': 2840, 'spicecakemix': 5679, 'blackberryjam': 473, 'konnyaku': 3319, 'kampyo': 3222, 'katsuodashi': 3237, 'traditionalcutshreddedcheesemexican': 6125, 'creamsauce': 1605, 'meatfats': 3832, 'porkleg': 4633, 'macapowder': 3713, 'grained': 2649, 'chinesecinnamon': 1163, 'chiveblossoms': 1211, 'cabrales': 795, 'herbseasonedstuffing': 2931, 'drymilkpowder': 1972, 'breadmachineyeast': 661, 'alaskankingsalmon': 36, 'fatfreebeefbroth': 2110, 'mediumcheddarcheese': 3844, 'pitachips': 4541, 'evaporlowfatmilk': 2075, 'yellowpeas': 6652, 'kraftsharpcheddarcheese': 3338, 'filetmignonsteaks': 2172, 'shreddedlowfatcheddarcheese': 5416, 'quesoanejo': 4785, 'springrolls': 5717, 'nonfatblockcreamcheese': 4095, 'lowsodiumlowfatchickenbroth': 3686, 'monkfish': 3990, 'redmullet': 4916, 'crispybacon': 1640, 'mildsalsa': 3912, 'gouda': 2635, 'treeears': 6130, 'lowsodium': 3666, 'fatfreeham': 2121, 'hardshelledclams': 2883, 'cholulahotsauce': 1257, 'ammoniumbicarbonate': 85, 'stoneflower': 5773, 'smoothnaturalpeanutbutter': 5566, 'crèmeframboise': 1689, 'dryhardcider': 1969, 'creamedcoconut': 1596, 'sugarcookiedough': 5817, 'cheesedip': 1016, 'hotitalianporksausage': 3013, 'bonelesschickencutlet': 569, 'wishbone': 6606, 'mineralwater': 3938, 'tikkamasalacurrypaste': 6044, 'skinlesschickenfillets': 5472, 'ricecrackers': 5031, 'chinesechilipaste': 1161, 'awasemiso': 211, 'bonelessbeefribeyesteaks': 560, 'vietnamesericepaper': 6372, 'chickenconsomme': 1066, 'thickeners': 6032, 'lowfatlowsodiumchickenbroth': 3621, 'lemonverbena': 3464, 'fullfatplainyogurt': 2484, 'saucetomato': 5252, 'saltpeter': 5221, 'ascorbicacid': 178, 'chickenflavorstuffingmix': 1078, 'wholewheatrigatoni': 6574, 'chillibeansauce': 1147, 'cookingcream': 1506, 'capon': 896, 'woodmushrooms': 6621, 'driedoysters': 1922, 'eyetheround': 2095, 'shelledhempseeds': 5364, 'capocollo': 895, 'meatfilledtortellini': 3833, 'minuterice': 3955, 'drieddates': 1894, 'culantro': 1705, 'kiwifruit': 3281, 'carambola': 901, 'pancitbihon': 4289, 'shrimppowder': 5439, 'fern': 2152, 'groundcashew': 2779, 'frozenhashbrowns': 2424, 'beefgravy': 369, 'sweetredbeanpaste': 5891, 'applepuree': 135, 'veggiepatties': 6354, 'jamaica': 3132, 'pinklentil': 4523, 'pickledonion': 4467, 'pizzatoppings': 4562, 'carrotsticks': 931, 'freshseabass': 2370, 'herbseasonedstuffingmix': 2932, 'pernodliqueur': 4441, 'almondfilling': 58, 'bakedpizzacrust': 262, 'pastina': 4350, 'cabbagelettuce': 792, 'duckliver': 1991, 'porkpicnicroast': 4640, 'fingerchili': 2194, 'knorrhomestylstockbeef': 3296, 'vanillacustard': 6273, 'unsaltedshelledpistachio': 6240, 'nigaritofu': 4085, 'reducedfatwhippedtopping': 4956, 'clementines': 1362, 'rigatonilargetubepasta': 5054, 'levainbread': 3485, 'mintextract': 3950, 'smokedrashers': 5553, 'driedchestnuts': 1883, 'josecuervo': 3193, 'turkeybreaststeaks': 6175, 'pennpasta': 4414, 'bertolliorganictraditsauc': 423, 'filletbeef': 2174, 'chineseparsley': 1176, 'smoked': 5532, 'driedfish': 1899, 'quornchik': 4805, 'tenders': 6004, 'bouillonpowder': 627, 'yakinori': 6626, 'bartlettpear': 312, 'jiffycornmuffinmix': 3181, 'smokedseasalt': 5556, 'pastrytartshell': 4357, 'tagliarini': 5936, 'candlenuts': 853, 'stewingsteak': 5758, 'cashewmilk': 934, 'lesssodiumcookedham': 3474, 'nondairyyogurt': 4094, 'englishbreakfastteabags': 2048, 'vegetabledemiglace': 6329, 'italianpizzacrust': 3100, 'buffalo': 737, 'extrafirmsilkentofu': 2080, 'snapperhead': 5570, 'broilerfryers': 700, 'powderedturmeric': 4702, 'cassava': 937, 'dietpepper': 1824, 'stonefireitalianthinpizzacrust': 5771, 'bittergourd': 456, 'englishtoffeebits': 2053, 'gingersnapcookiecrumbs': 2557, 'chineseplumsauce': 1179, 'bobevansitaliansausage': 534, 'nocaloriesweetener': 4089, 'sauerkrautjuice': 5254, 'chocolateglaze': 1234, 'frozenfruit': 2421, 'cherrysyrup': 1036, 'turmericroot': 6196, 'anchovyfilets': 95, 'curryleaf': 1728, 'smallpotatoes': 5523, 'rosehipteabags': 5120, 'babygemlettuce': 225, 'driedlavenderblossoms': 1907, 'southerncomfort': 5637, 'sourmix': 5632, 'wholegarammasala': 6508, 'garbonzobean': 2502, 'lowsodiumfatfreevegetablebroth': 3682, 'carameltopping': 908, 'lowfatricotta': 3641, 'butternut': 777, 'squidtube': 5729, 'greenonionbottoms': 2742, 'eggrollskins': 2027, 'boursin': 632, 'reducedsodiumcreammushroomsoup': 4966, 'flan': 2222, 'candiedginger': 847, 'acaijuice': 4, 'hottea': 3030, 'lambsteaks': 3385, 'veganworcestershiresauce': 6324, 'neufchâtel': 4074, 'driedsardines': 1940, 'frenchfrifrozen': 2293, 'condensedgoldenmushroomsoup': 1459, 'lowsodiumchicken': 3675, 'chocolatecookiecrumbs': 1224, 'tamaritamari': 5956, 'frozenstirfryvegetableblend': 2457, 'basafillets': 314, 'turbotfillets': 6168, 'lowfatsaladdressing': 3643, 'virgincoconutoil': 6382, 'turkeythigh': 6194, 'potatorolls': 4682, 'wholewheatthinspaghetti': 6585, 'mentsuyu': 3870, 'buckwheathoney': 733, 'garbanzobeanflour': 2500, 'teff': 5997, 'psylliumhusks': 4749, 'glutenfreeoat': 2590, 'yellowfin': 6642, 'masago': 3794, 'picklespears': 4473, 'precookedmeatballs': 4711, 'superfinewhitesugar': 5842, 'lowfatmarinarasauce': 3622, 'shrimpchips': 5435, 'amberjackfillet': 78, 'frenchbreadloaves': 2289, 'greengiant': 2734, 'soyaflour': 5643, 'eel': 2018, 'tartshells': 5986, 'ladyshouseseasoning': 3356, 'hotsalsa': 3025, 'sorbet': 5613, 'cookedmeatballs': 1491, 'helixsnails': 2918, 'harissasauce': 2888, 'compressedyeast': 1446, 'mediumsalsa': 3852, 'crackermeal': 1577, 'lowfatgoatcheese': 3618, 'skinlessflounderfillets': 5476, 'europeancucumber': 2069, 'floweringchives': 2256, 'kingoystermushroom': 3270, 'blacktruffleoil': 508, 'tubetti': 6154, 'beefforstew': 368, 'clementinesections': 1363, 'muffin': 4020, 'kingcrablegs': 3268, 'chucktender': 1303, 'toastpoints': 6070, 'knoblauch': 3284, 'canolaoilcookingspray': 887, 'vealloinchops': 6306, 'finelygroundcoffee': 2190, 'margarinespread': 3771, 'triscuits': 6136, 'groundrosemary': 2815, 'painlevain': 4273, 'cajunseasoningmix': 809, 'leftovermeat': 3436, 'maeploysweetchilisauce': 3726, 'countryloaf': 1561, 'meal': 3825, 'skate': 5463, 'goldmedalflour': 2623, 'panecasa': 4295, 'lemonadeconcentrate': 3444, 'shreddedromanocheese': 5429, 'multigrainpennepasta': 4025, 'ryeflour': 5163, 'chipotlepaste': 1200, 'piquillopeppers': 4532, 'driedbeans': 1875, 'caribbeanjerkseasoning': 919, 'flounder': 2249, 'turkeymeatballs': 6187, 'royalbakingpowder': 5142, 'singlemaltscotch': 5457, 'cummin': 1711, 'lapcheong': 3391, 'asianwheatnoodles': 194, 'countrycrockcalciumplusvitamin': 1557, 'soyacheese': 5642, 'kumquatssyrup': 3351, 'driedallspiceberries': 1868, 'soupbones': 5620, 'fatfreelesssodiumvegetablebroth': 2126, 'frozenpeachslices': 2441, 'browngravy': 708, 'cannedsnails': 876, 'granulatedtapioca': 2664, 'smokedhaddockfillet': 5543, 'ragugoldenveggiefettuccinepasta': 4819, 'raguclassicalfredosauce': 4818, 'filletsteaks': 2178, 'poussins': 4694, 'beandip': 338, 'raguoldworldstylesweettomatobasilpastasauc': 4821, 'largecurdcottagecheese': 3396, 'naturallowfatyogurt': 4062, 'floraoriginal': 2246, 'knorrchickenstockcubes': 3290, 'kraftshreddedcheddarcheese': 3339, 'oatbran': 4147, 'shankhalf': 5351, 'backbacon': 241, 'oliveoilmayonnaise': 4181, 'hibiscusflowers': 2941, 'breadrolls': 663, 'atlanticcodfillets': 205, 'cashewchopunsalt': 933, 'driedtagliatelle': 1948, 'briochebuns': 687, 'blackricevinegar': 500, 'wholewheatsandwichbread': 6577, 'chineserocksugar': 1186, 'chickenwater': 1102, 'chinesepancakes': 1175, 'lowfatwhitesauce': 3662, 'jifcreamypeanutbutter': 3180, 'morachiles': 4000, 'doublesmokedbacon': 1859, 'trufflesalt': 6150, 'lowfatpastasauce': 3633, 'mazolacanolaoil': 3815, 'texmexshreddedcheese': 6012, 'seasonedcroutons': 5297, 'avocadodressing': 208, 'lightkidneybeans': 3501, 'lesssodiumham': 3476, 'whitebreadslices': 6449, 'caramelicecreamtopping': 904, 'lesssodiumtacoseasoningmix': 3482, 'driedbeef': 1876, 'browngravymix': 709, 'honeymustarddressing': 2986, 'wholewheatbreadcubes': 6540, 'wholegrainbread': 6510, 'chocolatesandwichcookies': 1247, 'vanillafrozenyogurt': 6278, 'karosyrup': 3229, 'texaspetehotsauce': 6009, 'cakebatter': 814, 'wafflefries': 6391, 'frozenblackberries': 2403, 'unsweetenedicedtea': 6253, 'jamaicanjerkrub': 3137, 'beefcheek': 362, 'tamarindwater': 5954, 'sydhotrub': 5914, 'lemonvodka': 3465, 'saltedfish': 5206, 'saladdressingmix': 5183, 'fisherpecans': 2209, 'wholewheatcereal': 6546, 'yucca': 6673, 'koreanbuckwheatnoodles': 3320, 'chunkytomatosauce': 1314, 'babytatsoi': 237, 'floweringgarlicchives': 2257, 'greek': 2707, 'caramelyogurt': 909, 'saltedcashews': 5204, 'buffalomozzarella': 739, 'quickcookinghominygrits': 4796, 'knorrhomestylstockchicken': 3297, 'reducedsodiumbeefstock': 4958, 'wishbonelightasiansesamegingervinaigrettedressing': 6609, 'hickorysmoke': 2944, 'lightagavenectar': 3488, 'tuaca': 6152, 'mooli': 3995, 'broadbeans': 689, 'liptonsparklingdietgreenteawithstrawberrykiwi': 3541, 'sweetbeanpaste': 5858, 'doubanjiang': 1852, 'bâtarde': 787, 'mostarda': 4008, 'uni': 6226, 'yogurtdressing': 6665, 'cookedmeat': 1490, 'newyorkstylepanetini': 4080, 'toasts': 6071, 'ciabattaroll': 1321, 'swordfish': 5911, 'poppadoms': 4606, 'jujube': 3197, 'sweetturkeysausage': 5900, 'wholegrainroll': 6517, 'caracaraorange': 900, 'brandyextract': 644, 'pangasius': 4300, 'robiola': 5095, 'kipperedherringfillets': 3273, 'lessergalangal': 3470, 'bengalispice': 415, 'hardcheese': 2880, 'wholewheatdough': 6549, 'dragonfruit': 1861, 'japanesericevinegar': 3158, 'baconsalt': 251, 'plainseltzer': 4569, 'beefhotdogs': 371, 'semipearledfarro': 5321, 'groundpeanut': 2806, 'orientalradish': 4244, 'wishboneredwinevinaigrettdress': 6613, 'chilledprosecco': 1145, 'coarsesemolina': 1375, 'ranchstylebeans': 4842, 'shiraz': 5382, 'nappacabbage': 4059, 'frozencranberryjuiceconcentrate': 2419, 'quesofresca': 4789, 'frozenbrusselssprouts': 2409, 'parsleyroot': 4324, 'agavetequila': 24, 'lowfatchunkymushroompastasauce': 3605, 'gumbofilepowder': 2847, 'sesameseedsbuns': 5344, 'garlicherbfeta': 2515, 'lowsodiumparmesancheese': 3689, 'montrealsteakseasoning': 3994, 'lowfatvegetableprimaveraspaghettisauce': 3660, 'chiliseasoning': 1143, 'hamachifillets': 2871, 'balsamicvinaigrettesaladdressing': 279, 'unbakedpieshells': 6214, 'parmigianareggiano': 4318, 'cava': 955, 'frozencrabmeat': 2418, 'thawanddrain': 6026, 'nonfatchickenstock': 4098, 'bulbfennel': 742, 'lowsodiumcannedchickenbroth': 3673, 'robusto': 5096, 'whitequinoa': 6483, 'semisweetbakingchocolate': 5323, 'homemadebeefstock': 2966, 'smokedmozzarella': 5549, 'mizuna': 3982, 'reducedfatchunkypeanutbutter': 4935, 'hotcherrypepper': 2999, 'pinkfoodcoloring': 4519, 'baicai': 256, 'sweetbakingchocolate': 5856, 'troutcaviar': 6143, 'puffedrice': 4752, 'softrolls': 5598, 'knorrricesidecheddarbroccoli': 3306, 'chimichurri': 1151, 'lavash': 3412, 'beefround': 380, 'bonelessmoulardduckbreasthalves': 582, 'kielbasanotlowfat': 3258, 'habaneropowder': 2856, 'soyyogurt': 5656, 'pepperedbacon': 4422, 'progressoreducedsodiumchickenbroth': 4737, 'freshmasa': 2345, 'molepaste': 3987, 'brownmustard': 716, 'lowfatflourtortillas': 3617, 'iodizedsalt': 3084, 'instanttapioca': 3080, 'yellowfintuna': 6643, 'mixedfruit': 3971, 'bottleditaliandressing': 617, 'krogerblackbeans': 3349, 'tricolorquinoa': 6133, 'sodiumreducedchickenbroth': 5588, 'naturalsugar': 4065, 'vanillasoymilk': 6288, 'creamyogurt': 1614, 'jasminebrownrice': 3164, 'italianseasonedpankobreadcrumbs': 3111, 'chocolatesticks': 1252, 'pattypansquash': 4359, 'sodiumreducedbeefbroth': 5587, 'chinesespinach': 1190, 'frank': 2277, 'redhot': 4909, 'originalcayennepeppersauce': 4245, 'habas': 2857, 'instantbananacreampudding': 3067, 'vegancoffeecreamer': 6319, 'knoxunflavoredgelatin': 3309, 'sucanat': 5808, 'texastoastbread': 6010, 'saltedroastedalmonds': 5210, 'tamarialmonds': 5945, 'vitalwheatgluten': 6385, 'peeledprawns': 4407, 'coarsgroundblackpepper': 1377, 'vealtongue': 6314, 'josecuervogoldtequila': 3194, 'ranchdipmix': 4839, 'creamygravy': 1613, 'morcilla': 4001, 'shellfish': 5367, 'buckwheat': 730, 'buttercupsquash': 764, 'lemontwists': 3463, 'bonelessskinlessturkeybreasts': 597, 'biscotti': 448, 'petitspois': 4448, 'jamaicanjerkmarinade': 3136, 'mcintoshapples': 3824, 'curlyparsley': 1722, 'waterpackedartichokehearts': 6413, 'citrus': 1345, 'coleslawmix': 1435, 'babyartichokes': 216, 'raspberrysauce': 4856, 'freshpoblanopepper': 2362, 'bresaola': 673, 'empanada': 2041, 'yuzu': 6677, 'ricebran': 5028, 'devil': 1801, 'foodcakemix': 2265, 'imperialsugarlightbrownsugar': 3062, 'italiansauce': 3106, 'ceyloncinnamon': 986, 'vealknuckle': 6304, 'criscopurecanolaoil': 1636, 'fatfreeparmesancheese': 2130, 'cutcookedchicken': 1739, 'chilecolorado': 1115, 'milditaliangroundsausage': 3907, 'earthbalancenaturalbutteryspread': 2010, 'boneinshortribs': 557, 'goldmedalallpurposeflour': 2622, 'ricekrispiescereal': 5033, 'balsamicreduction': 277, 'nashi': 4060, 'sucralosesweetener': 5811, 'creamtomatosoup': 1612, 'breakfastsausagelinks': 667, 'adobostyleseasoning': 19, 'sevilleoranges': 5346, 'sooji': 5611, 'softbuns': 5591, 'pepperidgefarmpuffpastrysheets': 4425, 'looseleafblacktea': 3581, 'chiffonade': 1109, 'zucchiniblossoms': 6687, 'turtle': 6199, 'raspberryvinegar': 4858, 'dryfettuccine': 1967, 'englishwalnuts': 2054, 'wholewheatpennerigate': 6565, 'rooster': 5114, 'unsmokedbacon': 6243, 'goose': 2629, 'cassisliqueur': 941, 'breyers': 677, 'naturalvanillaicecream': 4067, 'jumboshells': 3201, 'chinesejujubes': 1171, 'sweetenedredbeans': 5872, 'wholewheatpitabreadrounds': 6568, 'clamsauce': 1354, 'butterextract': 765, 'oatmilk': 4152, 'creamstylecottagecheese': 1609, 'tomyumpaste': 6099, 'coconutmilkpowder': 1397, 'organicunsaltedbutter': 4240, 'reducedfatreducedsodiumtomatoandherbpastasauce': 4950, 'dairyfreecoconuticecream': 1750, 'unsweetenedpineapplejuice': 6254, 'pancakebatter': 4283, 'driedhibiscusblossoms': 1903, 'sevilleorangejuice': 5345, 'lambforstew': 3367, 'lowfatfeta': 3615, 'chileanseabassfillets': 1112, 'ducksauce': 1992, 'roteldicedtomatoes': 5128, 'earthbalancebutteryspread': 2009, 'barleymiso': 309, 'bonelesschops': 574, 'vegetarianoystersauce': 6348, 'quorncrumbles': 4806, 'buckwheatgroats': 732, 'vegetableseasoning': 6341, 'mushroomsoup': 4039, 'andcarrotgreenpea': 98, 'diamondcrystal': 1805, 'essenceseasoning': 2067, 'countrystyleitalianbread': 1563, 'orangeroughyfillet': 4217, 'yuzujuice': 6678, 'smokedeel': 5539, 'shreddedbasil': 5404, 'lesssodiummushroomflavoredsoysauce': 3477, 'shreddedcolby': 5410, 'plumwine': 4578, 'bottledchilisauce': 615, 'arhardal': 157, 'peppermintschnapps': 4430, 'boychoy': 635, 'alfalfasprouts': 44, 'kamutflour': 3223, 'chinesebuns': 1157, 'condensedsoup': 1464, 'hamachi': 2870, 'jimmydeanallnaturalregularporksausage': 3183, 'choppedcookedmeat': 1268, 'twists': 6203, 'kasu': 3233, 'spicysausageslices': 5694, 'vegetablefilledravioli': 6331, 'dasheen': 1779, 'calabaza': 821, 'ragucheesidoublcheddarsauc': 4817, 'saltedmixednuts': 5207, 'chicharron': 1048, 'lowfatcoffeeicecream': 3607, 'cookedfettuccini': 1486, 'carneasada': 923, 'tangerinezest': 5964, 'storeboughtpoundcake': 5779, 'tvp': 6202, 'bagelchips': 253, 'jamaicanjerk': 3135, 'beefshin': 385, 'empanadadough': 2042, 'cornstarchnoodles': 1547, 'lambracks': 3375, 'fatfreeicecream': 2122, 'greekstyleseasoning': 2715, 'gravygranules': 2700, 'saffronpowder': 5171, 'frozenpotatoes': 2449, 'breadandbutterpickleslices': 653, 'sweetandsourmix': 5854, 'piripirisauce': 4533, 'hoagiroll': 2956, 'mrsdash': 4014, 'candiedjalapeno': 848, 'coconutchips': 1389, 'organicbutter': 4227, 'soyvay': 5655, 'toastedsesamedressing': 6061, 'meatseasoning': 3841, 'wholewheatthinitalianpizzacrust': 6584, 'bordelaisesauce': 608, 'unsweeteneddriedcoconut': 6252, 'sportsdrink': 5710, 'mexicanlagerbeer': 3888, 'asparagusbean': 196, 'butterflavoredspray': 766, 'hazelnutflour': 2899, 'freerangechickenbreasts': 2281, 'veriveriteriyaki': 6362, 'bonelessskinchickenthighs': 591, 'herbdressing': 2926, 'lambstrips': 3388, 'jusgravy': 3204, 'maraschino': 3768, 'driedbonito': 1879, 'thaieggplants': 6019, 'cubedmeat': 1697, 'chickenpandrippings': 1089, 'lemonpudding': 3458, 'pâté': 4780, 'greenfigs': 2732, 'tuttorossodicedtomatoes': 6201, 'cookedboneham': 1480, 'refrigeratedfourcheeseravioli': 5001, 'semisweetchocolatechunks': 5325, 'fineeggnoodles': 2184, 'lambcutlet': 3365, 'slicedleeks': 5502, 'dominoconfectionerssugar': 1848, 'instantcouscous': 3072, 'nondairysourcream': 4092, 'hotporksausage': 3022, 'fastrisingactivedryyeast': 2105, 'lowsodiumvegetablestock': 3703, 'peanutpowder': 4379, 'paccheri': 4268, 'yogurtcheese': 6664, 'vegetarianchicken': 6347, 'bisquickoriginalallpurposebakingmix': 455, 'pansies': 4303, 'chocolatefudgeicecream': 1233, 'hotgreenchile': 3011, 'chocolatecoveredespressobeans': 1227, 'burgerstylecrumbles': 751, 'unsulphuredmolasses': 6244, 'greencauliflower': 2725, 'herbcheese': 2925, 'wishbonelightcountryitaliandressing': 6610, 'strawberryicecream': 5787, 'alexiawafflefries': 43, 'creamfilledchocolatesandwichcookies': 1600, 'crèmementhe': 1691, 'sesameseedpaste': 5342, 'yuccaroot': 6674, 'tartletshells': 5985, 'shishitochile': 5384, 'custarddessertmix': 1736, 'mrsdashseasoningmix': 4015, 'muenster': 4017, 'giantwhitebeans': 2543, 'tipoflour': 6048, 'heinzketchup': 2913, 'cactuspaddles': 803, 'meatcuts': 3829, 'inchthick': 3063, 'wholewheatfusilli': 6554, 'sanmarzanotomatoes': 5240, 'lambloin': 3371, 'guacamoleseasoningmix': 2834, 'sazongoya': 5267, 'lingcod': 3529, 'granularnocaloriesucralosesweetener': 2660, 'meatmarinade': 3839, 'koreanvermicelli': 3324, 'ragupizzaquicksauc': 4823, 'bockbeer': 536, 'pinacoladamix': 4505, 'greatergalangal': 2704, 'driedorangepeel': 1920, 'vadouvancurry': 6262, 'crustywholewheattoast': 1681, 'longan': 3567, 'regularsugar': 5011, 'tablesyrup': 5923, 'watercrackers': 6407, 'crescentdinnerrolls': 1630, 'japanesestylebreadcrumbs': 3160, 'fruitjuice': 2472, 'apricotjelly': 144, 'crushedpeppermintcandy': 1667, 'steviapowder': 5753, 'dinosaurkale': 1836, 'organiccoconutmilk': 4232, 'shreddedlowfatmozzarellacheese': 5419, 'lowfatbalsamicvinaigrette': 3594, 'ornamentalkale': 4249, 'roastedbellpeppers': 5070, 'cannedbeans': 862, 'bertollivodkasaucmadewithfreshcream': 426, 'sweetgherkin': 5874, 'branstonpickle': 646, 'peachjuice': 4364, 'wholewheatpitarounds': 6570, 'mitsuba': 3967, 'unagi': 6212, 'japanesepumpkin': 3155, 'veganchickenflavoredbouillon': 6318, 'chineseturnip': 1191, 'hoopcheese': 2991, 'muffinmix': 4021, 'glucosesyrup': 2571, 'pastashapes': 4341, 'chinesepeapods': 1177, 'branflakes': 645, 'potstickerwrappers': 4688, 'grilledchickenstrips': 2765, 'aonori': 125, 'chunosauce': 1315, 'slicedbeets': 5491, 'orangeroughy': 4216, 'lesssodiumsmokedfullycookedham': 3479, 'rawtigerprawn': 4872, 'evaporatedlowfat': 2072, 'wingsauce': 6602, 'spanishsmokedpaprika': 5667, 'organicmilk': 4236, 'kingsalmon': 3272, 'chopmeat': 1260, 'tostitos': 6123, 'ganache': 2498, 'biga': 441, 'scrodfillets': 5281, 'amberrum': 79, 'chestnutpurée': 1043, 'nonfatvanillayogurt': 4119, 'minutewhiterice': 3957, 'brownricenoodles': 720, 'sweetcreambutter': 5868, 'darkmeat': 1769, 'wholewheattortillawraps': 6587, 'gravymaster': 2701, 'knorrleekrecipmix': 3299, 'nonfatcreamcheese': 4100, 'deviledham': 1802, 'cardoons': 918, 'filletmedallions': 2175, 'groundpoppyseed': 2810, 'charfillets': 1004, 'kabulichanna': 3208, 'torpedorolls': 6114, 'reducedfatcreammushroomsoup': 4938, 'readyricewholegrainbrownrice': 4875, 'granarybread': 2654, 'seasonedgroundturkey': 5299, 'tabasco': 5918, 'chipotlepeppersauce': 1202, 'greekblackolives': 2709, 'plumjam': 4574, 'watermelonradishes': 6411, 'marconaalmonds': 3769, 'kungpaosauce': 3352, 'longbuns': 3570, 'baobabfruitpowder': 295, 'lowsodiumtomatopaste': 3699, 'cinnamoncandycanes': 1332, 'cookedlonggrainbrownrice': 1489, 'frozenspringrollwrappers': 2456, 'braggsliquidaminos': 639, 'truvía': 6151, 'naturalsweetener': 4066, 'groundturkeysausage': 2826, 'lambribroast': 3377, 'butterflavorshortening': 767, 'breadfruit': 660, 'turkeyham': 6182, 'reducedsodiumkidneybeans': 4971, 'toploinsteaks': 6106, 'darksoy': 1776, 'kappa': 3225, 'japanesepeanuts': 3154, 'strawberryextract': 5785, 'artificialsweetener': 168, 'snowpeapods': 5575, 'smallyellowonion': 5529, 'wholegrainrice': 6516, 'cipollinionions': 1341, 'arrowrootflour': 161, 'driedstrawberries': 1947, 'porktongue': 4664, 'demibaguette': 1796, 'friedwontonstrips': 2391, 'ibarrachocolate': 3043, 'multigraincereal': 4024, 'strainedyogurt': 5782, 'nutoil': 4143, 'artisanbread': 170, 'standingribroast': 5733, 'bénédictine': 788, 'shreddedlowfatjarlsbergcheese': 5417, 'smokedhogjowl': 5546, 'beancurdstick': 337, 'skinlessmahimahifillets': 5478, 'hotspanishpaprika': 3029, 'durumwheatflour': 2002, 'bonemarrow': 601, 'houseseasoning': 3032, 'swede': 5852, 'raclette': 4809, 'wholewheatpotatobuns': 6573, 'bonelessmagretduckbreasthalves': 581, 'pummelo': 4758, 'condensedreducedfatreducedsodiumcreamchickensoup': 1461, 'atar': 203, 'blacan': 462, 'gingersyrup': 2560, 'stemginger': 5749, 'topsidesteak': 6110, 'steelcutoatmeal': 5746, 'japanesebreadcrumbs': 3149, 'marronsglacés': 3782, 'babyokra': 231, 'loinporkchops': 3564, 'extra': 2077, 'butterpecanicecream': 781, 'padronpeppers': 4271, 'hotitalianturkeysausagelinks': 3016, 'farfalline': 2099, 'saltfreeseasoning': 5217, 'blackbass': 464, 'honeywhiskey': 2989, 'crescentrecipecreations': 1631, 'refrigeratedseamlessdoughsheet': 5005, 'rotelpasta': 5130, 'preservraspberriseedless': 4726, 'sodiumfreechickenstock': 5586, 'chocolatetruffle': 1254, 'mesquiteflavoredseasoningmix': 3878, 'organiccoconutoil': 4233, 'lowfatcrèmefraîche': 3613, 'stellette': 5748, 'flageolet': 2218, 'filling': 2179, 'smallgreenchile': 5519, 'skinlessandbonelesschickenbreastfillet': 5467, 'porksirloinchops': 4656, 'karocornsyrup': 3228, 'toffeebits': 6073, 'flowerpetals': 2258, 'chiltepín': 1150, 'garlicoliveoil': 2521, 'choppedpotatoes': 1285, 'cakemixwhiteyellow': 817, 'licoriceroot': 3487, 'creamedspinach': 1598, 'crumpet': 1659, 'regularcucumber': 5008, 'bonedskinnedduckbreasthalves': 551, 'yoghurtnaturallowfat': 6663, 'lapsangsouchong': 3393, 'raspberryfruitspread': 4849, 'smokedchorizo': 5538, 'vanillapudding': 6287, 'limeade': 3519, 'lowfatcreamcelerysoup': 3611, 'largemarshmallows': 3403, 'madeirawine': 3722, 'benneseed': 417, 'muscovy': 4034, 'pancitcanton': 4290, 'caramelflavoredsyrup': 902, 'fisherpecanhalves': 2208, 'aztecaflourtortillas': 212, 'kraftoriginalbarbecuesauce': 3336, 'thickcurds': 6030, 'butterscotchsauce': 785, 'duckegg': 1988, 'centuryeggs': 983, 'sparklinglemonade': 5669, 'regulartofu': 5012, 'hingpowder': 2953, 'lowsodiumcajunseasoning': 3672, 'whitegrapefruitjuice': 6470, 'lambkidneys': 3368, 'rusticbread': 5158, 'wolfbrandchili': 6614, 'louisianacajunseasoning': 3588, 'darklager': 1767, 'asian': 180, 'powderedsugaricing': 4701, 'skinlessbonelessturkeybreasthalves': 5468, 'strawberrygelatin': 5786, 'hellmannâ': 2920, 'bestfoodcanolacholesterolfreemayonnais': 430, 'harusame': 2889, 'slicedmeat': 5504, 'bananaextract': 284, 'bottledlimejuice': 618, 'greentealeaves': 2756, 'hazelnutliqueur': 2900, 'bittersweetbakingchocolate': 459, 'heinzworcestershiresauce': 2915, 'poppyseeddressing': 4608, 'cubedmango': 1696, 'chicory': 1108, 'knorrreducsodiumchickenflavorbouillon': 3304, 'discoempanadafrozen': 1841, 'crushedpistachio': 1670, 'kippers': 3274, 'balmleaves': 275, 'soursalt': 5634, 'venisonsteaks': 6361, 'malt': 3737, 'hops': 2992, 'flakedoats': 2221, 'driedchipotlepepper': 1887, 'vindaloopaste': 6375, 'katakuriko': 3235, 'cinnamonicecream': 1335, 'sweetbreads': 5861, 'chaiteaconcentrate': 988, 'yeastextract': 6633, 'absinthe': 2, 'mountaindewsoda': 4009, 'hongkongstylenoodles': 2990, 'lowsodiumbroth': 3671, 'tonychachere': 6103, 'forestmushroom': 2270, 'chickennugget': 1088, 'mincemeatpiefilling': 3937, 'flaxseeds': 2242, 'veganbouilloncubes': 6315, 'sloegin': 5515, 'galliano': 2496, 'chickendemiglace': 1068, 'lowfatcheddarchees': 3600, 'trufflepuree': 6148, 'hubbardsquash': 3033, 'galanga': 2494, 'lowfatsweetenedcondensedmilk': 3653, 'venisonroast': 6360, 'drifruittropic': 1956, 'tartcrust': 5983, 'shreddedbamboo': 5403, 'pointedpeppers': 4586, 'kangkong': 3224, 'wholesomesweetenersorganicsugar': 6533, 'glutenfreecornmeal': 2584, 'glutenfreepiecrust': 2594, 'finegrindwhitecornmeal': 2187, 'broccoliromanesco': 694, 'garlicherbspreadablecheese': 2516, 'turkeycarcass': 6179, 'pillsburythinpizzacrust': 4495, 'semisweetveganchocolatechips': 5328, 'buttercake': 760, 'eggland': 2022, 'best': 428, 'glutenfreemarinarasauce': 2589, 'glutenfreelasagnanoodle': 2588, 'spiceislands': 5681, 'whitegrapejuice': 6471, 'tomatocreamsauce': 6085, 'knorrtomatobouillonwithchickenflavor': 3307, 'chocolatecandy': 1218, 'panangcurrypaste': 4281, 'betterthanbouillonchickenbase': 434, 'sweetitalianporksausage': 5875, 'sweetpicklejuice': 5885, 'striploin': 5797, 'codroe': 1409, 'caraway': 910, 'longgreen': 3575, 'potatonuggets': 4681, 'groundpeppercorn': 2809, 'rawpeeledprawns': 4868, 'barillalinguine': 301, 'vjuice': 6386, 'burritoseasoningmix': 756, 'alum': 69, 'curryguysmokedgarammasala': 1726, 'reducedsodiumcondensedcreamchickensoup': 4965, 'porksausagecasing': 4647, 'flavoredvinegar': 2235, 'goodseasonsitaliandressingmix': 2628, 'aniseliqueur': 114, 'refrigerateddinnerrolls': 4999, 'nutmeal': 4141, 'driedcloudears': 1889, 'cox': 1566, 'orangepippin': 4214, 'whitepoppyseeds': 6482, 'chilepuree': 1124, 'lightlager': 3502, 'thousandislanddressing': 6037, 'oldfashionedoatmeal': 4173, 'daikonsprouts': 1749, 'delallopenneziti': 1791, 'quesopanela': 4792, 'lowsodiumjarredchickensoupbase': 3685, 'cajuncreoleseasoningmix': 806, 'blackbeanstirfrysauce': 470, 'refrigeratedseamlesscrescentdough': 5004, 'preparedpiecrusts': 4720, 'peachsalsa': 4369, 'meatglaze': 3835, 'reducedsodiumfatfreechickenbroth': 4967, 'groundespresso': 2792, 'sliderbuns': 5512, 'gravensteinapple': 2696, 'laksapaste': 3359, 'acinipepe': 11, 'smokedwhitefish': 5565, 'kraftbigslicepepperjackcheeseslices': 3328, 'bonelessduckbreast': 577, 'yambean': 6628, 'stemgingersyrup': 5750, 'celerytops': 975, 'hardcider': 2881, 'cappuccino': 898, 'teriyakimarinade': 6007, 'greenchilesauce': 2728, 'lowfatvanillayogurt': 3659, 'kraftshreddedmozzarellacheese': 3342, 'beefstewseasoningmix': 395, 'fatfreegroundturkeybreast': 2120, 'ramennoodlesseasoning': 4835, 'cremini': 1621, 'snaps': 5572, 'pickledgarlic': 4463, 'alphabetpasta': 68, 'pineapplechunksnaturaljuice': 4508, 'reducedsodiumvegetablestock': 4980, 'cookiecrumbs': 1503, 'hen': 2922, 'longgreenpepper': 3578, 'purplepotatoes': 4777, 'chickenheart': 1082, 'camelliaredkidneybeans': 835, 'lowfattartarsauce': 3654, 'dulong': 1996, 'skinlesscodfillets': 5475, 'fideospasta': 2162, 'gomashio': 2627, 'sago': 5176, 'chickenbrothlowfat': 1063, 'fruitcake': 2469, 'framboiseeaudevie': 2273, 'sweetbiscuitcrumbs': 5860, 'henthewoods': 2923, 'quahogclams': 4781, 'peanutbrittle': 4375, 'genmaimiso': 2536, 'hojasantaleaves': 2962, 'cipollini': 1340, 'milkchocolatepieces': 3919, 'mousse': 4010, 'kraftshreddedlowmoisturepartskimmozzarellacheese': 3341, 'pocketbread': 4583, 'licor': 3486, 'warmbuns': 6398, 'amba': 76, 'chambordliqueur': 992, 'hotpepperrings': 3020, 'wholewheatberries': 6537, 'lox': 3705, 'mauionion': 3811, 'driedapplerings': 1870, 'wintersavory': 6604, 'lambcubes': 3364, 'tangelos': 5961, 'quesocrema': 4788, 'chocolatechipcookiemix': 1221, 'wholebabyokra': 6503, 'pamcookingspray': 4279, 'pistou': 4538, 'missionfigs': 3964, 'crabmeatfrozen': 1572, 'cakepoundprepar': 818, 'flavoredwine': 2237, 'popcornkernels': 4605, 'meatextract': 3831, 'grassfedbeef': 2675, 'hyssop': 3041, 'melissa': 3862, 'melonliqueur': 3865, 'goldenmushroomsoup': 2618, 'freshwhitetruffles': 2384, 'chocolatemilk': 1243, 'kraftmexicanstyleshreddedfourcheesewithtouchofphiladelphia': 3334, 'whitebreadflour': 6448, 'culinarylavender': 1706, 'crystalfarmsreducedfatshreddedmarblejackcheese': 1684, 'breast': 670, 'smartbalancecookingspray': 5530, 'chocolatefrosting': 1232, 'guavapaste': 2841, 'astispumante': 202, 'englishbreakfasttealeaves': 2049, 'namashoyu': 4054, 'potstickers': 4687, 'wholewheatbreadslices': 6543, 'unsweetenedbakingchocolate': 6248, 'ngogai': 4081, 'organicvegetablestock': 4242, 'subrolls': 5807, 'readymadepiecrusts': 4874, 'pasillachilepepper': 4331, 'calabash': 820, 'lowfatcheddarcheese': 3601, 'almondsyrup': 66, 'jamonserrano': 3148, 'watermelonseeds': 6412, 'barolo': 310, 'doublecrust': 1856, 'glutenfreebread': 2578, 'ladyapples': 3354, 'instantoats': 3076, 'shoulderroast': 5399, 'smokedalmonds': 5533, 'lowsodiumtomato': 3697, 'creoleseafoodseasoning': 1624, 'vegetablesoup': 6344, 'roastinghen': 5090, 'chunkystylepastasauce': 1311, 'blackberrybrandy': 472, 'bonelesssalmonfillets': 588, 'sucklingpig': 5810, 'passoverwine': 4337, 'lesssodiumcookeddeliham': 3473, 'missioncorntortillas': 3963, 'wholewheatcrackers': 6548, 'clementinejuice': 1361, 'raspberrylambic': 4852, 'whitebakingbar': 6444, 'moonshine': 3997, 'lowfatpartskimricottachees': 3632, 'kochuchang': 3313, 'mangojuice': 3751, 'blancocheesqueso': 518, 'lowfatturkeykielbasa': 3656, 'purewessoncanolaoil': 4773, 'legumes': 3440, 'olivetapenade': 4184, 'mezzettaslicedgreekkalamataolives': 3899, 'frozengardenpeas': 2422, 'burgerrolls': 749, 'lowfatmontereyjack': 3626, 'shreddedlowfatcheddar': 5415, 'lowsodiumbeefbouillongranules': 3667, 'condensedcreambroccolisoup': 1452, 'sumacpowder': 5827, 'reducedsodiumitalianstylestewedtomatoes': 4970, 'hots': 3024, 'lavictoriaredchilesauce': 3417, 'honeydijonmustard': 2980, 'matsutakemushrooms': 3806, 'coconutmilkyogurt': 1398, 'hoisingarlicmarinade': 2959, 'leanchuckroast': 3423, 'coldsmokedsalmon': 1431, 'scapepesto': 5273, 'riso': 5059, 'lowsodiumcrushedtomatoes': 3679, 'driedcoconutflakes': 1890, 'mixedfrozenseafood': 3970, 'dangmyun': 1756, 'saltfreesouthwestchipotleseasoning': 5218, 'organiclowsodiumchickenbroth': 4235, 'cajunremoulade': 807, 'jumboshellpasta': 3200, 'hakefillets': 2861, 'chickenflavoredrice': 1076, 'azukibean': 213, 'nonfatitaliandressing': 4108, 'angus': 110, 'gourmetgardenparsley': 2638, 'chickenflavor': 1074, 'lowfatcannedcoconutmilk': 3598, 'pilsner': 4497, 'lavenderflowers': 3415, 'duckbones': 1983, 'youngleeks': 6670, 'graysalt': 2703, 'headcauliflower': 2904, 'birdpepper': 446, 'souppasta': 5622, 'topping': 6107, 'kraftmayonnaise': 3331, 'wholewheatpitapockets': 6569, 'muscadinegrapes': 4031, 'milkchocolatekisses': 3918, 'rusticrub': 5159, 'italianvinaigrette': 3121, 'brancamenta': 642, 'kraftextrasharpcheddarcheese': 3329, 'jonshonville': 3192, 'cajunstylechickensausage': 811, 'edamamebeans': 2015, 'kinchay': 3266, 'frozencherries': 2412, 'dippingchocolate': 1838, 'groundnuts': 2803, 'wholewheatrotini': 6575, 'cremecacao': 1620, 'filé': 2182, 'heathcandybars': 2908, 'chocolategrahamcrackercrumbs': 1235, 'cubedpancetta': 1698, 'purewessonvegetableoil': 4774, 'gebhardtchilipowder': 2531, 'tikkapaste': 6045, 'leanmincedlamb': 3429, 'calamaristeak': 826, 'manzanillaolives': 3763, 'dribasilleaves': 1867, 'meatloafmixture': 3838, 'vodkasauce': 6388, 'mintsyrup': 3954, 'mediumpotatoes': 3851, 'parevemargarine': 4314, 'halloumicheese': 2867, 'sherbet': 5372, 'quickyeast': 4800, 'splityellowlentils': 5707, 'frozenmashedpotatoes': 2430, 'yellowheirloomtomatoes': 6645, 'val': 6263, 'assam': 200, 'fryers': 2475, 'candiedchestnuts': 844, 'driedrigatoni': 1936, 'cannedchicken': 865, 'hungarianhotpaprika': 3037, 'japanesemayonnaise': 3152, 'sashimigradetuna': 5244, 'saltedpistachios': 5209, 'lowfatsharpcheddarcheese': 3645, 'applebrandy': 126, 'pancit': 4288, 'lecithin': 3432, 'aniseoil': 115, 'mahlab': 3731, 'shrimpsmalluncook': 5441, 'liptonteabags': 3542, 'nondairywhippedtopping': 4093, 'groundporksausage': 2812, 'oldelpasogreenchiles': 4171, 'porter': 4668, 'redcurrants': 4897, 'progressoartichokehearts': 4733, 'bakingblend': 265, 'chrysanthemum': 1296, 'saltedanchovies': 5202, 'whitebreadcrumbs': 6447, 'cutintoservingpieces': 1743, 'regularconvertrice': 5007, 'delicatasquash': 1792, 'groundasafetida': 2772, 'sangiovese': 5236, 'meringuepowder': 3874, 'sichuanpeppercornoil': 5448, 'freshchickenstock': 2313, 'fudgecakemix': 2479, 'freshcurry': 2323, 'fatfreecroutons': 2117, 'broilerchicken': 698, 'pralinesyrup': 4707, 'saltfreeherbseasoning': 5216, 'porksirloin': 4655, 'coleslawdressing': 1434, 'jusgravymix': 3205, 'jackdanielswhiskey': 3125, 'slicedfreshfruit': 5497, 'evergladesseasoning': 2076, 'yellowtailsnapperfillets': 6660, 'frozenravioli': 2452, 'reducedsugarorangemarmalade': 4982, 'mccormickgroundcumin': 3818, 'chilepiquin': 1122, 'minibananas': 3942, 'fedelini': 2140, 'piscobrandy': 4535, 'cornbreadcrumbs': 1522, 'fresnopepper': 2387, 'agedcheddarcheese': 26, 'driedraspberry': 1933, 'cookedbeetroot': 1479, 'creamedhorseradish': 1597, 'roastedgarlicoil': 5075, 'babygoat': 226, 'cheesecurds': 1015, 'castelvetranoolives': 943, 'breadcrumbmix': 656, 'fermentedbeanpaste': 2150, 'nielsenmasseyvanillaextract': 4084, 'dijonnaisecreamydijonmustard': 1828, 'cactus': 800, 'violets': 6381, 'goyagroundcumin': 2640, 'goyahotsauce': 2641, 'goyaextravirginoliveoil': 2639, 'organicbuttermilk': 4228, 'shreddednori': 5424, 'bonelesssteak': 598, 'reblochon': 4877, 'fatfreeshreddedcheddarcheese': 2133, 'sundriedtomatodressing': 5832, 'irishredale': 3088, 'bigoli': 442, 'appleslice': 139, 'sagopearls': 5177, 'redquinoa': 4923, 'cucuzza': 1704, 'flavoredtortillachips': 2234, 'italianseasoneddicedtomatoes': 3109, 'frozenonionrings': 2437, 'sugarpearls': 5820, 'peppercheese': 4420, 'sunflowerkernels': 5837, 'glutenfreespaghetti': 2597, 'brownricespaghetti': 722, 'verjuice': 6363, 'nonfatmozzarellacheese': 4112, 'unhulledsesameseeds': 6225, 'lamblegsteaks': 3370, 'icecreamsalt': 3049, 'peeledcannedlowsodiumtomatoes': 4403, 'tacobell': 5925, 'sirlointipsteak': 5462, 'blackradish': 498, 'whitezinfandel': 6500, 'sturgeon': 5804, 'nonfatdriedmilk': 4101, 'tbonesteak': 5991, 'redvelvetcakemix': 4983, 'dolesevenlettuces': 1847, 'other': 4257, 'nakanoseasonedricevinegar': 4053, 'wieners': 6591, 'butterscotchfilling': 784, 'mintchocolatechipicecream': 3949, 'jimmies': 3182, 'tupelohoney': 6165, 'vanillafrosting': 6277, 'soybeanoil': 5645, 'kha': 3253, 'lowsodiumlowfatvegetablebroth': 3688, 'liversausage': 3556, 'beetjuice': 406, 'classicpizzacrust': 1358, 'blackseabass': 502, 'bottledlowsodiumsalsa': 619, 'beurremanié': 436, 'muscadet': 4030, 'buffalomozarella': 738, 'asiandressing': 187, 'strawberrycompote': 5784, 'tartfilling': 5984, 'chocolatemilkmix': 1244, 'tuong': 6164, 'tatsoi': 5989, 'reducedsodiumchickenflavorstuffingmix': 4963, 'reducedfatreducedsodiumcreammushroomsoup': 4949, 'rubseasoning': 5146, 'glutenfreebarbecuesauce': 2576, 'tangzhongroux': 5965, 'sourdoughstarter': 5630, 'maltpowder': 3740, 'porkloinribchops': 4637, 'beefbonelessmeatstew': 354, 'creamerpotatoes': 1599, 'turkeybreastdelimeat': 6174, 'vegansourcream': 6323, 'lowfatfirmsilkentofu': 3616, 'tigerlilybuds': 6042, 'boysenberries': 636, 'bok': 542, 'wholegrainbuns': 6511, 'chukasobanoodles': 1304, 'dicedmushrooms': 1814, 'hotitalianturkeysausage': 3015, 'currysaucemix': 1734, 'bakingsugar': 272, 'kraftshreddedpepperjackcheese': 3343, 'roastduckmeat': 5067, 'saltfreecajuncreoleseasoning': 5214, 'blackcherries': 475, 'ginkgonut': 2561, 'soycrumbles': 5649, 'kimcrawfordsauvignonblanc': 3265, 'bourbonliqueur': 630, 'oldbayblackenedseasoning': 4166, 'citrusjuice': 1347, 'glutenfreepenne': 2593, 'creamcheesespread': 1591, 'nonfatfrozenyogurt': 4105, 'porcinipowder': 4612, 'sourdoughrolls': 5629, 'arak': 149, 'creamcheeselowfat': 1590, 'tubettini': 6155, 'maitakemushrooms': 3734, 'amarenacherries': 71, 'dryjack': 1970, 'sliderrolls': 5513, 'glutenfreebroth': 2580, 'pop': 4602, 'sesamebutter': 5337, 'lesssodiumfatfreechickenbroth': 3475, 'jerkseasoningmix': 3177, 'sugartheraw': 5824, 'croutonitalianseason': 1647, 'lowfatparmesancheese': 3631, 'liptonpureleafunsweetenicedtea': 3539, 'irishoats': 3087, 'onethirdlesssodiumchickenbroth': 4187, 'zatarainscreoleseasoning': 6681, 'knudsensourcream': 3312, 'creampowder': 1604, 'processcheesespread': 4730, 'pineapplesyrup': 4515, 'tuacaliqueur': 6153, 'americancheesefood': 83, 'vanillacakemix': 6271, 'kikkomanlesssodiumsoysauce': 3259, 'refrigeratedbreaddough': 4994, 'kikkomanoystersauce': 3260, 'italianrolls': 3103, 'shoulderlambchops': 5397, 'truecinnamon': 6145, 'mccormicktacoseasoning': 3823, 'tomatosaucelowsodium': 6097, 'waterchestnutpowder': 6405, 'chioggia': 1196, 'kraftshreddedcolby': 3340, 'montereyjackcheese': 3993, 'kraftzestylimevinaigrettedressing': 3348, 'jambalaya': 3142, 'tablewine': 5924, 'rosemaryneedles': 5123, 'reducedsodiumsmokedham': 4974, 'vealmedallions': 6307, 'newmexicoredchilepowder': 4077, 'shanghaibokchoy': 5349, 'boquerones': 606, 'trevisoradicchio': 6132, 'japaneseradish': 3156, 'blackgrapes': 487, 'smokedmackerel': 5548, 'elderflowercordial': 2036, 'sweetwhitewine': 5904, 'babyturnips': 238, 'oysterliquor': 4264, 'tatertots': 5988, 'matzocakemeal': 3808, 'lemoncakemix': 3445, 'pizzaseasoning': 4560, 'rumraisinicecream': 5153, 'pippinapples': 4531, 'pandanessence': 4291, 'seasoningrub': 5304, 'liquidsweetener': 3549, 'fosterfarmsbonelessskinlesschickenbreasts': 2271, 'countrygravy': 1559, 'nonfathalfandhalf': 4107, 'ediblegoldleaf': 2017, 'lowfatsoftgoatcheese': 3649, 'flaxegg': 2239, 'congereel': 1471, 'chocolateliqueur': 1242, 'curedpork': 1716, 'straightbourbonwhiskey': 5781, 'condensedreducedfatreducedsodiumtomatosoup': 1463, 'condensedcream': 1451, 'anisepowder': 116, 'lowfatplaingreekyogurt': 3636, 'swiss': 5907, 'snowcrab': 5574, 'spotprawns': 5711, 'barillapiccolinimini': 303, 'hachiya': 2858, 'salmonsashimi': 5193, 'grapevineleaves': 2673, 'brownbutter': 705, 'coldmeatloaf': 1429, 'lowfatchickenbroth': 3603, 'peanutbutterchips': 4377, 'whitelilyflour': 6475, 'squashseeds': 5727, 'pastetomato': 4349, 'grainalcohol': 2648, 'praline': 4705, 'pitawraps': 4547, 'mesquiteseasoning': 3879, 'semisweetminichocolatechips': 5327, 'andouilleturkeysausages': 104, 'peeleddicedtomatoes': 4405, 'wholewheatangelhairpasta': 6535, 'nidomilkpowder': 4083, 'frenchstylesandwichrolls': 2299, 'liverwurst': 3557, 'kitchenbouquet': 3279, 'chua': 1298, 'blackgarlic': 485, 'knorrfishstockcubes': 3294, 'criscopurevegetableoil': 1637, 'mian': 3900, 'mandarinorangejuice': 3745, 'eggnog': 2023, 'lowfatcaesardressing': 3597, 'lowfatsmokedsausage': 3648, 'pillsburypiecrusts': 4494, 'brownricepenne': 721, 'mahimahifillet': 3729, 'eyesteaks': 2094, 'brill': 680, 'darkryeflour': 1774, 'samphire': 5228, 'brownsauce': 725, 'creampotatosoup': 1603, 'guanabana': 2838, 'knorronionminicubes': 3300, 'instantteapowder': 3081, 'crabsticks': 1573, 'celerypowder': 969, 'mellowwhitemiso': 3863, 'lowfatcoleslawdressing': 3608, 'hijiki': 2950, 'bakedcorntortillachips': 259, 'cannelloni': 880, 'oguraan': 4156, 'chowchow': 1292, 'hoguecabernetsauvignon': 2958, 'steaktips': 5741, 'jamesonwhiskey': 3147, 'chinesewintermelon': 1193, 'beefcarpaccio': 361, 'wontonnoodles': 6617, 'paprikapaste': 4311, 'gnocchettisardi': 2603, 'progressobalsamicvinegar': 4734, 'chestnutspread': 1045, 'tritipsteak': 6139, 'artisanblends': 169, 'jerkrubseasoning': 3174, 'tandoorimasalamix': 5957, 'ricemix': 5035, 'chinesepepper': 1178, 'heirloomsquash': 2916, 'bananapuree': 289, 'bertollitomato': 424, 'basilsauce': 322, 'smallshells': 5526, 'sunchokes': 5830, 'speck': 5676, 'blood': 520, 'porkheart': 4630, 'miswa': 3966, 'brownbeechmushrooms': 704, 'mincedleansteak': 3931, 'framboiseliqueur': 2274, 'liptononionsoupmix': 3538, 'frozensweetenedraspberries': 2460, 'pancettaslices': 4286, 'belugalentil': 413, 'goatmilkcheese': 2607, 'herdezsalsa': 2935, 'tomatochutney': 6084, 'lightwhippingcream': 3513, 'poolish': 4601, 'robustoitaliandressing': 5097, 'meatdrippings': 3830, 'goyasazon': 2642, 'mozzarellastringcheese': 4013, 'glutenfreeoystersauce': 2591, 'glutenfreetamarisauce': 2599, 'frozenseafood': 2453, 'langoustines': 3390, 'prosciuttofat': 4740, 'vanillabeanseeds': 6270, 'centercutporkroast': 981, 'mashedcauliflower': 3799, 'liptonlemonicedteamix': 3537, 'crackedwheat': 1575, 'spinachtortilla': 5698, 'dipmix': 1837, 'reducedsugarketchup': 4981, 'nonfatmilkpowder': 4111, 'seasonedpankobreadcrumbs': 5300, 'tomateverde': 6080, 'driedneemleaves': 1919, 'glucose': 2570, 'driedshallots': 1942, 'chateaubriand': 1008, 'englishbreakfasttea': 2047, 'germanmustard': 2540, 'mentaiko': 3869, 'garlicpepperblend': 2523, 'herb': 2924, 'dicedbacon': 1807, 'crushedpeppercorn': 1666, 'honeyflavoredgreekstyleyogurt': 2981, 'toastedbuns': 6052, 'arhar': 156, 'borlotti': 609, 'grounddriedshrimp': 2791, 'savoyspinach': 5265, 'roastedpepitas': 5079, 'proscuitto': 4741, 'lowfatvanillawafers': 3658, 'wholeturkey': 6534, 'lowfatshredcheddarcheessharpvarieti': 3646, 'chineseradish': 1180, 'spiceislandsgarlicsalt': 5683, 'spiceislandsgroundcuminseed': 5684, 'cortlandapples': 1551, 'homemademeatballs': 2969, 'successwhiterice': 5809, 'kingcrab': 3267, 'madeleine': 3723, 'homeoriginals': 2973, 'kraftmexicanstyle': 3332, 'milkfinelyshreddedfourcheese': 3921, 'ratatouille': 4859, 'shark': 5356, 'roastedalmondoil': 5068, 'shreddedamericancheese': 5402, 'raspberrysherbet': 4857, 'peachsorbet': 4372, 'wholegrainrotini': 6518, 'georgedickel': 2539, 'bakedpitachips': 261, 'lightdressing': 3500, 'citrusfruit': 1346, 'farmhouseoriginalsitalianwithherbsdressing': 2102, 'spicymayonnaise': 5689, 'coconutbutter': 1388, 'coldcoffee': 1427, 'carnationcondensedmilk': 922, 'panela': 4298, 'coconutsyrup': 1402, 'greengiantwholekernelsweetcorn': 2735, 'grahamflour': 2647, 'drum': 1962, 'madagascarbourbonvanillaextract': 3720, 'datemolasses': 1783, 'raki': 4831, 'fingerling': 2195, 'greekseasoningmix': 2713, 'powderedeggwhites': 4696, 'bermudaonion': 418, 'snipfreshdill': 5573, 'hojasanta': 2961, 'chickenegg': 1070, 'cherryvinegar': 1039, 'wholewheatbreaddough': 6541, 'drainandflake': 1863, 'hakusai': 2862, 'pumpkinseedmole': 4765, 'swansonchickenstock': 5850, 'wholewheatsourdoughbread': 6579, 'linguisa': 3533, 'hotpepperoni': 3019, 'orgeatsyrup': 4243, 'citricacidpowder': 1343, 'cookivanillawafer': 1514, 'italianmeatballs': 3098, 'honeycombtripe': 2977, 'oilpackeddriedtomatoes': 4163, 'norifurikake': 4130, 'knorrreducsodiumchickenflavorbouilloncube': 3305, 'vealescalopes': 6301, 'puffpastrycups': 4755, 'wensleydale': 6419, 'reducedsodiumreducedfatcreammushroomsoup': 4972, 'caramelsyrup': 907, 'lambsliver': 3384, 'unsaltedpecans': 6235, 'doritostortillachips': 1851, 'cinnamontoastcrunchcereal': 1339, 'carrotjuice': 929, 'progressodicedtomatoes': 4736, 'winesap': 6599, 'friselle': 2393, 'aquavit': 148, 'satoimo': 5245, 'jagermeisterliqueur': 3127, 'knorrbeefstockcubes': 3287, 'shreddedlowfatmontereyjackcheese': 5418, 'huckleberries': 3034, 'chickenandricesoup': 1050, 'carp': 926, 'cookeddeliham': 1485, 'vanillalowfatfrozenyogurt': 6283, 'potatostarchflour': 4684, 'lotusleaves': 3584, 'sazongoyawithcorianderandannatto': 5268, 'crosswise': 1645, 'skinlesssnapperfillets': 5480, 'pike': 4492, 'hotfudgetopping': 3010, 'matzos': 3810, 'lowfatdeliham': 3614, 'wildasparagus': 6592, 'youngnettle': 6671, 'saltaddedcannedtomatoes': 5199, 'cinnamonhotcandy': 1334, 'stonefiretandoorigarlicnaan': 5772, 'ramennoodlesoup': 4834, 'chiliconcarne': 1132, 'imitationseafood': 3060, 'softmargarine': 5597, 'darkchocolatecocoapowder': 1764, 'granularsucrolosesweetener': 2661, 'hollandhousewhitewinevinegar': 2964, 'frankfurters': 2278, 'whippeddesserttopping': 6436, 'ragutraditionalsauce': 4825, 'soybasedliquidseasoning': 5644, 'reducedsodiumchickenbouillongranules': 4961, 'mungbeanvermicelli': 4029, 'yogurtlowfat': 6666, 'bonelessduckbreasthalves': 578, 'classicopastasauce': 1357, 'tortelloni': 6116, 'ricemilk': 5034, 'manischewitzpotatostarch': 3759, 'manischewitzmatzomeal': 3758, 'driedlavenderflowers': 1908, 'arcticchar': 153, 'sandwichwraps': 5235, 'tonicwater': 6101, 'chartreuseliqueur': 1007, 'aloejuice': 67, 'saltfreechilipowder': 5215, 'tofusourcream': 6077, 'spicysalami': 5692, 'honeysucklewhite': 2988, 'chocolateextract': 1230, 'chocolategrahamcrackers': 1236, 'cumberlandsausage': 1708, 'cocktailpumpernickelbread': 1381, 'chunkytomatoes': 1312, 'colman': 1440, 'manouri': 3760, 'cherryvanillaicecream': 1038, 'boneinribeyesteak': 556, 'floweringchinesechives': 2255, 'pralinetopping': 4708, 'riblets': 5023, 'puffpaste': 4753, 'barillapluspasta': 304, 'turkeygibletstock': 6180, 'lightchickenstock': 3494, 'conchiglie': 1448, 'milkshreddedmozzarellacheese': 3923, 'makersmarkwhisky': 3735, 'knorrpastasidecheesicheddar': 3303, 'wholegrainbaguette': 6509, 'reducedsodiumham': 4969, 'wholewheatpeasantbread': 6562, 'ranchstyleseasoning': 4843, 'ketjap': 3246, 'chocolateflavoredliqueur': 1231, 'rotinipasta': 5134, 'game': 2497, 'daiya': 1752, 'currymix': 1730, 'kraftslimcutmozzarellacheeseslices': 3345, 'oscarmayercottosalami': 4254, 'challengebutter': 990, 'orangeglaze': 4207, 'cholesterolfreeeggsubstitute': 1256, 'ciabattaloaf': 1320, 'icedteabrewfamilysizeteabags': 3052, 'greekyogurtoriginalranch': 2718, 'lopchong': 3583, 'tomatogarlicpastasauce': 6089, 'crushedcheesecrackers': 1661}\n",
      "\n",
      " IDF :\n",
      " [10.49238156 10.89784667 10.89784667 ...  8.18979647  4.79640727\n",
      " 10.49238156]\n"
     ]
    }
   ],
   "source": [
    "from sklearn.feature_extraction.text import TfidfVectorizer\n",
    "\n",
    "# create the transform\n",
    "tfidf = TfidfVectorizer()\n",
    "\n",
    "# tokenize and build vocab\n",
    "tfidf.fit(documents)\n",
    "\n",
    "# summarize\n",
    "print(\"Vocabulary : \", len(tfidf.vocabulary_))\n",
    "print(\"\\nTF-IDF vocabulary :\\n\", tfidf.vocabulary_)\n",
    "print(\"\\n IDF :\\n\", tfidf.idf_)"
   ]
  },
  {
   "cell_type": "code",
   "execution_count": 26,
   "metadata": {
    "colab": {
     "base_uri": "https://localhost:8080/",
     "height": 34
    },
    "colab_type": "code",
    "id": "wQfkfeKe6q_T",
    "outputId": "2e50f971-b4e4-4d58-d6f8-246b348f4e6f"
   },
   "outputs": [
    {
     "data": {
      "text/plain": [
       "(39774, 6688)"
      ]
     },
     "execution_count": 26,
     "metadata": {},
     "output_type": "execute_result"
    }
   ],
   "source": [
    "tfs = tfidf.fit_transform(documents)\n",
    "tfs.shape"
   ]
  },
  {
   "cell_type": "code",
   "execution_count": 27,
   "metadata": {
    "colab": {
     "base_uri": "https://localhost:8080/",
     "height": 253
    },
    "colab_type": "code",
    "id": "_ANV7uzW6q_X",
    "outputId": "c706e1eb-3fa0-45d3-eb49-7eeb3b2b9d0f"
   },
   "outputs": [
    {
     "data": {
      "text/html": [
       "<div>\n",
       "<style scoped>\n",
       "    .dataframe tbody tr th:only-of-type {\n",
       "        vertical-align: middle;\n",
       "    }\n",
       "\n",
       "    .dataframe tbody tr th {\n",
       "        vertical-align: top;\n",
       "    }\n",
       "\n",
       "    .dataframe thead th {\n",
       "        text-align: right;\n",
       "    }\n",
       "</style>\n",
       "<table border=\"1\" class=\"dataframe\">\n",
       "  <thead>\n",
       "    <tr style=\"text-align: right;\">\n",
       "      <th></th>\n",
       "      <th>abalone</th>\n",
       "      <th>abbamele</th>\n",
       "      <th>absinthe</th>\n",
       "      <th>aburaage</th>\n",
       "      <th>acaijuice</th>\n",
       "      <th>accent</th>\n",
       "      <th>accentseasoning</th>\n",
       "      <th>accompaniment</th>\n",
       "      <th>achiote</th>\n",
       "      <th>achiotepaste</th>\n",
       "      <th>achiotepowder</th>\n",
       "      <th>acinipepe</th>\n",
       "      <th>ackee</th>\n",
       "      <th>acornsquash</th>\n",
       "      <th>activedryyeast</th>\n",
       "      <th>adobo</th>\n",
       "      <th>adoboallpurposeseasoning</th>\n",
       "      <th>adobosauce</th>\n",
       "      <th>adoboseasoning</th>\n",
       "      <th>adobostyleseasoning</th>\n",
       "      <th>adzukibeans</th>\n",
       "      <th>agar</th>\n",
       "      <th>agaragarflakes</th>\n",
       "      <th>agavenectar</th>\n",
       "      <th>agavetequila</th>\n",
       "      <th>agedbalsamicvinegar</th>\n",
       "      <th>agedcheddarcheese</th>\n",
       "      <th>agedgouda</th>\n",
       "      <th>agedmanchegocheese</th>\n",
       "      <th>ahi</th>\n",
       "      <th>...</th>\n",
       "      <th>yellowsummersquash</th>\n",
       "      <th>yellowtail</th>\n",
       "      <th>yellowtailsnapperfillets</th>\n",
       "      <th>yellowtomato</th>\n",
       "      <th>yoghurt</th>\n",
       "      <th>yoghurtnaturallowfat</th>\n",
       "      <th>yogurtcheese</th>\n",
       "      <th>yogurtdressing</th>\n",
       "      <th>yogurtlowfat</th>\n",
       "      <th>yolk</th>\n",
       "      <th>yoplait</th>\n",
       "      <th>youngcoconutmeat</th>\n",
       "      <th>youngleeks</th>\n",
       "      <th>youngnettle</th>\n",
       "      <th>yuca</th>\n",
       "      <th>yucca</th>\n",
       "      <th>yuccaroot</th>\n",
       "      <th>yukongold</th>\n",
       "      <th>yukongoldpotatoes</th>\n",
       "      <th>yuzu</th>\n",
       "      <th>yuzujuice</th>\n",
       "      <th>yuzukosho</th>\n",
       "      <th>zatarain</th>\n",
       "      <th>zatarainscreoleseasoning</th>\n",
       "      <th>zest</th>\n",
       "      <th>zestyitaliandressing</th>\n",
       "      <th>zinfandel</th>\n",
       "      <th>ziti</th>\n",
       "      <th>zucchini</th>\n",
       "      <th>zucchiniblossoms</th>\n",
       "    </tr>\n",
       "  </thead>\n",
       "  <tbody>\n",
       "    <tr>\n",
       "      <th>0</th>\n",
       "      <td>0.0</td>\n",
       "      <td>0.0</td>\n",
       "      <td>0.0</td>\n",
       "      <td>0.0</td>\n",
       "      <td>0.0</td>\n",
       "      <td>0.0</td>\n",
       "      <td>0.0</td>\n",
       "      <td>0.0</td>\n",
       "      <td>0.0</td>\n",
       "      <td>0.0</td>\n",
       "      <td>0.0</td>\n",
       "      <td>0.0</td>\n",
       "      <td>0.0</td>\n",
       "      <td>0.0</td>\n",
       "      <td>0.0</td>\n",
       "      <td>0.0</td>\n",
       "      <td>0.0</td>\n",
       "      <td>0.0</td>\n",
       "      <td>0.0</td>\n",
       "      <td>0.0</td>\n",
       "      <td>0.0</td>\n",
       "      <td>0.0</td>\n",
       "      <td>0.0</td>\n",
       "      <td>0.0</td>\n",
       "      <td>0.0</td>\n",
       "      <td>0.0</td>\n",
       "      <td>0.0</td>\n",
       "      <td>0.0</td>\n",
       "      <td>0.0</td>\n",
       "      <td>0.0</td>\n",
       "      <td>...</td>\n",
       "      <td>0.0</td>\n",
       "      <td>0.0</td>\n",
       "      <td>0.0</td>\n",
       "      <td>0.0</td>\n",
       "      <td>0.0</td>\n",
       "      <td>0.0</td>\n",
       "      <td>0.0</td>\n",
       "      <td>0.0</td>\n",
       "      <td>0.0</td>\n",
       "      <td>0.0</td>\n",
       "      <td>0.0</td>\n",
       "      <td>0.0</td>\n",
       "      <td>0.0</td>\n",
       "      <td>0.0</td>\n",
       "      <td>0.0</td>\n",
       "      <td>0.0</td>\n",
       "      <td>0.0</td>\n",
       "      <td>0.0</td>\n",
       "      <td>0.0</td>\n",
       "      <td>0.0</td>\n",
       "      <td>0.0</td>\n",
       "      <td>0.0</td>\n",
       "      <td>0.0</td>\n",
       "      <td>0.0</td>\n",
       "      <td>0.0</td>\n",
       "      <td>0.0</td>\n",
       "      <td>0.0</td>\n",
       "      <td>0.0</td>\n",
       "      <td>0.0</td>\n",
       "      <td>0.0</td>\n",
       "    </tr>\n",
       "    <tr>\n",
       "      <th>1</th>\n",
       "      <td>0.0</td>\n",
       "      <td>0.0</td>\n",
       "      <td>0.0</td>\n",
       "      <td>0.0</td>\n",
       "      <td>0.0</td>\n",
       "      <td>0.0</td>\n",
       "      <td>0.0</td>\n",
       "      <td>0.0</td>\n",
       "      <td>0.0</td>\n",
       "      <td>0.0</td>\n",
       "      <td>0.0</td>\n",
       "      <td>0.0</td>\n",
       "      <td>0.0</td>\n",
       "      <td>0.0</td>\n",
       "      <td>0.0</td>\n",
       "      <td>0.0</td>\n",
       "      <td>0.0</td>\n",
       "      <td>0.0</td>\n",
       "      <td>0.0</td>\n",
       "      <td>0.0</td>\n",
       "      <td>0.0</td>\n",
       "      <td>0.0</td>\n",
       "      <td>0.0</td>\n",
       "      <td>0.0</td>\n",
       "      <td>0.0</td>\n",
       "      <td>0.0</td>\n",
       "      <td>0.0</td>\n",
       "      <td>0.0</td>\n",
       "      <td>0.0</td>\n",
       "      <td>0.0</td>\n",
       "      <td>...</td>\n",
       "      <td>0.0</td>\n",
       "      <td>0.0</td>\n",
       "      <td>0.0</td>\n",
       "      <td>0.0</td>\n",
       "      <td>0.0</td>\n",
       "      <td>0.0</td>\n",
       "      <td>0.0</td>\n",
       "      <td>0.0</td>\n",
       "      <td>0.0</td>\n",
       "      <td>0.0</td>\n",
       "      <td>0.0</td>\n",
       "      <td>0.0</td>\n",
       "      <td>0.0</td>\n",
       "      <td>0.0</td>\n",
       "      <td>0.0</td>\n",
       "      <td>0.0</td>\n",
       "      <td>0.0</td>\n",
       "      <td>0.0</td>\n",
       "      <td>0.0</td>\n",
       "      <td>0.0</td>\n",
       "      <td>0.0</td>\n",
       "      <td>0.0</td>\n",
       "      <td>0.0</td>\n",
       "      <td>0.0</td>\n",
       "      <td>0.0</td>\n",
       "      <td>0.0</td>\n",
       "      <td>0.0</td>\n",
       "      <td>0.0</td>\n",
       "      <td>0.0</td>\n",
       "      <td>0.0</td>\n",
       "    </tr>\n",
       "    <tr>\n",
       "      <th>2</th>\n",
       "      <td>0.0</td>\n",
       "      <td>0.0</td>\n",
       "      <td>0.0</td>\n",
       "      <td>0.0</td>\n",
       "      <td>0.0</td>\n",
       "      <td>0.0</td>\n",
       "      <td>0.0</td>\n",
       "      <td>0.0</td>\n",
       "      <td>0.0</td>\n",
       "      <td>0.0</td>\n",
       "      <td>0.0</td>\n",
       "      <td>0.0</td>\n",
       "      <td>0.0</td>\n",
       "      <td>0.0</td>\n",
       "      <td>0.0</td>\n",
       "      <td>0.0</td>\n",
       "      <td>0.0</td>\n",
       "      <td>0.0</td>\n",
       "      <td>0.0</td>\n",
       "      <td>0.0</td>\n",
       "      <td>0.0</td>\n",
       "      <td>0.0</td>\n",
       "      <td>0.0</td>\n",
       "      <td>0.0</td>\n",
       "      <td>0.0</td>\n",
       "      <td>0.0</td>\n",
       "      <td>0.0</td>\n",
       "      <td>0.0</td>\n",
       "      <td>0.0</td>\n",
       "      <td>0.0</td>\n",
       "      <td>...</td>\n",
       "      <td>0.0</td>\n",
       "      <td>0.0</td>\n",
       "      <td>0.0</td>\n",
       "      <td>0.0</td>\n",
       "      <td>0.0</td>\n",
       "      <td>0.0</td>\n",
       "      <td>0.0</td>\n",
       "      <td>0.0</td>\n",
       "      <td>0.0</td>\n",
       "      <td>0.0</td>\n",
       "      <td>0.0</td>\n",
       "      <td>0.0</td>\n",
       "      <td>0.0</td>\n",
       "      <td>0.0</td>\n",
       "      <td>0.0</td>\n",
       "      <td>0.0</td>\n",
       "      <td>0.0</td>\n",
       "      <td>0.0</td>\n",
       "      <td>0.0</td>\n",
       "      <td>0.0</td>\n",
       "      <td>0.0</td>\n",
       "      <td>0.0</td>\n",
       "      <td>0.0</td>\n",
       "      <td>0.0</td>\n",
       "      <td>0.0</td>\n",
       "      <td>0.0</td>\n",
       "      <td>0.0</td>\n",
       "      <td>0.0</td>\n",
       "      <td>0.0</td>\n",
       "      <td>0.0</td>\n",
       "    </tr>\n",
       "    <tr>\n",
       "      <th>3</th>\n",
       "      <td>0.0</td>\n",
       "      <td>0.0</td>\n",
       "      <td>0.0</td>\n",
       "      <td>0.0</td>\n",
       "      <td>0.0</td>\n",
       "      <td>0.0</td>\n",
       "      <td>0.0</td>\n",
       "      <td>0.0</td>\n",
       "      <td>0.0</td>\n",
       "      <td>0.0</td>\n",
       "      <td>0.0</td>\n",
       "      <td>0.0</td>\n",
       "      <td>0.0</td>\n",
       "      <td>0.0</td>\n",
       "      <td>0.0</td>\n",
       "      <td>0.0</td>\n",
       "      <td>0.0</td>\n",
       "      <td>0.0</td>\n",
       "      <td>0.0</td>\n",
       "      <td>0.0</td>\n",
       "      <td>0.0</td>\n",
       "      <td>0.0</td>\n",
       "      <td>0.0</td>\n",
       "      <td>0.0</td>\n",
       "      <td>0.0</td>\n",
       "      <td>0.0</td>\n",
       "      <td>0.0</td>\n",
       "      <td>0.0</td>\n",
       "      <td>0.0</td>\n",
       "      <td>0.0</td>\n",
       "      <td>...</td>\n",
       "      <td>0.0</td>\n",
       "      <td>0.0</td>\n",
       "      <td>0.0</td>\n",
       "      <td>0.0</td>\n",
       "      <td>0.0</td>\n",
       "      <td>0.0</td>\n",
       "      <td>0.0</td>\n",
       "      <td>0.0</td>\n",
       "      <td>0.0</td>\n",
       "      <td>0.0</td>\n",
       "      <td>0.0</td>\n",
       "      <td>0.0</td>\n",
       "      <td>0.0</td>\n",
       "      <td>0.0</td>\n",
       "      <td>0.0</td>\n",
       "      <td>0.0</td>\n",
       "      <td>0.0</td>\n",
       "      <td>0.0</td>\n",
       "      <td>0.0</td>\n",
       "      <td>0.0</td>\n",
       "      <td>0.0</td>\n",
       "      <td>0.0</td>\n",
       "      <td>0.0</td>\n",
       "      <td>0.0</td>\n",
       "      <td>0.0</td>\n",
       "      <td>0.0</td>\n",
       "      <td>0.0</td>\n",
       "      <td>0.0</td>\n",
       "      <td>0.0</td>\n",
       "      <td>0.0</td>\n",
       "    </tr>\n",
       "    <tr>\n",
       "      <th>4</th>\n",
       "      <td>0.0</td>\n",
       "      <td>0.0</td>\n",
       "      <td>0.0</td>\n",
       "      <td>0.0</td>\n",
       "      <td>0.0</td>\n",
       "      <td>0.0</td>\n",
       "      <td>0.0</td>\n",
       "      <td>0.0</td>\n",
       "      <td>0.0</td>\n",
       "      <td>0.0</td>\n",
       "      <td>0.0</td>\n",
       "      <td>0.0</td>\n",
       "      <td>0.0</td>\n",
       "      <td>0.0</td>\n",
       "      <td>0.0</td>\n",
       "      <td>0.0</td>\n",
       "      <td>0.0</td>\n",
       "      <td>0.0</td>\n",
       "      <td>0.0</td>\n",
       "      <td>0.0</td>\n",
       "      <td>0.0</td>\n",
       "      <td>0.0</td>\n",
       "      <td>0.0</td>\n",
       "      <td>0.0</td>\n",
       "      <td>0.0</td>\n",
       "      <td>0.0</td>\n",
       "      <td>0.0</td>\n",
       "      <td>0.0</td>\n",
       "      <td>0.0</td>\n",
       "      <td>0.0</td>\n",
       "      <td>...</td>\n",
       "      <td>0.0</td>\n",
       "      <td>0.0</td>\n",
       "      <td>0.0</td>\n",
       "      <td>0.0</td>\n",
       "      <td>0.0</td>\n",
       "      <td>0.0</td>\n",
       "      <td>0.0</td>\n",
       "      <td>0.0</td>\n",
       "      <td>0.0</td>\n",
       "      <td>0.0</td>\n",
       "      <td>0.0</td>\n",
       "      <td>0.0</td>\n",
       "      <td>0.0</td>\n",
       "      <td>0.0</td>\n",
       "      <td>0.0</td>\n",
       "      <td>0.0</td>\n",
       "      <td>0.0</td>\n",
       "      <td>0.0</td>\n",
       "      <td>0.0</td>\n",
       "      <td>0.0</td>\n",
       "      <td>0.0</td>\n",
       "      <td>0.0</td>\n",
       "      <td>0.0</td>\n",
       "      <td>0.0</td>\n",
       "      <td>0.0</td>\n",
       "      <td>0.0</td>\n",
       "      <td>0.0</td>\n",
       "      <td>0.0</td>\n",
       "      <td>0.0</td>\n",
       "      <td>0.0</td>\n",
       "    </tr>\n",
       "  </tbody>\n",
       "</table>\n",
       "<p>5 rows × 6688 columns</p>\n",
       "</div>"
      ],
      "text/plain": [
       "   abalone  abbamele  absinthe  aburaage  acaijuice  accent  accentseasoning  \\\n",
       "0      0.0       0.0       0.0       0.0        0.0     0.0              0.0   \n",
       "1      0.0       0.0       0.0       0.0        0.0     0.0              0.0   \n",
       "2      0.0       0.0       0.0       0.0        0.0     0.0              0.0   \n",
       "3      0.0       0.0       0.0       0.0        0.0     0.0              0.0   \n",
       "4      0.0       0.0       0.0       0.0        0.0     0.0              0.0   \n",
       "\n",
       "   accompaniment  achiote  achiotepaste  achiotepowder  acinipepe  ackee  \\\n",
       "0            0.0      0.0           0.0            0.0        0.0    0.0   \n",
       "1            0.0      0.0           0.0            0.0        0.0    0.0   \n",
       "2            0.0      0.0           0.0            0.0        0.0    0.0   \n",
       "3            0.0      0.0           0.0            0.0        0.0    0.0   \n",
       "4            0.0      0.0           0.0            0.0        0.0    0.0   \n",
       "\n",
       "   acornsquash  activedryyeast  adobo  adoboallpurposeseasoning  adobosauce  \\\n",
       "0          0.0             0.0    0.0                       0.0         0.0   \n",
       "1          0.0             0.0    0.0                       0.0         0.0   \n",
       "2          0.0             0.0    0.0                       0.0         0.0   \n",
       "3          0.0             0.0    0.0                       0.0         0.0   \n",
       "4          0.0             0.0    0.0                       0.0         0.0   \n",
       "\n",
       "   adoboseasoning  adobostyleseasoning  adzukibeans  agar  agaragarflakes  \\\n",
       "0             0.0                  0.0          0.0   0.0             0.0   \n",
       "1             0.0                  0.0          0.0   0.0             0.0   \n",
       "2             0.0                  0.0          0.0   0.0             0.0   \n",
       "3             0.0                  0.0          0.0   0.0             0.0   \n",
       "4             0.0                  0.0          0.0   0.0             0.0   \n",
       "\n",
       "   agavenectar  agavetequila  agedbalsamicvinegar  agedcheddarcheese  \\\n",
       "0          0.0           0.0                  0.0                0.0   \n",
       "1          0.0           0.0                  0.0                0.0   \n",
       "2          0.0           0.0                  0.0                0.0   \n",
       "3          0.0           0.0                  0.0                0.0   \n",
       "4          0.0           0.0                  0.0                0.0   \n",
       "\n",
       "   agedgouda  agedmanchegocheese  ahi        ...         yellowsummersquash  \\\n",
       "0        0.0                 0.0  0.0        ...                        0.0   \n",
       "1        0.0                 0.0  0.0        ...                        0.0   \n",
       "2        0.0                 0.0  0.0        ...                        0.0   \n",
       "3        0.0                 0.0  0.0        ...                        0.0   \n",
       "4        0.0                 0.0  0.0        ...                        0.0   \n",
       "\n",
       "   yellowtail  yellowtailsnapperfillets  yellowtomato  yoghurt  \\\n",
       "0         0.0                       0.0           0.0      0.0   \n",
       "1         0.0                       0.0           0.0      0.0   \n",
       "2         0.0                       0.0           0.0      0.0   \n",
       "3         0.0                       0.0           0.0      0.0   \n",
       "4         0.0                       0.0           0.0      0.0   \n",
       "\n",
       "   yoghurtnaturallowfat  yogurtcheese  yogurtdressing  yogurtlowfat  yolk  \\\n",
       "0                   0.0           0.0             0.0           0.0   0.0   \n",
       "1                   0.0           0.0             0.0           0.0   0.0   \n",
       "2                   0.0           0.0             0.0           0.0   0.0   \n",
       "3                   0.0           0.0             0.0           0.0   0.0   \n",
       "4                   0.0           0.0             0.0           0.0   0.0   \n",
       "\n",
       "   yoplait  youngcoconutmeat  youngleeks  youngnettle  yuca  yucca  yuccaroot  \\\n",
       "0      0.0               0.0         0.0          0.0   0.0    0.0        0.0   \n",
       "1      0.0               0.0         0.0          0.0   0.0    0.0        0.0   \n",
       "2      0.0               0.0         0.0          0.0   0.0    0.0        0.0   \n",
       "3      0.0               0.0         0.0          0.0   0.0    0.0        0.0   \n",
       "4      0.0               0.0         0.0          0.0   0.0    0.0        0.0   \n",
       "\n",
       "   yukongold  yukongoldpotatoes  yuzu  yuzujuice  yuzukosho  zatarain  \\\n",
       "0        0.0                0.0   0.0        0.0        0.0       0.0   \n",
       "1        0.0                0.0   0.0        0.0        0.0       0.0   \n",
       "2        0.0                0.0   0.0        0.0        0.0       0.0   \n",
       "3        0.0                0.0   0.0        0.0        0.0       0.0   \n",
       "4        0.0                0.0   0.0        0.0        0.0       0.0   \n",
       "\n",
       "   zatarainscreoleseasoning  zest  zestyitaliandressing  zinfandel  ziti  \\\n",
       "0                       0.0   0.0                   0.0        0.0   0.0   \n",
       "1                       0.0   0.0                   0.0        0.0   0.0   \n",
       "2                       0.0   0.0                   0.0        0.0   0.0   \n",
       "3                       0.0   0.0                   0.0        0.0   0.0   \n",
       "4                       0.0   0.0                   0.0        0.0   0.0   \n",
       "\n",
       "   zucchini  zucchiniblossoms  \n",
       "0       0.0               0.0  \n",
       "1       0.0               0.0  \n",
       "2       0.0               0.0  \n",
       "3       0.0               0.0  \n",
       "4       0.0               0.0  \n",
       "\n",
       "[5 rows x 6688 columns]"
      ]
     },
     "execution_count": 27,
     "metadata": {},
     "output_type": "execute_result"
    }
   ],
   "source": [
    "X = pd.DataFrame(tfs.toarray(), columns=tfidf.get_feature_names())\n",
    "X.head()"
   ]
  },
  {
   "cell_type": "code",
   "execution_count": 28,
   "metadata": {
    "colab": {
     "base_uri": "https://localhost:8080/",
     "height": 34
    },
    "colab_type": "code",
    "id": "AVpV0-axL9iR",
    "outputId": "18dc3c91-45fb-4b1a-f9a4-016a21f244db"
   },
   "outputs": [
    {
     "data": {
      "text/plain": [
       "(9944, 6688)"
      ]
     },
     "execution_count": 28,
     "metadata": {},
     "output_type": "execute_result"
    }
   ],
   "source": [
    "tfs_test = tfidf.transform(documents_test)\n",
    "tfs_test.shape"
   ]
  },
  {
   "cell_type": "code",
   "execution_count": 29,
   "metadata": {
    "colab": {
     "base_uri": "https://localhost:8080/",
     "height": 253
    },
    "colab_type": "code",
    "id": "lWQIlPfuMlD4",
    "outputId": "e9356eb1-128d-4b2f-dc0c-993424cade2f"
   },
   "outputs": [
    {
     "data": {
      "text/html": [
       "<div>\n",
       "<style scoped>\n",
       "    .dataframe tbody tr th:only-of-type {\n",
       "        vertical-align: middle;\n",
       "    }\n",
       "\n",
       "    .dataframe tbody tr th {\n",
       "        vertical-align: top;\n",
       "    }\n",
       "\n",
       "    .dataframe thead th {\n",
       "        text-align: right;\n",
       "    }\n",
       "</style>\n",
       "<table border=\"1\" class=\"dataframe\">\n",
       "  <thead>\n",
       "    <tr style=\"text-align: right;\">\n",
       "      <th></th>\n",
       "      <th>abalone</th>\n",
       "      <th>abbamele</th>\n",
       "      <th>absinthe</th>\n",
       "      <th>aburaage</th>\n",
       "      <th>acaijuice</th>\n",
       "      <th>accent</th>\n",
       "      <th>accentseasoning</th>\n",
       "      <th>accompaniment</th>\n",
       "      <th>achiote</th>\n",
       "      <th>achiotepaste</th>\n",
       "      <th>achiotepowder</th>\n",
       "      <th>acinipepe</th>\n",
       "      <th>ackee</th>\n",
       "      <th>acornsquash</th>\n",
       "      <th>activedryyeast</th>\n",
       "      <th>adobo</th>\n",
       "      <th>adoboallpurposeseasoning</th>\n",
       "      <th>adobosauce</th>\n",
       "      <th>adoboseasoning</th>\n",
       "      <th>adobostyleseasoning</th>\n",
       "      <th>adzukibeans</th>\n",
       "      <th>agar</th>\n",
       "      <th>agaragarflakes</th>\n",
       "      <th>agavenectar</th>\n",
       "      <th>agavetequila</th>\n",
       "      <th>agedbalsamicvinegar</th>\n",
       "      <th>agedcheddarcheese</th>\n",
       "      <th>agedgouda</th>\n",
       "      <th>agedmanchegocheese</th>\n",
       "      <th>ahi</th>\n",
       "      <th>...</th>\n",
       "      <th>yellowsummersquash</th>\n",
       "      <th>yellowtail</th>\n",
       "      <th>yellowtailsnapperfillets</th>\n",
       "      <th>yellowtomato</th>\n",
       "      <th>yoghurt</th>\n",
       "      <th>yoghurtnaturallowfat</th>\n",
       "      <th>yogurtcheese</th>\n",
       "      <th>yogurtdressing</th>\n",
       "      <th>yogurtlowfat</th>\n",
       "      <th>yolk</th>\n",
       "      <th>yoplait</th>\n",
       "      <th>youngcoconutmeat</th>\n",
       "      <th>youngleeks</th>\n",
       "      <th>youngnettle</th>\n",
       "      <th>yuca</th>\n",
       "      <th>yucca</th>\n",
       "      <th>yuccaroot</th>\n",
       "      <th>yukongold</th>\n",
       "      <th>yukongoldpotatoes</th>\n",
       "      <th>yuzu</th>\n",
       "      <th>yuzujuice</th>\n",
       "      <th>yuzukosho</th>\n",
       "      <th>zatarain</th>\n",
       "      <th>zatarainscreoleseasoning</th>\n",
       "      <th>zest</th>\n",
       "      <th>zestyitaliandressing</th>\n",
       "      <th>zinfandel</th>\n",
       "      <th>ziti</th>\n",
       "      <th>zucchini</th>\n",
       "      <th>zucchiniblossoms</th>\n",
       "    </tr>\n",
       "  </thead>\n",
       "  <tbody>\n",
       "    <tr>\n",
       "      <th>0</th>\n",
       "      <td>0.0</td>\n",
       "      <td>0.0</td>\n",
       "      <td>0.0</td>\n",
       "      <td>0.0</td>\n",
       "      <td>0.0</td>\n",
       "      <td>0.0</td>\n",
       "      <td>0.0</td>\n",
       "      <td>0.0</td>\n",
       "      <td>0.0</td>\n",
       "      <td>0.0</td>\n",
       "      <td>0.0</td>\n",
       "      <td>0.0</td>\n",
       "      <td>0.0</td>\n",
       "      <td>0.0</td>\n",
       "      <td>0.0</td>\n",
       "      <td>0.0</td>\n",
       "      <td>0.0</td>\n",
       "      <td>0.0</td>\n",
       "      <td>0.0</td>\n",
       "      <td>0.0</td>\n",
       "      <td>0.0</td>\n",
       "      <td>0.0</td>\n",
       "      <td>0.0</td>\n",
       "      <td>0.0</td>\n",
       "      <td>0.0</td>\n",
       "      <td>0.0</td>\n",
       "      <td>0.0</td>\n",
       "      <td>0.0</td>\n",
       "      <td>0.0</td>\n",
       "      <td>0.0</td>\n",
       "      <td>...</td>\n",
       "      <td>0.0</td>\n",
       "      <td>0.0</td>\n",
       "      <td>0.0</td>\n",
       "      <td>0.0</td>\n",
       "      <td>0.0</td>\n",
       "      <td>0.0</td>\n",
       "      <td>0.0</td>\n",
       "      <td>0.0</td>\n",
       "      <td>0.0</td>\n",
       "      <td>0.0</td>\n",
       "      <td>0.0</td>\n",
       "      <td>0.0</td>\n",
       "      <td>0.0</td>\n",
       "      <td>0.0</td>\n",
       "      <td>0.0</td>\n",
       "      <td>0.0</td>\n",
       "      <td>0.0</td>\n",
       "      <td>0.0</td>\n",
       "      <td>0.0</td>\n",
       "      <td>0.0</td>\n",
       "      <td>0.0</td>\n",
       "      <td>0.0</td>\n",
       "      <td>0.0</td>\n",
       "      <td>0.0</td>\n",
       "      <td>0.0</td>\n",
       "      <td>0.0</td>\n",
       "      <td>0.0</td>\n",
       "      <td>0.0</td>\n",
       "      <td>0.0</td>\n",
       "      <td>0.0</td>\n",
       "    </tr>\n",
       "    <tr>\n",
       "      <th>1</th>\n",
       "      <td>0.0</td>\n",
       "      <td>0.0</td>\n",
       "      <td>0.0</td>\n",
       "      <td>0.0</td>\n",
       "      <td>0.0</td>\n",
       "      <td>0.0</td>\n",
       "      <td>0.0</td>\n",
       "      <td>0.0</td>\n",
       "      <td>0.0</td>\n",
       "      <td>0.0</td>\n",
       "      <td>0.0</td>\n",
       "      <td>0.0</td>\n",
       "      <td>0.0</td>\n",
       "      <td>0.0</td>\n",
       "      <td>0.0</td>\n",
       "      <td>0.0</td>\n",
       "      <td>0.0</td>\n",
       "      <td>0.0</td>\n",
       "      <td>0.0</td>\n",
       "      <td>0.0</td>\n",
       "      <td>0.0</td>\n",
       "      <td>0.0</td>\n",
       "      <td>0.0</td>\n",
       "      <td>0.0</td>\n",
       "      <td>0.0</td>\n",
       "      <td>0.0</td>\n",
       "      <td>0.0</td>\n",
       "      <td>0.0</td>\n",
       "      <td>0.0</td>\n",
       "      <td>0.0</td>\n",
       "      <td>...</td>\n",
       "      <td>0.0</td>\n",
       "      <td>0.0</td>\n",
       "      <td>0.0</td>\n",
       "      <td>0.0</td>\n",
       "      <td>0.0</td>\n",
       "      <td>0.0</td>\n",
       "      <td>0.0</td>\n",
       "      <td>0.0</td>\n",
       "      <td>0.0</td>\n",
       "      <td>0.0</td>\n",
       "      <td>0.0</td>\n",
       "      <td>0.0</td>\n",
       "      <td>0.0</td>\n",
       "      <td>0.0</td>\n",
       "      <td>0.0</td>\n",
       "      <td>0.0</td>\n",
       "      <td>0.0</td>\n",
       "      <td>0.0</td>\n",
       "      <td>0.0</td>\n",
       "      <td>0.0</td>\n",
       "      <td>0.0</td>\n",
       "      <td>0.0</td>\n",
       "      <td>0.0</td>\n",
       "      <td>0.0</td>\n",
       "      <td>0.0</td>\n",
       "      <td>0.0</td>\n",
       "      <td>0.0</td>\n",
       "      <td>0.0</td>\n",
       "      <td>0.0</td>\n",
       "      <td>0.0</td>\n",
       "    </tr>\n",
       "    <tr>\n",
       "      <th>2</th>\n",
       "      <td>0.0</td>\n",
       "      <td>0.0</td>\n",
       "      <td>0.0</td>\n",
       "      <td>0.0</td>\n",
       "      <td>0.0</td>\n",
       "      <td>0.0</td>\n",
       "      <td>0.0</td>\n",
       "      <td>0.0</td>\n",
       "      <td>0.0</td>\n",
       "      <td>0.0</td>\n",
       "      <td>0.0</td>\n",
       "      <td>0.0</td>\n",
       "      <td>0.0</td>\n",
       "      <td>0.0</td>\n",
       "      <td>0.0</td>\n",
       "      <td>0.0</td>\n",
       "      <td>0.0</td>\n",
       "      <td>0.0</td>\n",
       "      <td>0.0</td>\n",
       "      <td>0.0</td>\n",
       "      <td>0.0</td>\n",
       "      <td>0.0</td>\n",
       "      <td>0.0</td>\n",
       "      <td>0.0</td>\n",
       "      <td>0.0</td>\n",
       "      <td>0.0</td>\n",
       "      <td>0.0</td>\n",
       "      <td>0.0</td>\n",
       "      <td>0.0</td>\n",
       "      <td>0.0</td>\n",
       "      <td>...</td>\n",
       "      <td>0.0</td>\n",
       "      <td>0.0</td>\n",
       "      <td>0.0</td>\n",
       "      <td>0.0</td>\n",
       "      <td>0.0</td>\n",
       "      <td>0.0</td>\n",
       "      <td>0.0</td>\n",
       "      <td>0.0</td>\n",
       "      <td>0.0</td>\n",
       "      <td>0.0</td>\n",
       "      <td>0.0</td>\n",
       "      <td>0.0</td>\n",
       "      <td>0.0</td>\n",
       "      <td>0.0</td>\n",
       "      <td>0.0</td>\n",
       "      <td>0.0</td>\n",
       "      <td>0.0</td>\n",
       "      <td>0.0</td>\n",
       "      <td>0.0</td>\n",
       "      <td>0.0</td>\n",
       "      <td>0.0</td>\n",
       "      <td>0.0</td>\n",
       "      <td>0.0</td>\n",
       "      <td>0.0</td>\n",
       "      <td>0.0</td>\n",
       "      <td>0.0</td>\n",
       "      <td>0.0</td>\n",
       "      <td>0.0</td>\n",
       "      <td>0.0</td>\n",
       "      <td>0.0</td>\n",
       "    </tr>\n",
       "    <tr>\n",
       "      <th>3</th>\n",
       "      <td>0.0</td>\n",
       "      <td>0.0</td>\n",
       "      <td>0.0</td>\n",
       "      <td>0.0</td>\n",
       "      <td>0.0</td>\n",
       "      <td>0.0</td>\n",
       "      <td>0.0</td>\n",
       "      <td>0.0</td>\n",
       "      <td>0.0</td>\n",
       "      <td>0.0</td>\n",
       "      <td>0.0</td>\n",
       "      <td>0.0</td>\n",
       "      <td>0.0</td>\n",
       "      <td>0.0</td>\n",
       "      <td>0.0</td>\n",
       "      <td>0.0</td>\n",
       "      <td>0.0</td>\n",
       "      <td>0.0</td>\n",
       "      <td>0.0</td>\n",
       "      <td>0.0</td>\n",
       "      <td>0.0</td>\n",
       "      <td>0.0</td>\n",
       "      <td>0.0</td>\n",
       "      <td>0.0</td>\n",
       "      <td>0.0</td>\n",
       "      <td>0.0</td>\n",
       "      <td>0.0</td>\n",
       "      <td>0.0</td>\n",
       "      <td>0.0</td>\n",
       "      <td>0.0</td>\n",
       "      <td>...</td>\n",
       "      <td>0.0</td>\n",
       "      <td>0.0</td>\n",
       "      <td>0.0</td>\n",
       "      <td>0.0</td>\n",
       "      <td>0.0</td>\n",
       "      <td>0.0</td>\n",
       "      <td>0.0</td>\n",
       "      <td>0.0</td>\n",
       "      <td>0.0</td>\n",
       "      <td>0.0</td>\n",
       "      <td>0.0</td>\n",
       "      <td>0.0</td>\n",
       "      <td>0.0</td>\n",
       "      <td>0.0</td>\n",
       "      <td>0.0</td>\n",
       "      <td>0.0</td>\n",
       "      <td>0.0</td>\n",
       "      <td>0.0</td>\n",
       "      <td>0.0</td>\n",
       "      <td>0.0</td>\n",
       "      <td>0.0</td>\n",
       "      <td>0.0</td>\n",
       "      <td>0.0</td>\n",
       "      <td>0.0</td>\n",
       "      <td>0.0</td>\n",
       "      <td>0.0</td>\n",
       "      <td>0.0</td>\n",
       "      <td>0.0</td>\n",
       "      <td>0.0</td>\n",
       "      <td>0.0</td>\n",
       "    </tr>\n",
       "    <tr>\n",
       "      <th>4</th>\n",
       "      <td>0.0</td>\n",
       "      <td>0.0</td>\n",
       "      <td>0.0</td>\n",
       "      <td>0.0</td>\n",
       "      <td>0.0</td>\n",
       "      <td>0.0</td>\n",
       "      <td>0.0</td>\n",
       "      <td>0.0</td>\n",
       "      <td>0.0</td>\n",
       "      <td>0.0</td>\n",
       "      <td>0.0</td>\n",
       "      <td>0.0</td>\n",
       "      <td>0.0</td>\n",
       "      <td>0.0</td>\n",
       "      <td>0.0</td>\n",
       "      <td>0.0</td>\n",
       "      <td>0.0</td>\n",
       "      <td>0.0</td>\n",
       "      <td>0.0</td>\n",
       "      <td>0.0</td>\n",
       "      <td>0.0</td>\n",
       "      <td>0.0</td>\n",
       "      <td>0.0</td>\n",
       "      <td>0.0</td>\n",
       "      <td>0.0</td>\n",
       "      <td>0.0</td>\n",
       "      <td>0.0</td>\n",
       "      <td>0.0</td>\n",
       "      <td>0.0</td>\n",
       "      <td>0.0</td>\n",
       "      <td>...</td>\n",
       "      <td>0.0</td>\n",
       "      <td>0.0</td>\n",
       "      <td>0.0</td>\n",
       "      <td>0.0</td>\n",
       "      <td>0.0</td>\n",
       "      <td>0.0</td>\n",
       "      <td>0.0</td>\n",
       "      <td>0.0</td>\n",
       "      <td>0.0</td>\n",
       "      <td>0.0</td>\n",
       "      <td>0.0</td>\n",
       "      <td>0.0</td>\n",
       "      <td>0.0</td>\n",
       "      <td>0.0</td>\n",
       "      <td>0.0</td>\n",
       "      <td>0.0</td>\n",
       "      <td>0.0</td>\n",
       "      <td>0.0</td>\n",
       "      <td>0.0</td>\n",
       "      <td>0.0</td>\n",
       "      <td>0.0</td>\n",
       "      <td>0.0</td>\n",
       "      <td>0.0</td>\n",
       "      <td>0.0</td>\n",
       "      <td>0.0</td>\n",
       "      <td>0.0</td>\n",
       "      <td>0.0</td>\n",
       "      <td>0.0</td>\n",
       "      <td>0.0</td>\n",
       "      <td>0.0</td>\n",
       "    </tr>\n",
       "  </tbody>\n",
       "</table>\n",
       "<p>5 rows × 6688 columns</p>\n",
       "</div>"
      ],
      "text/plain": [
       "   abalone  abbamele  absinthe  aburaage  acaijuice  accent  accentseasoning  \\\n",
       "0      0.0       0.0       0.0       0.0        0.0     0.0              0.0   \n",
       "1      0.0       0.0       0.0       0.0        0.0     0.0              0.0   \n",
       "2      0.0       0.0       0.0       0.0        0.0     0.0              0.0   \n",
       "3      0.0       0.0       0.0       0.0        0.0     0.0              0.0   \n",
       "4      0.0       0.0       0.0       0.0        0.0     0.0              0.0   \n",
       "\n",
       "   accompaniment  achiote  achiotepaste  achiotepowder  acinipepe  ackee  \\\n",
       "0            0.0      0.0           0.0            0.0        0.0    0.0   \n",
       "1            0.0      0.0           0.0            0.0        0.0    0.0   \n",
       "2            0.0      0.0           0.0            0.0        0.0    0.0   \n",
       "3            0.0      0.0           0.0            0.0        0.0    0.0   \n",
       "4            0.0      0.0           0.0            0.0        0.0    0.0   \n",
       "\n",
       "   acornsquash  activedryyeast  adobo  adoboallpurposeseasoning  adobosauce  \\\n",
       "0          0.0             0.0    0.0                       0.0         0.0   \n",
       "1          0.0             0.0    0.0                       0.0         0.0   \n",
       "2          0.0             0.0    0.0                       0.0         0.0   \n",
       "3          0.0             0.0    0.0                       0.0         0.0   \n",
       "4          0.0             0.0    0.0                       0.0         0.0   \n",
       "\n",
       "   adoboseasoning  adobostyleseasoning  adzukibeans  agar  agaragarflakes  \\\n",
       "0             0.0                  0.0          0.0   0.0             0.0   \n",
       "1             0.0                  0.0          0.0   0.0             0.0   \n",
       "2             0.0                  0.0          0.0   0.0             0.0   \n",
       "3             0.0                  0.0          0.0   0.0             0.0   \n",
       "4             0.0                  0.0          0.0   0.0             0.0   \n",
       "\n",
       "   agavenectar  agavetequila  agedbalsamicvinegar  agedcheddarcheese  \\\n",
       "0          0.0           0.0                  0.0                0.0   \n",
       "1          0.0           0.0                  0.0                0.0   \n",
       "2          0.0           0.0                  0.0                0.0   \n",
       "3          0.0           0.0                  0.0                0.0   \n",
       "4          0.0           0.0                  0.0                0.0   \n",
       "\n",
       "   agedgouda  agedmanchegocheese  ahi        ...         yellowsummersquash  \\\n",
       "0        0.0                 0.0  0.0        ...                        0.0   \n",
       "1        0.0                 0.0  0.0        ...                        0.0   \n",
       "2        0.0                 0.0  0.0        ...                        0.0   \n",
       "3        0.0                 0.0  0.0        ...                        0.0   \n",
       "4        0.0                 0.0  0.0        ...                        0.0   \n",
       "\n",
       "   yellowtail  yellowtailsnapperfillets  yellowtomato  yoghurt  \\\n",
       "0         0.0                       0.0           0.0      0.0   \n",
       "1         0.0                       0.0           0.0      0.0   \n",
       "2         0.0                       0.0           0.0      0.0   \n",
       "3         0.0                       0.0           0.0      0.0   \n",
       "4         0.0                       0.0           0.0      0.0   \n",
       "\n",
       "   yoghurtnaturallowfat  yogurtcheese  yogurtdressing  yogurtlowfat  yolk  \\\n",
       "0                   0.0           0.0             0.0           0.0   0.0   \n",
       "1                   0.0           0.0             0.0           0.0   0.0   \n",
       "2                   0.0           0.0             0.0           0.0   0.0   \n",
       "3                   0.0           0.0             0.0           0.0   0.0   \n",
       "4                   0.0           0.0             0.0           0.0   0.0   \n",
       "\n",
       "   yoplait  youngcoconutmeat  youngleeks  youngnettle  yuca  yucca  yuccaroot  \\\n",
       "0      0.0               0.0         0.0          0.0   0.0    0.0        0.0   \n",
       "1      0.0               0.0         0.0          0.0   0.0    0.0        0.0   \n",
       "2      0.0               0.0         0.0          0.0   0.0    0.0        0.0   \n",
       "3      0.0               0.0         0.0          0.0   0.0    0.0        0.0   \n",
       "4      0.0               0.0         0.0          0.0   0.0    0.0        0.0   \n",
       "\n",
       "   yukongold  yukongoldpotatoes  yuzu  yuzujuice  yuzukosho  zatarain  \\\n",
       "0        0.0                0.0   0.0        0.0        0.0       0.0   \n",
       "1        0.0                0.0   0.0        0.0        0.0       0.0   \n",
       "2        0.0                0.0   0.0        0.0        0.0       0.0   \n",
       "3        0.0                0.0   0.0        0.0        0.0       0.0   \n",
       "4        0.0                0.0   0.0        0.0        0.0       0.0   \n",
       "\n",
       "   zatarainscreoleseasoning  zest  zestyitaliandressing  zinfandel  ziti  \\\n",
       "0                       0.0   0.0                   0.0        0.0   0.0   \n",
       "1                       0.0   0.0                   0.0        0.0   0.0   \n",
       "2                       0.0   0.0                   0.0        0.0   0.0   \n",
       "3                       0.0   0.0                   0.0        0.0   0.0   \n",
       "4                       0.0   0.0                   0.0        0.0   0.0   \n",
       "\n",
       "   zucchini  zucchiniblossoms  \n",
       "0       0.0               0.0  \n",
       "1       0.0               0.0  \n",
       "2       0.0               0.0  \n",
       "3       0.0               0.0  \n",
       "4       0.0               0.0  \n",
       "\n",
       "[5 rows x 6688 columns]"
      ]
     },
     "execution_count": 29,
     "metadata": {},
     "output_type": "execute_result"
    }
   ],
   "source": [
    "Xtest = pd.DataFrame(tfs_test.toarray(), columns=tfidf.get_feature_names())\n",
    "Xtest.head()"
   ]
  },
  {
   "cell_type": "markdown",
   "metadata": {
    "colab_type": "text",
    "id": "vfnZ_c726q_d"
   },
   "source": [
    "## Label Encoding"
   ]
  },
  {
   "cell_type": "code",
   "execution_count": 30,
   "metadata": {
    "colab": {},
    "colab_type": "code",
    "id": "l2hxbsaD6q_e"
   },
   "outputs": [],
   "source": [
    "from sklearn.preprocessing import LabelEncoder\n",
    "\n",
    "cuisine_type = pd.DataFrame()\n",
    "lb_encoder = LabelEncoder()\n",
    "cuisine_type['cuisine_type_label'] = lb_encoder.fit_transform(df_train[\"cuisine\"])\n",
    "cuisine_type['cuisine_type'] = lb_encoder.inverse_transform(cuisine_type['cuisine_type_label'])\n",
    "\n",
    "y = pd.DataFrame(cuisine_type['cuisine_type_label'])"
   ]
  },
  {
   "cell_type": "markdown",
   "metadata": {
    "colab_type": "text",
    "id": "0D_nh1IF6q_h"
   },
   "source": [
    "## Model"
   ]
  },
  {
   "cell_type": "code",
   "execution_count": 31,
   "metadata": {
    "colab": {},
    "colab_type": "code",
    "id": "yaCcB0HC6q_j"
   },
   "outputs": [],
   "source": [
    "# Train test split\n",
    "X_train, X_test, y_train, y_test = train_test_split(X, y, test_size=0.2, random_state=22)"
   ]
  },
  {
   "cell_type": "code",
   "execution_count": 30,
   "metadata": {
    "colab": {
     "base_uri": "https://localhost:8080/",
     "height": 51
    },
    "colab_type": "code",
    "id": "8fRRiP00-GI8",
    "outputId": "545eeebf-9426-4e00-88d4-67fe30e075d0"
   },
   "outputs": [
    {
     "name": "stdout",
     "output_type": "stream",
     "text": [
      "Training done in 2.226s\n",
      "Score SVC =  0.7876807039597737\n"
     ]
    }
   ],
   "source": [
    "from sklearn.svm import LinearSVC\n",
    "\n",
    "t1 = time()\n",
    "\n",
    "clf = LinearSVC(random_state=0, tol=1e-5)\n",
    "clf.fit(X_train, np.ravel(y_train))\n",
    "score = accuracy_score(clf.predict(X_test), np.ravel(y_test))\n",
    "\n",
    "print(\"Training done in %0.3fs\" % (time() - t1))\n",
    "print('Score SVC = ', score)"
   ]
  },
  {
   "cell_type": "code",
   "execution_count": 31,
   "metadata": {
    "colab": {
     "base_uri": "https://localhost:8080/",
     "height": 68
    },
    "colab_type": "code",
    "id": "aOx5Twma6q_p",
    "outputId": "e3d12216-16c9-4655-a57c-f42eb81c179e"
   },
   "outputs": [
    {
     "name": "stdout",
     "output_type": "stream",
     "text": [
      "Training done in 23.897s\n",
      "Cross-validated scores [0.78357759 0.7892728  0.79023508 0.79062751 0.78294106 0.77198632\n",
      " 0.7943191  0.79222088]\n"
     ]
    }
   ],
   "source": [
    "from sklearn.model_selection import cross_val_score, cross_val_predict\n",
    "from sklearn import metrics\n",
    "\n",
    "t1 = time()\n",
    "\n",
    "model = LinearSVC(random_state=0, tol=1e-5)\n",
    "scores = cross_val_score(model, X, np.ravel(y), cv=8)\n",
    "\n",
    "print(\"Training done in %0.3fs\" % (time() - t1))\n",
    "print(\"Cross-validated scores\", scores)\n"
   ]
  },
  {
   "cell_type": "code",
   "execution_count": 0,
   "metadata": {
    "colab": {},
    "colab_type": "code",
    "id": "hPvTHbQMKmqg"
   },
   "outputs": [],
   "source": [
    "model.fit(X, np.ravel(y))\n",
    "y_pred = model.predict(Xtest)"
   ]
  },
  {
   "cell_type": "code",
   "execution_count": 35,
   "metadata": {
    "colab": {
     "base_uri": "https://localhost:8080/",
     "height": 51
    },
    "colab_type": "code",
    "id": "DqRbk0TYNSjK",
    "outputId": "860f954e-93f8-4faa-8cb8-c4925c0acf9b"
   },
   "outputs": [
    {
     "data": {
      "text/plain": [
       "array(['british', 'southern_us', 'italian', ..., 'italian', 'southern_us',\n",
       "       'mexican'], dtype=object)"
      ]
     },
     "execution_count": 35,
     "metadata": {
      "tags": []
     },
     "output_type": "execute_result"
    }
   ],
   "source": [
    "y_pred = lb_encoder.inverse_transform(y_pred)\n",
    "y_pred"
   ]
  },
  {
   "cell_type": "code",
   "execution_count": 38,
   "metadata": {
    "colab": {
     "base_uri": "https://localhost:8080/",
     "height": 204
    },
    "colab_type": "code",
    "id": "UulshlvgNfHp",
    "outputId": "af7a1948-1b5d-4f39-9b25-ec4445f3cd0b"
   },
   "outputs": [
    {
     "data": {
      "text/html": [
       "<div>\n",
       "<style scoped>\n",
       "    .dataframe tbody tr th:only-of-type {\n",
       "        vertical-align: middle;\n",
       "    }\n",
       "\n",
       "    .dataframe tbody tr th {\n",
       "        vertical-align: top;\n",
       "    }\n",
       "\n",
       "    .dataframe thead th {\n",
       "        text-align: right;\n",
       "    }\n",
       "</style>\n",
       "<table border=\"1\" class=\"dataframe\">\n",
       "  <thead>\n",
       "    <tr style=\"text-align: right;\">\n",
       "      <th></th>\n",
       "      <th>id</th>\n",
       "      <th>cuisine</th>\n",
       "    </tr>\n",
       "  </thead>\n",
       "  <tbody>\n",
       "    <tr>\n",
       "      <th>0</th>\n",
       "      <td>18009</td>\n",
       "      <td>british</td>\n",
       "    </tr>\n",
       "    <tr>\n",
       "      <th>1</th>\n",
       "      <td>28583</td>\n",
       "      <td>southern_us</td>\n",
       "    </tr>\n",
       "    <tr>\n",
       "      <th>2</th>\n",
       "      <td>41580</td>\n",
       "      <td>italian</td>\n",
       "    </tr>\n",
       "    <tr>\n",
       "      <th>3</th>\n",
       "      <td>29752</td>\n",
       "      <td>cajun_creole</td>\n",
       "    </tr>\n",
       "    <tr>\n",
       "      <th>4</th>\n",
       "      <td>35687</td>\n",
       "      <td>italian</td>\n",
       "    </tr>\n",
       "  </tbody>\n",
       "</table>\n",
       "</div>"
      ],
      "text/plain": [
       "      id       cuisine\n",
       "0  18009       british\n",
       "1  28583   southern_us\n",
       "2  41580       italian\n",
       "3  29752  cajun_creole\n",
       "4  35687       italian"
      ]
     },
     "execution_count": 38,
     "metadata": {
      "tags": []
     },
     "output_type": "execute_result"
    }
   ],
   "source": [
    "df_test['cuisine'] = y_pred\n",
    "df_test[['id', 'cuisine']].head()"
   ]
  },
  {
   "cell_type": "code",
   "execution_count": 0,
   "metadata": {
    "colab": {},
    "colab_type": "code",
    "id": "S9PBgvy8Ovn5"
   },
   "outputs": [],
   "source": [
    "df_test[['id', 'cuisine']].to_csv('submission2.csv', index=False)"
   ]
  },
  {
   "cell_type": "code",
   "execution_count": 0,
   "metadata": {
    "colab": {},
    "colab_type": "code",
    "id": "zWE4g3LbD3pW"
   },
   "outputs": [],
   "source": [
    "import xgboost as xgb\n",
    "from xgboost import XGBClassifier\n",
    "\n",
    "xgb_model = XGBClassifier()\n",
    "xgb_model = XGBClassifier(learning_rate=0.1,n_estimators=100)\n",
    "xgb_model.fit(X_train, np.ravel(y_train))\n",
    "score = accuracy_score(clf.predict(X_test), np.ravel(y_test))\n",
    "\n",
    "print(\"Score SVC : \", score)"
   ]
  },
  {
   "cell_type": "code",
   "execution_count": 0,
   "metadata": {
    "colab": {},
    "colab_type": "code",
    "id": "PaFwU846B5Xo"
   },
   "outputs": [],
   "source": [
    "from sklearn.svm import SVC\n",
    "\n",
    "t1 = time()\n",
    "\n",
    "clf = SVC(kernel='linear', C=1, random_state=0, gamma='auto')\n",
    "clf.fit(X_train, y_train) \n",
    "score = accuracy_score(clf.predict(X_test), y_test)\n",
    "\n",
    "print(\"Training done in %0.3fs\" % (time() - t1))\n",
    "print('Score SVC = ', score)"
   ]
  }
 ],
 "metadata": {
  "accelerator": "GPU",
  "colab": {
   "collapsed_sections": [],
   "name": "WhatsCooking.ipynb",
   "provenance": [],
   "version": "0.3.2"
  },
  "kernelspec": {
   "display_name": "Python 3",
   "language": "python",
   "name": "python3"
  },
  "language_info": {
   "codemirror_mode": {
    "name": "ipython",
    "version": 3
   },
   "file_extension": ".py",
   "mimetype": "text/x-python",
   "name": "python",
   "nbconvert_exporter": "python",
   "pygments_lexer": "ipython3",
   "version": "3.6.7"
  }
 },
 "nbformat": 4,
 "nbformat_minor": 1
}
